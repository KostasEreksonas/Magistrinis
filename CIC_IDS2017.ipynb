{
 "cells": [
  {
   "cell_type": "markdown",
   "id": "907e836c-143f-4707-937c-2a7221738c14",
   "metadata": {},
   "source": [
    "# CIC IDS 2017"
   ]
  },
  {
   "cell_type": "markdown",
   "id": "b96f30b8-2d0b-4825-a8f1-c3ad8faabaf5",
   "metadata": {},
   "source": [
    "# 1. Import libraries"
   ]
  },
  {
   "cell_type": "code",
   "execution_count": 2,
   "id": "6f6907d9-cd7d-47f7-8d45-023bfc28c8fa",
   "metadata": {},
   "outputs": [],
   "source": [
    "import os\n",
    "import gc\n",
    "import optuna\n",
    "import numpy as np\n",
    "import pandas as pd\n",
    "import seaborn as sns\n",
    "import matplotlib.pyplot as plt\n",
    "%matplotlib inline\n",
    "\n",
    "from prettytable import PrettyTable\n",
    "from sklearn.model_selection import train_test_split, StratifiedKFold\n",
    "\n",
    "from sklearn.preprocessing import LabelEncoder, StandardScaler, MinMaxScaler\n",
    "\n",
    "from xgboost import XGBClassifier\n",
    "from lightgbm import LGBMClassifier\n",
    "from sklearn.ensemble import RandomForestClassifier\n",
    "from xgboost.callback import EarlyStopping"
   ]
  },
  {
   "cell_type": "code",
   "execution_count": 2,
   "id": "30f6db93-1ed1-4a63-b4c3-f2854e5c6183",
   "metadata": {
    "collapsed": true,
    "jupyter": {
     "outputs_hidden": true
    }
   },
   "outputs": [
    {
     "name": "stdout",
     "output_type": "stream",
     "text": [
      "data/CIC_IDS_2017/README.md\n",
      "data/CIC_IDS_2017/MachineLearningCSV.zip\n",
      "data/CIC_IDS_2017/GeneratedLabelledFlows.md5\n",
      "data/CIC_IDS_2017/GeneratedLabelledFlows.zip\n",
      "data/CIC_IDS_2017/download_dataset\n",
      "data/CIC_IDS_2017/MachineLearningCSV.md5\n",
      "data/CIC_IDS_2017/TrafficLabelling /Thursday-WorkingHours-Afternoon-Infilteration.pcap_ISCX.csv\n",
      "data/CIC_IDS_2017/TrafficLabelling /Monday-WorkingHours.pcap_ISCX.csv\n",
      "data/CIC_IDS_2017/TrafficLabelling /Friday-WorkingHours-Morning.pcap_ISCX.csv\n",
      "data/CIC_IDS_2017/TrafficLabelling /Friday-WorkingHours-Afternoon-DDos.pcap_ISCX.csv\n",
      "data/CIC_IDS_2017/TrafficLabelling /Tuesday-WorkingHours.pcap_ISCX.csv\n",
      "data/CIC_IDS_2017/TrafficLabelling /Friday-WorkingHours-Afternoon-PortScan.pcap_ISCX.csv\n",
      "data/CIC_IDS_2017/TrafficLabelling /Wednesday-workingHours.pcap_ISCX.csv\n",
      "data/CIC_IDS_2017/TrafficLabelling /Thursday-WorkingHours-Morning-WebAttacks.pcap_ISCX.csv\n",
      "data/CIC_IDS_2017/MachineLearningCVE/Thursday-WorkingHours-Afternoon-Infilteration.pcap_ISCX.csv\n",
      "data/CIC_IDS_2017/MachineLearningCVE/Monday-WorkingHours.pcap_ISCX.csv\n",
      "data/CIC_IDS_2017/MachineLearningCVE/Friday-WorkingHours-Morning.pcap_ISCX.csv\n",
      "data/CIC_IDS_2017/MachineLearningCVE/Friday-WorkingHours-Afternoon-DDos.pcap_ISCX.csv\n",
      "data/CIC_IDS_2017/MachineLearningCVE/Tuesday-WorkingHours.pcap_ISCX.csv\n",
      "data/CIC_IDS_2017/MachineLearningCVE/Friday-WorkingHours-Afternoon-PortScan.pcap_ISCX.csv\n",
      "data/CIC_IDS_2017/MachineLearningCVE/Wednesday-workingHours.pcap_ISCX.csv\n",
      "data/CIC_IDS_2017/MachineLearningCVE/Thursday-WorkingHours-Morning-WebAttacks.pcap_ISCX.csv\n"
     ]
    }
   ],
   "source": [
    "for dirname, _, filenames in os.walk('data/CIC_IDS_2017/'):\n",
    "    for filename in filenames:\n",
    "        print(os.path.join(dirname, filename))"
   ]
  },
  {
   "cell_type": "markdown",
   "id": "78110435-3032-46c9-bf56-0179f916b46b",
   "metadata": {},
   "source": [
    "# 2. Load data"
   ]
  },
  {
   "cell_type": "code",
   "execution_count": 4,
   "id": "5a7e1871-943f-4887-98e9-4cc1b729c9b2",
   "metadata": {},
   "outputs": [],
   "source": [
    "monday = pd.read_csv('data/CIC_IDS_2017/MachineLearningCVE/Monday-WorkingHours.pcap_ISCX.csv', sep=\",\", encoding='utf-8')\n",
    "tuesday = pd.read_csv('data/CIC_IDS_2017/MachineLearningCVE/Tuesday-WorkingHours.pcap_ISCX.csv', sep=\",\", encoding='utf-8')\n",
    "wednesday = pd.read_csv('data/CIC_IDS_2017/MachineLearningCVE/Wednesday-workingHours.pcap_ISCX.csv', sep=\",\", encoding='utf-8')\n",
    "thursday_morning = pd.read_csv('data/CIC_IDS_2017/MachineLearningCVE/Thursday-WorkingHours-Morning-WebAttacks.pcap_ISCX.csv', sep=\",\", encoding='utf-8')\n",
    "thursday_afternoon = pd.read_csv('data/CIC_IDS_2017/MachineLearningCVE/Thursday-WorkingHours-Afternoon-Infilteration.pcap_ISCX.csv', sep=\",\", encoding='utf-8')\n",
    "friday_ddos = pd.read_csv('data/CIC_IDS_2017/MachineLearningCVE/Friday-WorkingHours-Afternoon-DDos.pcap_ISCX.csv', sep=\",\", encoding='utf-8')\n",
    "friday_pcap = pd.read_csv('data/CIC_IDS_2017/MachineLearningCVE/Friday-WorkingHours-Afternoon-PortScan.pcap_ISCX.csv', sep=\",\", encoding='utf-8')\n",
    "friday_morning = pd.read_csv('data/CIC_IDS_2017/MachineLearningCVE/Friday-WorkingHours-Morning.pcap_ISCX.csv', sep=\",\", encoding='utf-8')\n",
    "monday.name = 'Monday'\n",
    "tuesday.name = 'Tuesday'\n",
    "wednesday.name = 'Wednesday'\n",
    "thursday_morning.name = 'Thursday_Morning'\n",
    "thursday_afternoon.name = 'Thursday_Afternoon'\n",
    "friday_ddos.name = 'Friday_DDoS'\n",
    "friday_pcap.name = 'Friday_Pcap'\n",
    "friday_morning.name = 'Friday_Morning'"
   ]
  },
  {
   "cell_type": "code",
   "execution_count": 20,
   "id": "76e3d005-87e1-4a64-a1b1-f258733d5e85",
   "metadata": {},
   "outputs": [],
   "source": [
    "def missing_values(df):\n",
    "    \"\"\"\n",
    "    Print a table with missing values\n",
    "    \"\"\"\n",
    "    table = PrettyTable([\"Column\", \"All Values\", \"Missing Values\", \"% of missing values\"])\n",
    "    NaN_columns = []\n",
    "    columns = df.columns\n",
    "    for column in columns:\n",
    "        all_values = df[column].count()\n",
    "        missing_values = df[column].isna().sum()\n",
    "        if missing_values > 0:\n",
    "            NaN_columns.append(column)\n",
    "        percentage = f'{(missing_values / all_values)*100:.2f}'\n",
    "        table.add_row([column, all_values, missing_values, f'{percentage}%'])\n",
    "    data = table.get_string()\n",
    "    with open(f\"Missing_table.txt\", 'w') as f:\n",
    "        f.write(data)\n",
    "    print(table)\n",
    "    if len(NaN_columns) > 0:\n",
    "        print(f\"Columns with missing values: {NaN_columns}\")\n",
    "    print(f\"Table saved as Missing_table.txt\")"
   ]
  },
  {
   "cell_type": "code",
   "execution_count": 5,
   "id": "0a062489-b226-4766-8682-ba78c7c2098f",
   "metadata": {},
   "outputs": [],
   "source": [
    "dataframes = [monday, tuesday, wednesday, thursday_morning, thursday_afternoon, friday_ddos, friday_morning, friday_pcap]\n",
    "data = pd.concat(dataframes)"
   ]
  },
  {
   "cell_type": "code",
   "execution_count": 6,
   "id": "7eb05869-22d9-4a49-a2b3-69530059012e",
   "metadata": {},
   "outputs": [
    {
     "data": {
      "text/html": [
       "<div>\n",
       "<style scoped>\n",
       "    .dataframe tbody tr th:only-of-type {\n",
       "        vertical-align: middle;\n",
       "    }\n",
       "\n",
       "    .dataframe tbody tr th {\n",
       "        vertical-align: top;\n",
       "    }\n",
       "\n",
       "    .dataframe thead th {\n",
       "        text-align: right;\n",
       "    }\n",
       "</style>\n",
       "<table border=\"1\" class=\"dataframe\">\n",
       "  <thead>\n",
       "    <tr style=\"text-align: right;\">\n",
       "      <th></th>\n",
       "      <th>Destination Port</th>\n",
       "      <th>Flow Duration</th>\n",
       "      <th>Total Fwd Packets</th>\n",
       "      <th>Total Backward Packets</th>\n",
       "      <th>Total Length of Fwd Packets</th>\n",
       "      <th>Total Length of Bwd Packets</th>\n",
       "      <th>Fwd Packet Length Max</th>\n",
       "      <th>Fwd Packet Length Min</th>\n",
       "      <th>Fwd Packet Length Mean</th>\n",
       "      <th>Fwd Packet Length Std</th>\n",
       "      <th>...</th>\n",
       "      <th>min_seg_size_forward</th>\n",
       "      <th>Active Mean</th>\n",
       "      <th>Active Std</th>\n",
       "      <th>Active Max</th>\n",
       "      <th>Active Min</th>\n",
       "      <th>Idle Mean</th>\n",
       "      <th>Idle Std</th>\n",
       "      <th>Idle Max</th>\n",
       "      <th>Idle Min</th>\n",
       "      <th>Label</th>\n",
       "    </tr>\n",
       "  </thead>\n",
       "  <tbody>\n",
       "    <tr>\n",
       "      <th>0</th>\n",
       "      <td>49188</td>\n",
       "      <td>4</td>\n",
       "      <td>2</td>\n",
       "      <td>0</td>\n",
       "      <td>12</td>\n",
       "      <td>0</td>\n",
       "      <td>6</td>\n",
       "      <td>6</td>\n",
       "      <td>6.0</td>\n",
       "      <td>0.0</td>\n",
       "      <td>...</td>\n",
       "      <td>20</td>\n",
       "      <td>0.0</td>\n",
       "      <td>0.0</td>\n",
       "      <td>0</td>\n",
       "      <td>0</td>\n",
       "      <td>0.0</td>\n",
       "      <td>0.0</td>\n",
       "      <td>0</td>\n",
       "      <td>0</td>\n",
       "      <td>BENIGN</td>\n",
       "    </tr>\n",
       "    <tr>\n",
       "      <th>1</th>\n",
       "      <td>49188</td>\n",
       "      <td>1</td>\n",
       "      <td>2</td>\n",
       "      <td>0</td>\n",
       "      <td>12</td>\n",
       "      <td>0</td>\n",
       "      <td>6</td>\n",
       "      <td>6</td>\n",
       "      <td>6.0</td>\n",
       "      <td>0.0</td>\n",
       "      <td>...</td>\n",
       "      <td>20</td>\n",
       "      <td>0.0</td>\n",
       "      <td>0.0</td>\n",
       "      <td>0</td>\n",
       "      <td>0</td>\n",
       "      <td>0.0</td>\n",
       "      <td>0.0</td>\n",
       "      <td>0</td>\n",
       "      <td>0</td>\n",
       "      <td>BENIGN</td>\n",
       "    </tr>\n",
       "    <tr>\n",
       "      <th>2</th>\n",
       "      <td>49188</td>\n",
       "      <td>1</td>\n",
       "      <td>2</td>\n",
       "      <td>0</td>\n",
       "      <td>12</td>\n",
       "      <td>0</td>\n",
       "      <td>6</td>\n",
       "      <td>6</td>\n",
       "      <td>6.0</td>\n",
       "      <td>0.0</td>\n",
       "      <td>...</td>\n",
       "      <td>20</td>\n",
       "      <td>0.0</td>\n",
       "      <td>0.0</td>\n",
       "      <td>0</td>\n",
       "      <td>0</td>\n",
       "      <td>0.0</td>\n",
       "      <td>0.0</td>\n",
       "      <td>0</td>\n",
       "      <td>0</td>\n",
       "      <td>BENIGN</td>\n",
       "    </tr>\n",
       "    <tr>\n",
       "      <th>3</th>\n",
       "      <td>49188</td>\n",
       "      <td>1</td>\n",
       "      <td>2</td>\n",
       "      <td>0</td>\n",
       "      <td>12</td>\n",
       "      <td>0</td>\n",
       "      <td>6</td>\n",
       "      <td>6</td>\n",
       "      <td>6.0</td>\n",
       "      <td>0.0</td>\n",
       "      <td>...</td>\n",
       "      <td>20</td>\n",
       "      <td>0.0</td>\n",
       "      <td>0.0</td>\n",
       "      <td>0</td>\n",
       "      <td>0</td>\n",
       "      <td>0.0</td>\n",
       "      <td>0.0</td>\n",
       "      <td>0</td>\n",
       "      <td>0</td>\n",
       "      <td>BENIGN</td>\n",
       "    </tr>\n",
       "    <tr>\n",
       "      <th>4</th>\n",
       "      <td>49486</td>\n",
       "      <td>3</td>\n",
       "      <td>2</td>\n",
       "      <td>0</td>\n",
       "      <td>12</td>\n",
       "      <td>0</td>\n",
       "      <td>6</td>\n",
       "      <td>6</td>\n",
       "      <td>6.0</td>\n",
       "      <td>0.0</td>\n",
       "      <td>...</td>\n",
       "      <td>20</td>\n",
       "      <td>0.0</td>\n",
       "      <td>0.0</td>\n",
       "      <td>0</td>\n",
       "      <td>0</td>\n",
       "      <td>0.0</td>\n",
       "      <td>0.0</td>\n",
       "      <td>0</td>\n",
       "      <td>0</td>\n",
       "      <td>BENIGN</td>\n",
       "    </tr>\n",
       "  </tbody>\n",
       "</table>\n",
       "<p>5 rows × 79 columns</p>\n",
       "</div>"
      ],
      "text/plain": [
       "    Destination Port   Flow Duration   Total Fwd Packets  \\\n",
       "0              49188               4                   2   \n",
       "1              49188               1                   2   \n",
       "2              49188               1                   2   \n",
       "3              49188               1                   2   \n",
       "4              49486               3                   2   \n",
       "\n",
       "    Total Backward Packets  Total Length of Fwd Packets  \\\n",
       "0                        0                           12   \n",
       "1                        0                           12   \n",
       "2                        0                           12   \n",
       "3                        0                           12   \n",
       "4                        0                           12   \n",
       "\n",
       "    Total Length of Bwd Packets   Fwd Packet Length Max  \\\n",
       "0                             0                       6   \n",
       "1                             0                       6   \n",
       "2                             0                       6   \n",
       "3                             0                       6   \n",
       "4                             0                       6   \n",
       "\n",
       "    Fwd Packet Length Min   Fwd Packet Length Mean   Fwd Packet Length Std  \\\n",
       "0                       6                      6.0                     0.0   \n",
       "1                       6                      6.0                     0.0   \n",
       "2                       6                      6.0                     0.0   \n",
       "3                       6                      6.0                     0.0   \n",
       "4                       6                      6.0                     0.0   \n",
       "\n",
       "   ...   min_seg_size_forward  Active Mean   Active Std   Active Max  \\\n",
       "0  ...                     20          0.0          0.0            0   \n",
       "1  ...                     20          0.0          0.0            0   \n",
       "2  ...                     20          0.0          0.0            0   \n",
       "3  ...                     20          0.0          0.0            0   \n",
       "4  ...                     20          0.0          0.0            0   \n",
       "\n",
       "    Active Min  Idle Mean   Idle Std   Idle Max   Idle Min   Label  \n",
       "0            0        0.0        0.0          0          0  BENIGN  \n",
       "1            0        0.0        0.0          0          0  BENIGN  \n",
       "2            0        0.0        0.0          0          0  BENIGN  \n",
       "3            0        0.0        0.0          0          0  BENIGN  \n",
       "4            0        0.0        0.0          0          0  BENIGN  \n",
       "\n",
       "[5 rows x 79 columns]"
      ]
     },
     "execution_count": 6,
     "metadata": {},
     "output_type": "execute_result"
    }
   ],
   "source": [
    "data.head()"
   ]
  },
  {
   "cell_type": "code",
   "execution_count": 7,
   "id": "51b75923-c9c8-43d3-bf10-e5fbeb738254",
   "metadata": {},
   "outputs": [
    {
     "name": "stdout",
     "output_type": "stream",
     "text": [
      "<class 'pandas.core.frame.DataFrame'>\n",
      "Index: 2830743 entries, 0 to 286466\n",
      "Data columns (total 79 columns):\n",
      " #   Column                        Dtype  \n",
      "---  ------                        -----  \n",
      " 0    Destination Port             int64  \n",
      " 1    Flow Duration                int64  \n",
      " 2    Total Fwd Packets            int64  \n",
      " 3    Total Backward Packets       int64  \n",
      " 4   Total Length of Fwd Packets   int64  \n",
      " 5    Total Length of Bwd Packets  int64  \n",
      " 6    Fwd Packet Length Max        int64  \n",
      " 7    Fwd Packet Length Min        int64  \n",
      " 8    Fwd Packet Length Mean       float64\n",
      " 9    Fwd Packet Length Std        float64\n",
      " 10  Bwd Packet Length Max         int64  \n",
      " 11   Bwd Packet Length Min        int64  \n",
      " 12   Bwd Packet Length Mean       float64\n",
      " 13   Bwd Packet Length Std        float64\n",
      " 14  Flow Bytes/s                  float64\n",
      " 15   Flow Packets/s               float64\n",
      " 16   Flow IAT Mean                float64\n",
      " 17   Flow IAT Std                 float64\n",
      " 18   Flow IAT Max                 int64  \n",
      " 19   Flow IAT Min                 int64  \n",
      " 20  Fwd IAT Total                 int64  \n",
      " 21   Fwd IAT Mean                 float64\n",
      " 22   Fwd IAT Std                  float64\n",
      " 23   Fwd IAT Max                  int64  \n",
      " 24   Fwd IAT Min                  int64  \n",
      " 25  Bwd IAT Total                 int64  \n",
      " 26   Bwd IAT Mean                 float64\n",
      " 27   Bwd IAT Std                  float64\n",
      " 28   Bwd IAT Max                  int64  \n",
      " 29   Bwd IAT Min                  int64  \n",
      " 30  Fwd PSH Flags                 int64  \n",
      " 31   Bwd PSH Flags                int64  \n",
      " 32   Fwd URG Flags                int64  \n",
      " 33   Bwd URG Flags                int64  \n",
      " 34   Fwd Header Length            int64  \n",
      " 35   Bwd Header Length            int64  \n",
      " 36  Fwd Packets/s                 float64\n",
      " 37   Bwd Packets/s                float64\n",
      " 38   Min Packet Length            int64  \n",
      " 39   Max Packet Length            int64  \n",
      " 40   Packet Length Mean           float64\n",
      " 41   Packet Length Std            float64\n",
      " 42   Packet Length Variance       float64\n",
      " 43  FIN Flag Count                int64  \n",
      " 44   SYN Flag Count               int64  \n",
      " 45   RST Flag Count               int64  \n",
      " 46   PSH Flag Count               int64  \n",
      " 47   ACK Flag Count               int64  \n",
      " 48   URG Flag Count               int64  \n",
      " 49   CWE Flag Count               int64  \n",
      " 50   ECE Flag Count               int64  \n",
      " 51   Down/Up Ratio                int64  \n",
      " 52   Average Packet Size          float64\n",
      " 53   Avg Fwd Segment Size         float64\n",
      " 54   Avg Bwd Segment Size         float64\n",
      " 55   Fwd Header Length.1          int64  \n",
      " 56  Fwd Avg Bytes/Bulk            int64  \n",
      " 57   Fwd Avg Packets/Bulk         int64  \n",
      " 58   Fwd Avg Bulk Rate            int64  \n",
      " 59   Bwd Avg Bytes/Bulk           int64  \n",
      " 60   Bwd Avg Packets/Bulk         int64  \n",
      " 61  Bwd Avg Bulk Rate             int64  \n",
      " 62  Subflow Fwd Packets           int64  \n",
      " 63   Subflow Fwd Bytes            int64  \n",
      " 64   Subflow Bwd Packets          int64  \n",
      " 65   Subflow Bwd Bytes            int64  \n",
      " 66  Init_Win_bytes_forward        int64  \n",
      " 67   Init_Win_bytes_backward      int64  \n",
      " 68   act_data_pkt_fwd             int64  \n",
      " 69   min_seg_size_forward         int64  \n",
      " 70  Active Mean                   float64\n",
      " 71   Active Std                   float64\n",
      " 72   Active Max                   int64  \n",
      " 73   Active Min                   int64  \n",
      " 74  Idle Mean                     float64\n",
      " 75   Idle Std                     float64\n",
      " 76   Idle Max                     int64  \n",
      " 77   Idle Min                     int64  \n",
      " 78   Label                        object \n",
      "dtypes: float64(24), int64(54), object(1)\n",
      "memory usage: 1.7+ GB\n"
     ]
    }
   ],
   "source": [
    "data.info()"
   ]
  },
  {
   "cell_type": "code",
   "execution_count": 8,
   "id": "ec8899d7-4729-41c5-8926-f3cbe6c77ad4",
   "metadata": {},
   "outputs": [
    {
     "data": {
      "text/plain": [
       "Index([' Destination Port', ' Flow Duration', ' Total Fwd Packets',\n",
       "       ' Total Backward Packets', 'Total Length of Fwd Packets',\n",
       "       ' Total Length of Bwd Packets', ' Fwd Packet Length Max',\n",
       "       ' Fwd Packet Length Min', ' Fwd Packet Length Mean',\n",
       "       ' Fwd Packet Length Std', 'Bwd Packet Length Max',\n",
       "       ' Bwd Packet Length Min', ' Bwd Packet Length Mean',\n",
       "       ' Bwd Packet Length Std', 'Flow Bytes/s', ' Flow Packets/s',\n",
       "       ' Flow IAT Mean', ' Flow IAT Std', ' Flow IAT Max', ' Flow IAT Min',\n",
       "       'Fwd IAT Total', ' Fwd IAT Mean', ' Fwd IAT Std', ' Fwd IAT Max',\n",
       "       ' Fwd IAT Min', 'Bwd IAT Total', ' Bwd IAT Mean', ' Bwd IAT Std',\n",
       "       ' Bwd IAT Max', ' Bwd IAT Min', 'Fwd PSH Flags', ' Bwd PSH Flags',\n",
       "       ' Fwd URG Flags', ' Bwd URG Flags', ' Fwd Header Length',\n",
       "       ' Bwd Header Length', 'Fwd Packets/s', ' Bwd Packets/s',\n",
       "       ' Min Packet Length', ' Max Packet Length', ' Packet Length Mean',\n",
       "       ' Packet Length Std', ' Packet Length Variance', 'FIN Flag Count',\n",
       "       ' SYN Flag Count', ' RST Flag Count', ' PSH Flag Count',\n",
       "       ' ACK Flag Count', ' URG Flag Count', ' CWE Flag Count',\n",
       "       ' ECE Flag Count', ' Down/Up Ratio', ' Average Packet Size',\n",
       "       ' Avg Fwd Segment Size', ' Avg Bwd Segment Size',\n",
       "       ' Fwd Header Length.1', 'Fwd Avg Bytes/Bulk', ' Fwd Avg Packets/Bulk',\n",
       "       ' Fwd Avg Bulk Rate', ' Bwd Avg Bytes/Bulk', ' Bwd Avg Packets/Bulk',\n",
       "       'Bwd Avg Bulk Rate', 'Subflow Fwd Packets', ' Subflow Fwd Bytes',\n",
       "       ' Subflow Bwd Packets', ' Subflow Bwd Bytes', 'Init_Win_bytes_forward',\n",
       "       ' Init_Win_bytes_backward', ' act_data_pkt_fwd',\n",
       "       ' min_seg_size_forward', 'Active Mean', ' Active Std', ' Active Max',\n",
       "       ' Active Min', 'Idle Mean', ' Idle Std', ' Idle Max', ' Idle Min',\n",
       "       ' Label'],\n",
       "      dtype='object')"
      ]
     },
     "execution_count": 8,
     "metadata": {},
     "output_type": "execute_result"
    }
   ],
   "source": [
    "data.columns"
   ]
  },
  {
   "cell_type": "code",
   "execution_count": 9,
   "id": "b266b3ec-8238-4b5f-a2cc-7c2c2954d5c8",
   "metadata": {},
   "outputs": [
    {
     "data": {
      "text/plain": [
       "array(['BENIGN', 'FTP-Patator', 'SSH-Patator', 'DoS slowloris',\n",
       "       'DoS Slowhttptest', 'DoS Hulk', 'DoS GoldenEye', 'Heartbleed',\n",
       "       'Web Attack � Brute Force', 'Web Attack � XSS',\n",
       "       'Web Attack � Sql Injection', 'Infiltration', 'DDoS', 'Bot',\n",
       "       'PortScan'], dtype=object)"
      ]
     },
     "execution_count": 9,
     "metadata": {},
     "output_type": "execute_result"
    }
   ],
   "source": [
    "data[' Label'].unique()"
   ]
  },
  {
   "cell_type": "code",
   "execution_count": 10,
   "id": "285b195b-f541-4fbd-ade2-73568a9c18fa",
   "metadata": {},
   "outputs": [
    {
     "data": {
      "text/plain": [
       " Label\n",
       "BENIGN                        2273097\n",
       "DoS Hulk                       231073\n",
       "PortScan                       158930\n",
       "DDoS                           128027\n",
       "DoS GoldenEye                   10293\n",
       "FTP-Patator                      7938\n",
       "SSH-Patator                      5897\n",
       "DoS slowloris                    5796\n",
       "DoS Slowhttptest                 5499\n",
       "Bot                              1966\n",
       "Web Attack � Brute Force         1507\n",
       "Web Attack � XSS                  652\n",
       "Infiltration                       36\n",
       "Web Attack � Sql Injection         21\n",
       "Heartbleed                         11\n",
       "Name: count, dtype: int64"
      ]
     },
     "execution_count": 10,
     "metadata": {},
     "output_type": "execute_result"
    }
   ],
   "source": [
    "data[' Label'].value_counts()"
   ]
  },
  {
   "cell_type": "code",
   "execution_count": 11,
   "id": "3fa8d02a-90d8-4c6c-b2af-d6a967d1e692",
   "metadata": {},
   "outputs": [],
   "source": [
    "data = data.replace([-np.inf, np.inf], np.nan)"
   ]
  },
  {
   "cell_type": "code",
   "execution_count": 21,
   "id": "5c7bee3f-64f3-4f5d-a378-2fb2e60eecad",
   "metadata": {},
   "outputs": [
    {
     "name": "stdout",
     "output_type": "stream",
     "text": [
      "+------------------------------+------------+----------------+---------------------+\n",
      "|            Column            | All Values | Missing Values | % of missing values |\n",
      "+------------------------------+------------+----------------+---------------------+\n",
      "|       Destination Port       |  2830743   |       0        |        0.00%        |\n",
      "|         Flow Duration        |  2830743   |       0        |        0.00%        |\n",
      "|       Total Fwd Packets      |  2830743   |       0        |        0.00%        |\n",
      "|    Total Backward Packets    |  2830743   |       0        |        0.00%        |\n",
      "| Total Length of Fwd Packets  |  2830743   |       0        |        0.00%        |\n",
      "|  Total Length of Bwd Packets |  2830743   |       0        |        0.00%        |\n",
      "|     Fwd Packet Length Max    |  2830743   |       0        |        0.00%        |\n",
      "|     Fwd Packet Length Min    |  2830743   |       0        |        0.00%        |\n",
      "|    Fwd Packet Length Mean    |  2830743   |       0        |        0.00%        |\n",
      "|     Fwd Packet Length Std    |  2830743   |       0        |        0.00%        |\n",
      "|    Bwd Packet Length Max     |  2830743   |       0        |        0.00%        |\n",
      "|     Bwd Packet Length Min    |  2830743   |       0        |        0.00%        |\n",
      "|    Bwd Packet Length Mean    |  2830743   |       0        |        0.00%        |\n",
      "|     Bwd Packet Length Std    |  2830743   |       0        |        0.00%        |\n",
      "|         Flow Bytes/s         |  2827876   |      2867      |        0.10%        |\n",
      "|        Flow Packets/s        |  2827876   |      2867      |        0.10%        |\n",
      "|         Flow IAT Mean        |  2830743   |       0        |        0.00%        |\n",
      "|         Flow IAT Std         |  2830743   |       0        |        0.00%        |\n",
      "|         Flow IAT Max         |  2830743   |       0        |        0.00%        |\n",
      "|         Flow IAT Min         |  2830743   |       0        |        0.00%        |\n",
      "|        Fwd IAT Total         |  2830743   |       0        |        0.00%        |\n",
      "|         Fwd IAT Mean         |  2830743   |       0        |        0.00%        |\n",
      "|          Fwd IAT Std         |  2830743   |       0        |        0.00%        |\n",
      "|          Fwd IAT Max         |  2830743   |       0        |        0.00%        |\n",
      "|          Fwd IAT Min         |  2830743   |       0        |        0.00%        |\n",
      "|        Bwd IAT Total         |  2830743   |       0        |        0.00%        |\n",
      "|         Bwd IAT Mean         |  2830743   |       0        |        0.00%        |\n",
      "|          Bwd IAT Std         |  2830743   |       0        |        0.00%        |\n",
      "|          Bwd IAT Max         |  2830743   |       0        |        0.00%        |\n",
      "|          Bwd IAT Min         |  2830743   |       0        |        0.00%        |\n",
      "|        Fwd PSH Flags         |  2830743   |       0        |        0.00%        |\n",
      "|         Bwd PSH Flags        |  2830743   |       0        |        0.00%        |\n",
      "|         Fwd URG Flags        |  2830743   |       0        |        0.00%        |\n",
      "|         Bwd URG Flags        |  2830743   |       0        |        0.00%        |\n",
      "|       Fwd Header Length      |  2830743   |       0        |        0.00%        |\n",
      "|       Bwd Header Length      |  2830743   |       0        |        0.00%        |\n",
      "|        Fwd Packets/s         |  2830743   |       0        |        0.00%        |\n",
      "|         Bwd Packets/s        |  2830743   |       0        |        0.00%        |\n",
      "|       Min Packet Length      |  2830743   |       0        |        0.00%        |\n",
      "|       Max Packet Length      |  2830743   |       0        |        0.00%        |\n",
      "|      Packet Length Mean      |  2830743   |       0        |        0.00%        |\n",
      "|       Packet Length Std      |  2830743   |       0        |        0.00%        |\n",
      "|    Packet Length Variance    |  2830743   |       0        |        0.00%        |\n",
      "|        FIN Flag Count        |  2830743   |       0        |        0.00%        |\n",
      "|        SYN Flag Count        |  2830743   |       0        |        0.00%        |\n",
      "|        RST Flag Count        |  2830743   |       0        |        0.00%        |\n",
      "|        PSH Flag Count        |  2830743   |       0        |        0.00%        |\n",
      "|        ACK Flag Count        |  2830743   |       0        |        0.00%        |\n",
      "|        URG Flag Count        |  2830743   |       0        |        0.00%        |\n",
      "|        CWE Flag Count        |  2830743   |       0        |        0.00%        |\n",
      "|        ECE Flag Count        |  2830743   |       0        |        0.00%        |\n",
      "|         Down/Up Ratio        |  2830743   |       0        |        0.00%        |\n",
      "|      Average Packet Size     |  2830743   |       0        |        0.00%        |\n",
      "|     Avg Fwd Segment Size     |  2830743   |       0        |        0.00%        |\n",
      "|     Avg Bwd Segment Size     |  2830743   |       0        |        0.00%        |\n",
      "|      Fwd Header Length.1     |  2830743   |       0        |        0.00%        |\n",
      "|      Fwd Avg Bytes/Bulk      |  2830743   |       0        |        0.00%        |\n",
      "|     Fwd Avg Packets/Bulk     |  2830743   |       0        |        0.00%        |\n",
      "|       Fwd Avg Bulk Rate      |  2830743   |       0        |        0.00%        |\n",
      "|      Bwd Avg Bytes/Bulk      |  2830743   |       0        |        0.00%        |\n",
      "|     Bwd Avg Packets/Bulk     |  2830743   |       0        |        0.00%        |\n",
      "|      Bwd Avg Bulk Rate       |  2830743   |       0        |        0.00%        |\n",
      "|     Subflow Fwd Packets      |  2830743   |       0        |        0.00%        |\n",
      "|       Subflow Fwd Bytes      |  2830743   |       0        |        0.00%        |\n",
      "|      Subflow Bwd Packets     |  2830743   |       0        |        0.00%        |\n",
      "|       Subflow Bwd Bytes      |  2830743   |       0        |        0.00%        |\n",
      "|    Init_Win_bytes_forward    |  2830743   |       0        |        0.00%        |\n",
      "|    Init_Win_bytes_backward   |  2830743   |       0        |        0.00%        |\n",
      "|       act_data_pkt_fwd       |  2830743   |       0        |        0.00%        |\n",
      "|     min_seg_size_forward     |  2830743   |       0        |        0.00%        |\n",
      "|         Active Mean          |  2830743   |       0        |        0.00%        |\n",
      "|          Active Std          |  2830743   |       0        |        0.00%        |\n",
      "|          Active Max          |  2830743   |       0        |        0.00%        |\n",
      "|          Active Min          |  2830743   |       0        |        0.00%        |\n",
      "|          Idle Mean           |  2830743   |       0        |        0.00%        |\n",
      "|           Idle Std           |  2830743   |       0        |        0.00%        |\n",
      "|           Idle Max           |  2830743   |       0        |        0.00%        |\n",
      "|           Idle Min           |  2830743   |       0        |        0.00%        |\n",
      "|             Label            |  2830743   |       0        |        0.00%        |\n",
      "+------------------------------+------------+----------------+---------------------+\n",
      "Columns with missing values: ['Flow Bytes/s', ' Flow Packets/s']\n",
      "Table saved as Missing_table.txt\n"
     ]
    }
   ],
   "source": [
    "missing_values(data)"
   ]
  },
  {
   "cell_type": "code",
   "execution_count": 22,
   "id": "b16f2f02-b8d8-4104-b9ef-d9dc09fcb255",
   "metadata": {},
   "outputs": [
    {
     "data": {
      "text/html": [
       "<div>\n",
       "<style scoped>\n",
       "    .dataframe tbody tr th:only-of-type {\n",
       "        vertical-align: middle;\n",
       "    }\n",
       "\n",
       "    .dataframe tbody tr th {\n",
       "        vertical-align: top;\n",
       "    }\n",
       "\n",
       "    .dataframe thead th {\n",
       "        text-align: right;\n",
       "    }\n",
       "</style>\n",
       "<table border=\"1\" class=\"dataframe\">\n",
       "  <thead>\n",
       "    <tr style=\"text-align: right;\">\n",
       "      <th></th>\n",
       "      <th>Destination Port</th>\n",
       "      <th>Flow Duration</th>\n",
       "      <th>Total Fwd Packets</th>\n",
       "      <th>Total Backward Packets</th>\n",
       "      <th>Total Length of Fwd Packets</th>\n",
       "      <th>Total Length of Bwd Packets</th>\n",
       "      <th>Fwd Packet Length Max</th>\n",
       "      <th>Fwd Packet Length Min</th>\n",
       "      <th>Fwd Packet Length Mean</th>\n",
       "      <th>Fwd Packet Length Std</th>\n",
       "      <th>...</th>\n",
       "      <th>min_seg_size_forward</th>\n",
       "      <th>Active Mean</th>\n",
       "      <th>Active Std</th>\n",
       "      <th>Active Max</th>\n",
       "      <th>Active Min</th>\n",
       "      <th>Idle Mean</th>\n",
       "      <th>Idle Std</th>\n",
       "      <th>Idle Max</th>\n",
       "      <th>Idle Min</th>\n",
       "      <th>Label</th>\n",
       "    </tr>\n",
       "  </thead>\n",
       "  <tbody>\n",
       "    <tr>\n",
       "      <th>33</th>\n",
       "      <td>1029</td>\n",
       "      <td>0</td>\n",
       "      <td>2</td>\n",
       "      <td>0</td>\n",
       "      <td>12</td>\n",
       "      <td>0</td>\n",
       "      <td>6</td>\n",
       "      <td>6</td>\n",
       "      <td>6.0</td>\n",
       "      <td>0.000000</td>\n",
       "      <td>...</td>\n",
       "      <td>20</td>\n",
       "      <td>0.0</td>\n",
       "      <td>0.0</td>\n",
       "      <td>0</td>\n",
       "      <td>0</td>\n",
       "      <td>0.0</td>\n",
       "      <td>0.0</td>\n",
       "      <td>0</td>\n",
       "      <td>0</td>\n",
       "      <td>BENIGN</td>\n",
       "    </tr>\n",
       "    <tr>\n",
       "      <th>77</th>\n",
       "      <td>49478</td>\n",
       "      <td>0</td>\n",
       "      <td>2</td>\n",
       "      <td>0</td>\n",
       "      <td>37</td>\n",
       "      <td>0</td>\n",
       "      <td>31</td>\n",
       "      <td>6</td>\n",
       "      <td>18.5</td>\n",
       "      <td>17.677670</td>\n",
       "      <td>...</td>\n",
       "      <td>20</td>\n",
       "      <td>0.0</td>\n",
       "      <td>0.0</td>\n",
       "      <td>0</td>\n",
       "      <td>0</td>\n",
       "      <td>0.0</td>\n",
       "      <td>0.0</td>\n",
       "      <td>0</td>\n",
       "      <td>0</td>\n",
       "      <td>BENIGN</td>\n",
       "    </tr>\n",
       "    <tr>\n",
       "      <th>80</th>\n",
       "      <td>49478</td>\n",
       "      <td>0</td>\n",
       "      <td>2</td>\n",
       "      <td>0</td>\n",
       "      <td>37</td>\n",
       "      <td>0</td>\n",
       "      <td>31</td>\n",
       "      <td>6</td>\n",
       "      <td>18.5</td>\n",
       "      <td>17.677670</td>\n",
       "      <td>...</td>\n",
       "      <td>20</td>\n",
       "      <td>0.0</td>\n",
       "      <td>0.0</td>\n",
       "      <td>0</td>\n",
       "      <td>0</td>\n",
       "      <td>0.0</td>\n",
       "      <td>0.0</td>\n",
       "      <td>0</td>\n",
       "      <td>0</td>\n",
       "      <td>BENIGN</td>\n",
       "    </tr>\n",
       "    <tr>\n",
       "      <th>92</th>\n",
       "      <td>49488</td>\n",
       "      <td>0</td>\n",
       "      <td>2</td>\n",
       "      <td>0</td>\n",
       "      <td>12</td>\n",
       "      <td>0</td>\n",
       "      <td>6</td>\n",
       "      <td>6</td>\n",
       "      <td>6.0</td>\n",
       "      <td>0.000000</td>\n",
       "      <td>...</td>\n",
       "      <td>20</td>\n",
       "      <td>0.0</td>\n",
       "      <td>0.0</td>\n",
       "      <td>0</td>\n",
       "      <td>0</td>\n",
       "      <td>0.0</td>\n",
       "      <td>0.0</td>\n",
       "      <td>0</td>\n",
       "      <td>0</td>\n",
       "      <td>BENIGN</td>\n",
       "    </tr>\n",
       "    <tr>\n",
       "      <th>97</th>\n",
       "      <td>49488</td>\n",
       "      <td>0</td>\n",
       "      <td>2</td>\n",
       "      <td>0</td>\n",
       "      <td>12</td>\n",
       "      <td>0</td>\n",
       "      <td>6</td>\n",
       "      <td>6</td>\n",
       "      <td>6.0</td>\n",
       "      <td>0.000000</td>\n",
       "      <td>...</td>\n",
       "      <td>20</td>\n",
       "      <td>0.0</td>\n",
       "      <td>0.0</td>\n",
       "      <td>0</td>\n",
       "      <td>0</td>\n",
       "      <td>0.0</td>\n",
       "      <td>0.0</td>\n",
       "      <td>0</td>\n",
       "      <td>0</td>\n",
       "      <td>BENIGN</td>\n",
       "    </tr>\n",
       "    <tr>\n",
       "      <th>...</th>\n",
       "      <td>...</td>\n",
       "      <td>...</td>\n",
       "      <td>...</td>\n",
       "      <td>...</td>\n",
       "      <td>...</td>\n",
       "      <td>...</td>\n",
       "      <td>...</td>\n",
       "      <td>...</td>\n",
       "      <td>...</td>\n",
       "      <td>...</td>\n",
       "      <td>...</td>\n",
       "      <td>...</td>\n",
       "      <td>...</td>\n",
       "      <td>...</td>\n",
       "      <td>...</td>\n",
       "      <td>...</td>\n",
       "      <td>...</td>\n",
       "      <td>...</td>\n",
       "      <td>...</td>\n",
       "      <td>...</td>\n",
       "      <td>...</td>\n",
       "    </tr>\n",
       "    <tr>\n",
       "      <th>278979</th>\n",
       "      <td>51396</td>\n",
       "      <td>0</td>\n",
       "      <td>2</td>\n",
       "      <td>0</td>\n",
       "      <td>12</td>\n",
       "      <td>0</td>\n",
       "      <td>6</td>\n",
       "      <td>6</td>\n",
       "      <td>6.0</td>\n",
       "      <td>0.000000</td>\n",
       "      <td>...</td>\n",
       "      <td>20</td>\n",
       "      <td>0.0</td>\n",
       "      <td>0.0</td>\n",
       "      <td>0</td>\n",
       "      <td>0</td>\n",
       "      <td>0.0</td>\n",
       "      <td>0.0</td>\n",
       "      <td>0</td>\n",
       "      <td>0</td>\n",
       "      <td>BENIGN</td>\n",
       "    </tr>\n",
       "    <tr>\n",
       "      <th>279129</th>\n",
       "      <td>49884</td>\n",
       "      <td>0</td>\n",
       "      <td>2</td>\n",
       "      <td>0</td>\n",
       "      <td>14</td>\n",
       "      <td>0</td>\n",
       "      <td>14</td>\n",
       "      <td>0</td>\n",
       "      <td>7.0</td>\n",
       "      <td>9.899495</td>\n",
       "      <td>...</td>\n",
       "      <td>32</td>\n",
       "      <td>0.0</td>\n",
       "      <td>0.0</td>\n",
       "      <td>0</td>\n",
       "      <td>0</td>\n",
       "      <td>0.0</td>\n",
       "      <td>0.0</td>\n",
       "      <td>0</td>\n",
       "      <td>0</td>\n",
       "      <td>BENIGN</td>\n",
       "    </tr>\n",
       "    <tr>\n",
       "      <th>281744</th>\n",
       "      <td>443</td>\n",
       "      <td>0</td>\n",
       "      <td>2</td>\n",
       "      <td>0</td>\n",
       "      <td>12</td>\n",
       "      <td>0</td>\n",
       "      <td>6</td>\n",
       "      <td>6</td>\n",
       "      <td>6.0</td>\n",
       "      <td>0.000000</td>\n",
       "      <td>...</td>\n",
       "      <td>20</td>\n",
       "      <td>0.0</td>\n",
       "      <td>0.0</td>\n",
       "      <td>0</td>\n",
       "      <td>0</td>\n",
       "      <td>0.0</td>\n",
       "      <td>0.0</td>\n",
       "      <td>0</td>\n",
       "      <td>0</td>\n",
       "      <td>BENIGN</td>\n",
       "    </tr>\n",
       "    <tr>\n",
       "      <th>282054</th>\n",
       "      <td>443</td>\n",
       "      <td>0</td>\n",
       "      <td>2</td>\n",
       "      <td>0</td>\n",
       "      <td>12</td>\n",
       "      <td>0</td>\n",
       "      <td>6</td>\n",
       "      <td>6</td>\n",
       "      <td>6.0</td>\n",
       "      <td>0.000000</td>\n",
       "      <td>...</td>\n",
       "      <td>20</td>\n",
       "      <td>0.0</td>\n",
       "      <td>0.0</td>\n",
       "      <td>0</td>\n",
       "      <td>0</td>\n",
       "      <td>0.0</td>\n",
       "      <td>0.0</td>\n",
       "      <td>0</td>\n",
       "      <td>0</td>\n",
       "      <td>BENIGN</td>\n",
       "    </tr>\n",
       "    <tr>\n",
       "      <th>286200</th>\n",
       "      <td>53150</td>\n",
       "      <td>0</td>\n",
       "      <td>2</td>\n",
       "      <td>0</td>\n",
       "      <td>31</td>\n",
       "      <td>0</td>\n",
       "      <td>31</td>\n",
       "      <td>0</td>\n",
       "      <td>15.5</td>\n",
       "      <td>21.920310</td>\n",
       "      <td>...</td>\n",
       "      <td>32</td>\n",
       "      <td>0.0</td>\n",
       "      <td>0.0</td>\n",
       "      <td>0</td>\n",
       "      <td>0</td>\n",
       "      <td>0.0</td>\n",
       "      <td>0.0</td>\n",
       "      <td>0</td>\n",
       "      <td>0</td>\n",
       "      <td>BENIGN</td>\n",
       "    </tr>\n",
       "  </tbody>\n",
       "</table>\n",
       "<p>2867 rows × 79 columns</p>\n",
       "</div>"
      ],
      "text/plain": [
       "         Destination Port   Flow Duration   Total Fwd Packets  \\\n",
       "33                   1029               0                   2   \n",
       "77                  49478               0                   2   \n",
       "80                  49478               0                   2   \n",
       "92                  49488               0                   2   \n",
       "97                  49488               0                   2   \n",
       "...                   ...             ...                 ...   \n",
       "278979              51396               0                   2   \n",
       "279129              49884               0                   2   \n",
       "281744                443               0                   2   \n",
       "282054                443               0                   2   \n",
       "286200              53150               0                   2   \n",
       "\n",
       "         Total Backward Packets  Total Length of Fwd Packets  \\\n",
       "33                            0                           12   \n",
       "77                            0                           37   \n",
       "80                            0                           37   \n",
       "92                            0                           12   \n",
       "97                            0                           12   \n",
       "...                         ...                          ...   \n",
       "278979                        0                           12   \n",
       "279129                        0                           14   \n",
       "281744                        0                           12   \n",
       "282054                        0                           12   \n",
       "286200                        0                           31   \n",
       "\n",
       "         Total Length of Bwd Packets   Fwd Packet Length Max  \\\n",
       "33                                 0                       6   \n",
       "77                                 0                      31   \n",
       "80                                 0                      31   \n",
       "92                                 0                       6   \n",
       "97                                 0                       6   \n",
       "...                              ...                     ...   \n",
       "278979                             0                       6   \n",
       "279129                             0                      14   \n",
       "281744                             0                       6   \n",
       "282054                             0                       6   \n",
       "286200                             0                      31   \n",
       "\n",
       "         Fwd Packet Length Min   Fwd Packet Length Mean  \\\n",
       "33                           6                      6.0   \n",
       "77                           6                     18.5   \n",
       "80                           6                     18.5   \n",
       "92                           6                      6.0   \n",
       "97                           6                      6.0   \n",
       "...                        ...                      ...   \n",
       "278979                       6                      6.0   \n",
       "279129                       0                      7.0   \n",
       "281744                       6                      6.0   \n",
       "282054                       6                      6.0   \n",
       "286200                       0                     15.5   \n",
       "\n",
       "         Fwd Packet Length Std  ...   min_seg_size_forward  Active Mean  \\\n",
       "33                    0.000000  ...                     20          0.0   \n",
       "77                   17.677670  ...                     20          0.0   \n",
       "80                   17.677670  ...                     20          0.0   \n",
       "92                    0.000000  ...                     20          0.0   \n",
       "97                    0.000000  ...                     20          0.0   \n",
       "...                        ...  ...                    ...          ...   \n",
       "278979                0.000000  ...                     20          0.0   \n",
       "279129                9.899495  ...                     32          0.0   \n",
       "281744                0.000000  ...                     20          0.0   \n",
       "282054                0.000000  ...                     20          0.0   \n",
       "286200               21.920310  ...                     32          0.0   \n",
       "\n",
       "         Active Std   Active Max   Active Min  Idle Mean   Idle Std  \\\n",
       "33              0.0            0            0        0.0        0.0   \n",
       "77              0.0            0            0        0.0        0.0   \n",
       "80              0.0            0            0        0.0        0.0   \n",
       "92              0.0            0            0        0.0        0.0   \n",
       "97              0.0            0            0        0.0        0.0   \n",
       "...             ...          ...          ...        ...        ...   \n",
       "278979          0.0            0            0        0.0        0.0   \n",
       "279129          0.0            0            0        0.0        0.0   \n",
       "281744          0.0            0            0        0.0        0.0   \n",
       "282054          0.0            0            0        0.0        0.0   \n",
       "286200          0.0            0            0        0.0        0.0   \n",
       "\n",
       "         Idle Max   Idle Min   Label  \n",
       "33              0          0  BENIGN  \n",
       "77              0          0  BENIGN  \n",
       "80              0          0  BENIGN  \n",
       "92              0          0  BENIGN  \n",
       "97              0          0  BENIGN  \n",
       "...           ...        ...     ...  \n",
       "278979          0          0  BENIGN  \n",
       "279129          0          0  BENIGN  \n",
       "281744          0          0  BENIGN  \n",
       "282054          0          0  BENIGN  \n",
       "286200          0          0  BENIGN  \n",
       "\n",
       "[2867 rows x 79 columns]"
      ]
     },
     "execution_count": 22,
     "metadata": {},
     "output_type": "execute_result"
    }
   ],
   "source": [
    "data[data.isna().any(axis=1)==True]"
   ]
  },
  {
   "cell_type": "code",
   "execution_count": 23,
   "id": "4e70035b-fc5b-4ef3-8e0b-dd0fa9c25a1d",
   "metadata": {},
   "outputs": [],
   "source": [
    "data.dropna(inplace=True)"
   ]
  },
  {
   "cell_type": "code",
   "execution_count": 24,
   "id": "399a7406-63ec-4593-91ea-dec37b9f7e61",
   "metadata": {},
   "outputs": [
    {
     "name": "stdout",
     "output_type": "stream",
     "text": [
      "+------------------------------+------------+----------------+---------------------+\n",
      "|            Column            | All Values | Missing Values | % of missing values |\n",
      "+------------------------------+------------+----------------+---------------------+\n",
      "|       Destination Port       |  2827876   |       0        |        0.00%        |\n",
      "|         Flow Duration        |  2827876   |       0        |        0.00%        |\n",
      "|       Total Fwd Packets      |  2827876   |       0        |        0.00%        |\n",
      "|    Total Backward Packets    |  2827876   |       0        |        0.00%        |\n",
      "| Total Length of Fwd Packets  |  2827876   |       0        |        0.00%        |\n",
      "|  Total Length of Bwd Packets |  2827876   |       0        |        0.00%        |\n",
      "|     Fwd Packet Length Max    |  2827876   |       0        |        0.00%        |\n",
      "|     Fwd Packet Length Min    |  2827876   |       0        |        0.00%        |\n",
      "|    Fwd Packet Length Mean    |  2827876   |       0        |        0.00%        |\n",
      "|     Fwd Packet Length Std    |  2827876   |       0        |        0.00%        |\n",
      "|    Bwd Packet Length Max     |  2827876   |       0        |        0.00%        |\n",
      "|     Bwd Packet Length Min    |  2827876   |       0        |        0.00%        |\n",
      "|    Bwd Packet Length Mean    |  2827876   |       0        |        0.00%        |\n",
      "|     Bwd Packet Length Std    |  2827876   |       0        |        0.00%        |\n",
      "|         Flow Bytes/s         |  2827876   |       0        |        0.00%        |\n",
      "|        Flow Packets/s        |  2827876   |       0        |        0.00%        |\n",
      "|         Flow IAT Mean        |  2827876   |       0        |        0.00%        |\n",
      "|         Flow IAT Std         |  2827876   |       0        |        0.00%        |\n",
      "|         Flow IAT Max         |  2827876   |       0        |        0.00%        |\n",
      "|         Flow IAT Min         |  2827876   |       0        |        0.00%        |\n",
      "|        Fwd IAT Total         |  2827876   |       0        |        0.00%        |\n",
      "|         Fwd IAT Mean         |  2827876   |       0        |        0.00%        |\n",
      "|          Fwd IAT Std         |  2827876   |       0        |        0.00%        |\n",
      "|          Fwd IAT Max         |  2827876   |       0        |        0.00%        |\n",
      "|          Fwd IAT Min         |  2827876   |       0        |        0.00%        |\n",
      "|        Bwd IAT Total         |  2827876   |       0        |        0.00%        |\n",
      "|         Bwd IAT Mean         |  2827876   |       0        |        0.00%        |\n",
      "|          Bwd IAT Std         |  2827876   |       0        |        0.00%        |\n",
      "|          Bwd IAT Max         |  2827876   |       0        |        0.00%        |\n",
      "|          Bwd IAT Min         |  2827876   |       0        |        0.00%        |\n",
      "|        Fwd PSH Flags         |  2827876   |       0        |        0.00%        |\n",
      "|         Bwd PSH Flags        |  2827876   |       0        |        0.00%        |\n",
      "|         Fwd URG Flags        |  2827876   |       0        |        0.00%        |\n",
      "|         Bwd URG Flags        |  2827876   |       0        |        0.00%        |\n",
      "|       Fwd Header Length      |  2827876   |       0        |        0.00%        |\n",
      "|       Bwd Header Length      |  2827876   |       0        |        0.00%        |\n",
      "|        Fwd Packets/s         |  2827876   |       0        |        0.00%        |\n",
      "|         Bwd Packets/s        |  2827876   |       0        |        0.00%        |\n",
      "|       Min Packet Length      |  2827876   |       0        |        0.00%        |\n",
      "|       Max Packet Length      |  2827876   |       0        |        0.00%        |\n",
      "|      Packet Length Mean      |  2827876   |       0        |        0.00%        |\n",
      "|       Packet Length Std      |  2827876   |       0        |        0.00%        |\n",
      "|    Packet Length Variance    |  2827876   |       0        |        0.00%        |\n",
      "|        FIN Flag Count        |  2827876   |       0        |        0.00%        |\n",
      "|        SYN Flag Count        |  2827876   |       0        |        0.00%        |\n",
      "|        RST Flag Count        |  2827876   |       0        |        0.00%        |\n",
      "|        PSH Flag Count        |  2827876   |       0        |        0.00%        |\n",
      "|        ACK Flag Count        |  2827876   |       0        |        0.00%        |\n",
      "|        URG Flag Count        |  2827876   |       0        |        0.00%        |\n",
      "|        CWE Flag Count        |  2827876   |       0        |        0.00%        |\n",
      "|        ECE Flag Count        |  2827876   |       0        |        0.00%        |\n",
      "|         Down/Up Ratio        |  2827876   |       0        |        0.00%        |\n",
      "|      Average Packet Size     |  2827876   |       0        |        0.00%        |\n",
      "|     Avg Fwd Segment Size     |  2827876   |       0        |        0.00%        |\n",
      "|     Avg Bwd Segment Size     |  2827876   |       0        |        0.00%        |\n",
      "|      Fwd Header Length.1     |  2827876   |       0        |        0.00%        |\n",
      "|      Fwd Avg Bytes/Bulk      |  2827876   |       0        |        0.00%        |\n",
      "|     Fwd Avg Packets/Bulk     |  2827876   |       0        |        0.00%        |\n",
      "|       Fwd Avg Bulk Rate      |  2827876   |       0        |        0.00%        |\n",
      "|      Bwd Avg Bytes/Bulk      |  2827876   |       0        |        0.00%        |\n",
      "|     Bwd Avg Packets/Bulk     |  2827876   |       0        |        0.00%        |\n",
      "|      Bwd Avg Bulk Rate       |  2827876   |       0        |        0.00%        |\n",
      "|     Subflow Fwd Packets      |  2827876   |       0        |        0.00%        |\n",
      "|       Subflow Fwd Bytes      |  2827876   |       0        |        0.00%        |\n",
      "|      Subflow Bwd Packets     |  2827876   |       0        |        0.00%        |\n",
      "|       Subflow Bwd Bytes      |  2827876   |       0        |        0.00%        |\n",
      "|    Init_Win_bytes_forward    |  2827876   |       0        |        0.00%        |\n",
      "|    Init_Win_bytes_backward   |  2827876   |       0        |        0.00%        |\n",
      "|       act_data_pkt_fwd       |  2827876   |       0        |        0.00%        |\n",
      "|     min_seg_size_forward     |  2827876   |       0        |        0.00%        |\n",
      "|         Active Mean          |  2827876   |       0        |        0.00%        |\n",
      "|          Active Std          |  2827876   |       0        |        0.00%        |\n",
      "|          Active Max          |  2827876   |       0        |        0.00%        |\n",
      "|          Active Min          |  2827876   |       0        |        0.00%        |\n",
      "|          Idle Mean           |  2827876   |       0        |        0.00%        |\n",
      "|           Idle Std           |  2827876   |       0        |        0.00%        |\n",
      "|           Idle Max           |  2827876   |       0        |        0.00%        |\n",
      "|           Idle Min           |  2827876   |       0        |        0.00%        |\n",
      "|             Label            |  2827876   |       0        |        0.00%        |\n",
      "+------------------------------+------------+----------------+---------------------+\n",
      "Table saved as Missing_table.txt\n"
     ]
    }
   ],
   "source": [
    "missing_values(data)"
   ]
  },
  {
   "cell_type": "markdown",
   "id": "370a3e9d-e45e-45d8-946b-7ddd588f98c3",
   "metadata": {},
   "source": [
    "# 3. Exploratory Data Analysis"
   ]
  },
  {
   "cell_type": "code",
   "execution_count": 25,
   "id": "f21198d9-c05f-4244-b3ab-5bdd2db486e2",
   "metadata": {},
   "outputs": [],
   "source": [
    "label = data[' Label'].value_counts().index.tolist()\n",
    "count = data[' Label'].value_counts()"
   ]
  },
  {
   "cell_type": "code",
   "execution_count": 26,
   "id": "2e69f1fc-379a-4a38-b6d6-d532a722631e",
   "metadata": {},
   "outputs": [
    {
     "data": {
      "text/plain": [
       "['BENIGN',\n",
       " 'DoS Hulk',\n",
       " 'PortScan',\n",
       " 'DDoS',\n",
       " 'DoS GoldenEye',\n",
       " 'FTP-Patator',\n",
       " 'SSH-Patator',\n",
       " 'DoS slowloris',\n",
       " 'DoS Slowhttptest',\n",
       " 'Bot',\n",
       " 'Web Attack � Brute Force',\n",
       " 'Web Attack � XSS',\n",
       " 'Infiltration',\n",
       " 'Web Attack � Sql Injection',\n",
       " 'Heartbleed']"
      ]
     },
     "execution_count": 26,
     "metadata": {},
     "output_type": "execute_result"
    }
   ],
   "source": [
    "label"
   ]
  },
  {
   "cell_type": "code",
   "execution_count": 27,
   "id": "2a8b9c2c-7574-42df-ab08-8135c16669be",
   "metadata": {},
   "outputs": [
    {
     "data": {
      "text/plain": [
       " Label\n",
       "BENIGN                        2271320\n",
       "DoS Hulk                       230124\n",
       "PortScan                       158804\n",
       "DDoS                           128025\n",
       "DoS GoldenEye                   10293\n",
       "FTP-Patator                      7935\n",
       "SSH-Patator                      5897\n",
       "DoS slowloris                    5796\n",
       "DoS Slowhttptest                 5499\n",
       "Bot                              1956\n",
       "Web Attack � Brute Force         1507\n",
       "Web Attack � XSS                  652\n",
       "Infiltration                       36\n",
       "Web Attack � Sql Injection         21\n",
       "Heartbleed                         11\n",
       "Name: count, dtype: int64"
      ]
     },
     "execution_count": 27,
     "metadata": {},
     "output_type": "execute_result"
    }
   ],
   "source": [
    "count"
   ]
  },
  {
   "cell_type": "markdown",
   "id": "99c7fa6f-69e8-446d-8803-6b49d88fdc51",
   "metadata": {},
   "source": [
    "## 3.1 Histogram"
   ]
  },
  {
   "cell_type": "code",
   "execution_count": 30,
   "id": "f6259642-0dd5-4a1d-af98-8030198d8dc6",
   "metadata": {},
   "outputs": [],
   "source": [
    "def hist_plot(label, count):\n",
    "    _dict = {}\n",
    "    for x in range(len(label)):\n",
    "        _dict[label[x]] = count.iloc[x]\n",
    "    fig, ax = plt.subplots(figsize=(10,10))\n",
    "    ax.bar(_dict.keys(), _dict.values())\n",
    "    ax.set_title('Traffic type distribution', fontsize=16, fontweight=\"bold\")\n",
    "    ax.set_xlabel('Traffic type')\n",
    "    ax.tick_params(axis='x', labelrotation=90)\n",
    "    ax.set_ylabel('Distribution')\n",
    "    ax.grid(which='Major', axis='both')\n",
    "    plt.savefig(\"Traffic_type_distribution.png\")"
   ]
  },
  {
   "cell_type": "code",
   "execution_count": 31,
   "id": "2431301b-41c7-4597-ab2a-544d7e088b90",
   "metadata": {},
   "outputs": [
    {
     "data": {
      "image/png": "[encoded data removed]",
      "text/plain": [
       "<Figure size 1000x1000 with 1 Axes>"
      ]
     },
     "metadata": {},
     "output_type": "display_data"
    }
   ],
   "source": [
    "hist_plot(label, count)"
   ]
  },
  {
   "cell_type": "code",
   "execution_count": 32,
   "id": "70d85c55-91b2-4dba-90ec-ec9fbbaa500b",
   "metadata": {},
   "outputs": [],
   "source": [
    "def attack_plot(label, count):\n",
    "    _dict = {}\n",
    "    label = [x for x in label if x != 'BENIGN']\n",
    "    count = count.iloc[1:len(count)]\n",
    "    for x in range(len(label)):\n",
    "        _dict[label[x]] = count.iloc[x]\n",
    "    fig, ax = plt.subplots(figsize=(10,10))\n",
    "    ax.bar(_dict.keys(), _dict.values())\n",
    "    ax.set_title('Attack type distribution', fontsize=16, fontweight=\"bold\")\n",
    "    ax.set_xlabel('Traffic type')\n",
    "    ax.tick_params(axis='x', labelrotation=90)\n",
    "    ax.set_ylabel('Distribution')\n",
    "    ax.grid(which='Major', axis='both')\n",
    "    plt.savefig(\"attack_type_distribution.png\")"
   ]
  },
  {
   "cell_type": "code",
   "execution_count": 33,
   "id": "a0dae5c2-c27d-4986-8e23-ae832c0e202c",
   "metadata": {},
   "outputs": [
    {
     "data": {
      "image/png": "[encoded data removed]",
      "text/plain": [
       "<Figure size 1000x1000 with 1 Axes>"
      ]
     },
     "metadata": {},
     "output_type": "display_data"
    }
   ],
   "source": [
    "attack_plot(label, count)"
   ]
  },
  {
   "cell_type": "markdown",
   "id": "9b19bb48-1d67-481d-9ad0-e07c2dca350e",
   "metadata": {},
   "source": [
    "## 3.2 Correlation matrix"
   ]
  },
  {
   "cell_type": "code",
   "execution_count": 34,
   "id": "67ee977d-f73a-4629-ace8-604fb16b3c48",
   "metadata": {},
   "outputs": [],
   "source": [
    "X = data.drop([' Label'], axis=1)\n",
    "y = data[' Label']"
   ]
  },
  {
   "cell_type": "code",
   "execution_count": 35,
   "id": "b2340347-5273-4dbc-be5d-e280a6e81f70",
   "metadata": {},
   "outputs": [
    {
     "data": {
      "text/html": [
       "<div>\n",
       "<style scoped>\n",
       "    .dataframe tbody tr th:only-of-type {\n",
       "        vertical-align: middle;\n",
       "    }\n",
       "\n",
       "    .dataframe tbody tr th {\n",
       "        vertical-align: top;\n",
       "    }\n",
       "\n",
       "    .dataframe thead th {\n",
       "        text-align: right;\n",
       "    }\n",
       "</style>\n",
       "<table border=\"1\" class=\"dataframe\">\n",
       "  <thead>\n",
       "    <tr style=\"text-align: right;\">\n",
       "      <th></th>\n",
       "      <th>Destination Port</th>\n",
       "      <th>Flow Duration</th>\n",
       "      <th>Total Fwd Packets</th>\n",
       "      <th>Total Backward Packets</th>\n",
       "      <th>Total Length of Fwd Packets</th>\n",
       "      <th>Total Length of Bwd Packets</th>\n",
       "      <th>Fwd Packet Length Max</th>\n",
       "      <th>Fwd Packet Length Min</th>\n",
       "      <th>Fwd Packet Length Mean</th>\n",
       "      <th>Fwd Packet Length Std</th>\n",
       "      <th>...</th>\n",
       "      <th>act_data_pkt_fwd</th>\n",
       "      <th>min_seg_size_forward</th>\n",
       "      <th>Active Mean</th>\n",
       "      <th>Active Std</th>\n",
       "      <th>Active Max</th>\n",
       "      <th>Active Min</th>\n",
       "      <th>Idle Mean</th>\n",
       "      <th>Idle Std</th>\n",
       "      <th>Idle Max</th>\n",
       "      <th>Idle Min</th>\n",
       "    </tr>\n",
       "  </thead>\n",
       "  <tbody>\n",
       "    <tr>\n",
       "      <th>0</th>\n",
       "      <td>49188</td>\n",
       "      <td>4</td>\n",
       "      <td>2</td>\n",
       "      <td>0</td>\n",
       "      <td>12</td>\n",
       "      <td>0</td>\n",
       "      <td>6</td>\n",
       "      <td>6</td>\n",
       "      <td>6.0</td>\n",
       "      <td>0.0</td>\n",
       "      <td>...</td>\n",
       "      <td>1</td>\n",
       "      <td>20</td>\n",
       "      <td>0.0</td>\n",
       "      <td>0.0</td>\n",
       "      <td>0</td>\n",
       "      <td>0</td>\n",
       "      <td>0.0</td>\n",
       "      <td>0.0</td>\n",
       "      <td>0</td>\n",
       "      <td>0</td>\n",
       "    </tr>\n",
       "    <tr>\n",
       "      <th>1</th>\n",
       "      <td>49188</td>\n",
       "      <td>1</td>\n",
       "      <td>2</td>\n",
       "      <td>0</td>\n",
       "      <td>12</td>\n",
       "      <td>0</td>\n",
       "      <td>6</td>\n",
       "      <td>6</td>\n",
       "      <td>6.0</td>\n",
       "      <td>0.0</td>\n",
       "      <td>...</td>\n",
       "      <td>1</td>\n",
       "      <td>20</td>\n",
       "      <td>0.0</td>\n",
       "      <td>0.0</td>\n",
       "      <td>0</td>\n",
       "      <td>0</td>\n",
       "      <td>0.0</td>\n",
       "      <td>0.0</td>\n",
       "      <td>0</td>\n",
       "      <td>0</td>\n",
       "    </tr>\n",
       "    <tr>\n",
       "      <th>2</th>\n",
       "      <td>49188</td>\n",
       "      <td>1</td>\n",
       "      <td>2</td>\n",
       "      <td>0</td>\n",
       "      <td>12</td>\n",
       "      <td>0</td>\n",
       "      <td>6</td>\n",
       "      <td>6</td>\n",
       "      <td>6.0</td>\n",
       "      <td>0.0</td>\n",
       "      <td>...</td>\n",
       "      <td>1</td>\n",
       "      <td>20</td>\n",
       "      <td>0.0</td>\n",
       "      <td>0.0</td>\n",
       "      <td>0</td>\n",
       "      <td>0</td>\n",
       "      <td>0.0</td>\n",
       "      <td>0.0</td>\n",
       "      <td>0</td>\n",
       "      <td>0</td>\n",
       "    </tr>\n",
       "    <tr>\n",
       "      <th>3</th>\n",
       "      <td>49188</td>\n",
       "      <td>1</td>\n",
       "      <td>2</td>\n",
       "      <td>0</td>\n",
       "      <td>12</td>\n",
       "      <td>0</td>\n",
       "      <td>6</td>\n",
       "      <td>6</td>\n",
       "      <td>6.0</td>\n",
       "      <td>0.0</td>\n",
       "      <td>...</td>\n",
       "      <td>1</td>\n",
       "      <td>20</td>\n",
       "      <td>0.0</td>\n",
       "      <td>0.0</td>\n",
       "      <td>0</td>\n",
       "      <td>0</td>\n",
       "      <td>0.0</td>\n",
       "      <td>0.0</td>\n",
       "      <td>0</td>\n",
       "      <td>0</td>\n",
       "    </tr>\n",
       "    <tr>\n",
       "      <th>4</th>\n",
       "      <td>49486</td>\n",
       "      <td>3</td>\n",
       "      <td>2</td>\n",
       "      <td>0</td>\n",
       "      <td>12</td>\n",
       "      <td>0</td>\n",
       "      <td>6</td>\n",
       "      <td>6</td>\n",
       "      <td>6.0</td>\n",
       "      <td>0.0</td>\n",
       "      <td>...</td>\n",
       "      <td>1</td>\n",
       "      <td>20</td>\n",
       "      <td>0.0</td>\n",
       "      <td>0.0</td>\n",
       "      <td>0</td>\n",
       "      <td>0</td>\n",
       "      <td>0.0</td>\n",
       "      <td>0.0</td>\n",
       "      <td>0</td>\n",
       "      <td>0</td>\n",
       "    </tr>\n",
       "  </tbody>\n",
       "</table>\n",
       "<p>5 rows × 78 columns</p>\n",
       "</div>"
      ],
      "text/plain": [
       "    Destination Port   Flow Duration   Total Fwd Packets  \\\n",
       "0              49188               4                   2   \n",
       "1              49188               1                   2   \n",
       "2              49188               1                   2   \n",
       "3              49188               1                   2   \n",
       "4              49486               3                   2   \n",
       "\n",
       "    Total Backward Packets  Total Length of Fwd Packets  \\\n",
       "0                        0                           12   \n",
       "1                        0                           12   \n",
       "2                        0                           12   \n",
       "3                        0                           12   \n",
       "4                        0                           12   \n",
       "\n",
       "    Total Length of Bwd Packets   Fwd Packet Length Max  \\\n",
       "0                             0                       6   \n",
       "1                             0                       6   \n",
       "2                             0                       6   \n",
       "3                             0                       6   \n",
       "4                             0                       6   \n",
       "\n",
       "    Fwd Packet Length Min   Fwd Packet Length Mean   Fwd Packet Length Std  \\\n",
       "0                       6                      6.0                     0.0   \n",
       "1                       6                      6.0                     0.0   \n",
       "2                       6                      6.0                     0.0   \n",
       "3                       6                      6.0                     0.0   \n",
       "4                       6                      6.0                     0.0   \n",
       "\n",
       "   ...   act_data_pkt_fwd   min_seg_size_forward  Active Mean   Active Std  \\\n",
       "0  ...                  1                     20          0.0          0.0   \n",
       "1  ...                  1                     20          0.0          0.0   \n",
       "2  ...                  1                     20          0.0          0.0   \n",
       "3  ...                  1                     20          0.0          0.0   \n",
       "4  ...                  1                     20          0.0          0.0   \n",
       "\n",
       "    Active Max   Active Min  Idle Mean   Idle Std   Idle Max   Idle Min  \n",
       "0            0            0        0.0        0.0          0          0  \n",
       "1            0            0        0.0        0.0          0          0  \n",
       "2            0            0        0.0        0.0          0          0  \n",
       "3            0            0        0.0        0.0          0          0  \n",
       "4            0            0        0.0        0.0          0          0  \n",
       "\n",
       "[5 rows x 78 columns]"
      ]
     },
     "execution_count": 35,
     "metadata": {},
     "output_type": "execute_result"
    }
   ],
   "source": [
    "X.head()"
   ]
  },
  {
   "cell_type": "code",
   "execution_count": 39,
   "id": "a6e87e7b-f715-43b7-a879-2611358e663e",
   "metadata": {},
   "outputs": [
    {
     "data": {
      "text/plain": [
       "array(['BENIGN', 'FTP-Patator', 'SSH-Patator', 'DoS slowloris',\n",
       "       'DoS Slowhttptest', 'DoS Hulk', 'DoS GoldenEye', 'Heartbleed',\n",
       "       'Web Attack � Brute Force', 'Web Attack � XSS',\n",
       "       'Web Attack � Sql Injection', 'Infiltration', 'DDoS', 'Bot',\n",
       "       'PortScan'], dtype=object)"
      ]
     },
     "execution_count": 39,
     "metadata": {},
     "output_type": "execute_result"
    }
   ],
   "source": [
    "y.unique()"
   ]
  },
  {
   "cell_type": "code",
   "execution_count": 40,
   "id": "9557e1ec-6d00-44f0-81df-7adf4cc5256e",
   "metadata": {},
   "outputs": [
    {
     "data": {
      "text/plain": [
       "15"
      ]
     },
     "execution_count": 40,
     "metadata": {},
     "output_type": "execute_result"
    }
   ],
   "source": [
    "len(y.unique())"
   ]
  },
  {
   "cell_type": "markdown",
   "id": "f8965317-4358-48ba-ab79-8ce7ad710c90",
   "metadata": {},
   "source": [
    "## 3.4 Data Scaling"
   ]
  },
  {
   "cell_type": "code",
   "execution_count": 25,
   "id": "063c7d91-e296-4416-ae99-c54ef3542fe2",
   "metadata": {},
   "outputs": [],
   "source": [
    "scaler = MinMaxScaler()\n",
    "X = scaler.fit_transform(X)"
   ]
  },
  {
   "cell_type": "code",
   "execution_count": 26,
   "id": "c71cb2e2-d0cd-4a3c-8c4b-e8b0ac8a3a7c",
   "metadata": {},
   "outputs": [
    {
     "data": {
      "text/plain": [
       "array([[7.50560769e-01, 1.41666654e-07, 4.55046005e-06, ...,\n",
       "        0.00000000e+00, 0.00000000e+00, 0.00000000e+00],\n",
       "       [7.50560769e-01, 1.16666656e-07, 4.55046005e-06, ...,\n",
       "        0.00000000e+00, 0.00000000e+00, 0.00000000e+00],\n",
       "       [7.50560769e-01, 1.16666656e-07, 4.55046005e-06, ...,\n",
       "        0.00000000e+00, 0.00000000e+00, 0.00000000e+00],\n",
       "       ...,\n",
       "       [6.75974670e-03, 1.34844154e-03, 3.13981744e-04, ...,\n",
       "        0.00000000e+00, 0.00000000e+00, 0.00000000e+00],\n",
       "       [6.75974670e-03, 1.19064156e-03, 2.22972543e-04, ...,\n",
       "        0.00000000e+00, 0.00000000e+00, 0.00000000e+00],\n",
       "       [6.75974670e-03, 1.55784152e-03, 2.04770702e-04, ...,\n",
       "        0.00000000e+00, 0.00000000e+00, 0.00000000e+00]])"
      ]
     },
     "execution_count": 26,
     "metadata": {},
     "output_type": "execute_result"
    }
   ],
   "source": [
    "X"
   ]
  },
  {
   "cell_type": "markdown",
   "id": "214f862c-8035-4795-82d2-c024fbaf070a",
   "metadata": {},
   "source": [
    "## 3.5 Save Data"
   ]
  },
  {
   "cell_type": "code",
   "execution_count": 54,
   "id": "c9d53f1b-428b-42b1-bfc7-7d9880af4318",
   "metadata": {},
   "outputs": [],
   "source": [
    "np.save('data/CIC_IDS_2017/prepared_train_data.npy', X)\n",
    "np.save('data/CIC_IDS_2017/prepared_train_labels.npy', y)"
   ]
  },
  {
   "cell_type": "markdown",
   "id": "66b08a0b-f203-445b-9324-fd8092c555de",
   "metadata": {},
   "source": [
    "## 3.6 Load Data"
   ]
  },
  {
   "cell_type": "code",
   "execution_count": 8,
   "id": "b10416a1-71b8-4df3-94f5-bb5ebfc51179",
   "metadata": {},
   "outputs": [],
   "source": [
    "X = np.load('data/CIC_IDS_2017/prepared_train_data.npy')\n",
    "y = np.load('data/CIC_IDS_2017/prepared_train_labels.npy')"
   ]
  },
  {
   "cell_type": "code",
   "execution_count": 9,
   "id": "ce7e46ce-014c-4b57-a30c-5e0002a79ba3",
   "metadata": {},
   "outputs": [
    {
     "data": {
      "text/plain": [
       "array([[ 2.25050642, -0.43961241, -0.00982461, ..., -0.10461905,\n",
       "        -0.14940357, -0.10951643],\n",
       "       [ 2.25050642, -0.4396125 , -0.00982461, ..., -0.10461905,\n",
       "        -0.14940357, -0.10951643],\n",
       "       [ 2.25050642, -0.4396125 , -0.00982461, ..., -0.10461905,\n",
       "        -0.14940357, -0.10951643],\n",
       "       ...,\n",
       "       [-0.41689841, -0.4348067 ,  0.08083571, ..., -0.10461905,\n",
       "        -0.14940357, -0.10951643],\n",
       "       [-0.41689841, -0.43536915,  0.05417091, ..., -0.10461905,\n",
       "        -0.14940357, -0.10951643],\n",
       "       [-0.41689841, -0.43406035,  0.04883795, ..., -0.10461905,\n",
       "        -0.14940357, -0.10951643]])"
      ]
     },
     "execution_count": 9,
     "metadata": {},
     "output_type": "execute_result"
    }
   ],
   "source": [
    "X"
   ]
  },
  {
   "cell_type": "code",
   "execution_count": 10,
   "id": "89bf3564-fea8-4930-8391-36d59cd7fece",
   "metadata": {},
   "outputs": [
    {
     "data": {
      "text/plain": [
       "array([0, 0, 0, ..., 0, 0, 0])"
      ]
     },
     "execution_count": 10,
     "metadata": {},
     "output_type": "execute_result"
    }
   ],
   "source": [
    "y"
   ]
  },
  {
   "cell_type": "markdown",
   "id": "04d8ee6c-f2ad-4b8e-89f9-bd289a8061ef",
   "metadata": {},
   "source": [
    "# 4. Create Models"
   ]
  },
  {
   "cell_type": "markdown",
   "id": "dbd697dc-1c92-4bb0-94f1-4c9722ad179a",
   "metadata": {},
   "source": [
    "## 4.1 Evaluation metrics"
   ]
  },
  {
   "cell_type": "code",
   "execution_count": 21,
   "id": "353ee5eb-9bb2-46de-b9e9-79643dc736f4",
   "metadata": {},
   "outputs": [],
   "source": [
    "def accuracy(y_val, y_preds, count=0):\n",
    "    for x in range(len(y_val)):\n",
    "        if y_val[x] == y_preds[x]:\n",
    "            count += 1\n",
    "    return count / len(y_preds)"
   ]
  },
  {
   "cell_type": "markdown",
   "id": "c86cbdc8-6513-4a80-b6eb-7348fd2b31ac",
   "metadata": {},
   "source": [
    "## 4.2 Split data"
   ]
  },
  {
   "cell_type": "code",
   "execution_count": 31,
   "id": "d4e674f4-9d2f-46e4-a1c6-f65b1dab4423",
   "metadata": {},
   "outputs": [],
   "source": [
    "X_train, X_test, y_train, y_test = train_test_split(X, y, test_size=0.15)"
   ]
  },
  {
   "cell_type": "code",
   "execution_count": 32,
   "id": "134e1af8-3194-4b08-beac-27f2dff94544",
   "metadata": {},
   "outputs": [],
   "source": [
    "X_train, X_val, y_train, y_val = train_test_split(X_train, y_train, test_size=0.18)"
   ]
  },
  {
   "cell_type": "code",
   "execution_count": 33,
   "id": "336d6ce2-e355-43bc-8d3e-448555dff95c",
   "metadata": {},
   "outputs": [
    {
     "data": {
      "text/plain": [
       "((1971029, 32), (1971029,), (432665, 32), (432665,), (424182, 32), (424182,))"
      ]
     },
     "execution_count": 33,
     "metadata": {},
     "output_type": "execute_result"
    }
   ],
   "source": [
    "X_train.shape, y_train.shape, X_val.shape, y_val.shape, X_test.shape, y_test.shape"
   ]
  },
  {
   "cell_type": "code",
   "execution_count": 35,
   "id": "58361f9d-9318-4b3d-8b82-a448cb73b44f",
   "metadata": {},
   "outputs": [],
   "source": [
    "from tensorflow import keras"
   ]
  },
  {
   "cell_type": "code",
   "execution_count": 40,
   "id": "8612e893-bc83-4d32-a10e-0cfc13253670",
   "metadata": {},
   "outputs": [
    {
     "data": {
      "text/plain": [
       "15"
      ]
     },
     "execution_count": 40,
     "metadata": {},
     "output_type": "execute_result"
    }
   ],
   "source": [
    "len(np.unique(y_train))"
   ]
  },
  {
   "cell_type": "code",
   "execution_count": 36,
   "id": "6494fbb8-8aec-4dd1-bba3-a87eb3ef3918",
   "metadata": {},
   "outputs": [
    {
     "data": {
      "text/plain": [
       "32"
      ]
     },
     "execution_count": 36,
     "metadata": {},
     "output_type": "execute_result"
    }
   ],
   "source": [
    "X_train.shape[1]"
   ]
  },
  {
   "cell_type": "code",
   "execution_count": 57,
   "id": "36e42ee9-dd58-4bd6-a23b-6fa5ece5b2e8",
   "metadata": {},
   "outputs": [],
   "source": [
    "def create_model(X_train, y_train):\n",
    "    model = keras.Sequential()\n",
    "    model.add(keras.layers.Dense(X_train.shape[1], activation='relu', input_shape=(X_train.shape[1],)))\n",
    "    model.add(keras.layers.Dense(256, activation='relu'))\n",
    "    model.add(keras.layers.Dense(len(np.unique(y_train)), activation='softmax'))\n",
    "    model.compile(optimizer='adam', loss='sparse_categorical_crossentropy', metrics=['accuracy']) # Compile the model\n",
    "    return model"
   ]
  },
  {
   "cell_type": "code",
   "execution_count": 58,
   "id": "20b33e75-2262-48e7-9e8c-8186d8726bf7",
   "metadata": {},
   "outputs": [
    {
     "data": {
      "text/html": [
       "<pre style=\"white-space:pre;overflow-x:auto;line-height:normal;font-family:Menlo,'DejaVu Sans Mono',consolas,'Courier New',monospace\"><span style=\"font-weight: bold\">Model: \"sequential_4\"</span>\n",
       "</pre>\n"
      ],
      "text/plain": [
       "\u001b[1mModel: \"sequential_4\"\u001b[0m\n"
      ]
     },
     "metadata": {},
     "output_type": "display_data"
    },
    {
     "data": {
      "text/html": [
       "<pre style=\"white-space:pre;overflow-x:auto;line-height:normal;font-family:Menlo,'DejaVu Sans Mono',consolas,'Courier New',monospace\">┏━━━━━━━━━━━━━━━━━━━━━━━━━━━━━━━━━┳━━━━━━━━━━━━━━━━━━━━━━━━┳━━━━━━━━━━━━━━━┓\n",
       "┃<span style=\"font-weight: bold\"> Layer (type)                    </span>┃<span style=\"font-weight: bold\"> Output Shape           </span>┃<span style=\"font-weight: bold\">       Param # </span>┃\n",
       "┡━━━━━━━━━━━━━━━━━━━━━━━━━━━━━━━━━╇━━━━━━━━━━━━━━━━━━━━━━━━╇━━━━━━━━━━━━━━━┩\n",
       "│ dense_12 (<span style=\"color: #0087ff; text-decoration-color: #0087ff\">Dense</span>)                │ (<span style=\"color: #00d7ff; text-decoration-color: #00d7ff\">None</span>, <span style=\"color: #00af00; text-decoration-color: #00af00\">32</span>)             │         <span style=\"color: #00af00; text-decoration-color: #00af00\">1,056</span> │\n",
       "├─────────────────────────────────┼────────────────────────┼───────────────┤\n",
       "│ dense_13 (<span style=\"color: #0087ff; text-decoration-color: #0087ff\">Dense</span>)                │ (<span style=\"color: #00d7ff; text-decoration-color: #00d7ff\">None</span>, <span style=\"color: #00af00; text-decoration-color: #00af00\">256</span>)            │         <span style=\"color: #00af00; text-decoration-color: #00af00\">8,448</span> │\n",
       "├─────────────────────────────────┼────────────────────────┼───────────────┤\n",
       "│ dense_14 (<span style=\"color: #0087ff; text-decoration-color: #0087ff\">Dense</span>)                │ (<span style=\"color: #00d7ff; text-decoration-color: #00d7ff\">None</span>, <span style=\"color: #00af00; text-decoration-color: #00af00\">15</span>)             │         <span style=\"color: #00af00; text-decoration-color: #00af00\">3,855</span> │\n",
       "└─────────────────────────────────┴────────────────────────┴───────────────┘\n",
       "</pre>\n"
      ],
      "text/plain": [
       "┏━━━━━━━━━━━━━━━━━━━━━━━━━━━━━━━━━┳━━━━━━━━━━━━━━━━━━━━━━━━┳━━━━━━━━━━━━━━━┓\n",
       "┃\u001b[1m \u001b[0m\u001b[1mLayer (type)                   \u001b[0m\u001b[1m \u001b[0m┃\u001b[1m \u001b[0m\u001b[1mOutput Shape          \u001b[0m\u001b[1m \u001b[0m┃\u001b[1m \u001b[0m\u001b[1m      Param #\u001b[0m\u001b[1m \u001b[0m┃\n",
       "┡━━━━━━━━━━━━━━━━━━━━━━━━━━━━━━━━━╇━━━━━━━━━━━━━━━━━━━━━━━━╇━━━━━━━━━━━━━━━┩\n",
       "│ dense_12 (\u001b[38;5;33mDense\u001b[0m)                │ (\u001b[38;5;45mNone\u001b[0m, \u001b[38;5;34m32\u001b[0m)             │         \u001b[38;5;34m1,056\u001b[0m │\n",
       "├─────────────────────────────────┼────────────────────────┼───────────────┤\n",
       "│ dense_13 (\u001b[38;5;33mDense\u001b[0m)                │ (\u001b[38;5;45mNone\u001b[0m, \u001b[38;5;34m256\u001b[0m)            │         \u001b[38;5;34m8,448\u001b[0m │\n",
       "├─────────────────────────────────┼────────────────────────┼───────────────┤\n",
       "│ dense_14 (\u001b[38;5;33mDense\u001b[0m)                │ (\u001b[38;5;45mNone\u001b[0m, \u001b[38;5;34m15\u001b[0m)             │         \u001b[38;5;34m3,855\u001b[0m │\n",
       "└─────────────────────────────────┴────────────────────────┴───────────────┘\n"
      ]
     },
     "metadata": {},
     "output_type": "display_data"
    },
    {
     "data": {
      "text/html": [
       "<pre style=\"white-space:pre;overflow-x:auto;line-height:normal;font-family:Menlo,'DejaVu Sans Mono',consolas,'Courier New',monospace\"><span style=\"font-weight: bold\"> Total params: </span><span style=\"color: #00af00; text-decoration-color: #00af00\">13,359</span> (52.18 KB)\n",
       "</pre>\n"
      ],
      "text/plain": [
       "\u001b[1m Total params: \u001b[0m\u001b[38;5;34m13,359\u001b[0m (52.18 KB)\n"
      ]
     },
     "metadata": {},
     "output_type": "display_data"
    },
    {
     "data": {
      "text/html": [
       "<pre style=\"white-space:pre;overflow-x:auto;line-height:normal;font-family:Menlo,'DejaVu Sans Mono',consolas,'Courier New',monospace\"><span style=\"font-weight: bold\"> Trainable params: </span><span style=\"color: #00af00; text-decoration-color: #00af00\">13,359</span> (52.18 KB)\n",
       "</pre>\n"
      ],
      "text/plain": [
       "\u001b[1m Trainable params: \u001b[0m\u001b[38;5;34m13,359\u001b[0m (52.18 KB)\n"
      ]
     },
     "metadata": {},
     "output_type": "display_data"
    },
    {
     "data": {
      "text/html": [
       "<pre style=\"white-space:pre;overflow-x:auto;line-height:normal;font-family:Menlo,'DejaVu Sans Mono',consolas,'Courier New',monospace\"><span style=\"font-weight: bold\"> Non-trainable params: </span><span style=\"color: #00af00; text-decoration-color: #00af00\">0</span> (0.00 B)\n",
       "</pre>\n"
      ],
      "text/plain": [
       "\u001b[1m Non-trainable params: \u001b[0m\u001b[38;5;34m0\u001b[0m (0.00 B)\n"
      ]
     },
     "metadata": {},
     "output_type": "display_data"
    }
   ],
   "source": [
    "model = create_model(X_train, y_train)\n",
    "model.summary()"
   ]
  },
  {
   "cell_type": "code",
   "execution_count": 61,
   "id": "bcc86e0f-e7eb-4227-96d4-434c7c9806fb",
   "metadata": {},
   "outputs": [
    {
     "name": "stdout",
     "output_type": "stream",
     "text": [
      "Epoch 1/20\n",
      "\u001b[1m61595/61595\u001b[0m \u001b[32m━━━━━━━━━━━━━━━━━━━━\u001b[0m\u001b[37m\u001b[0m \u001b[1m102s\u001b[0m 2ms/step - accuracy: 0.9674 - loss: 0.0826 - val_accuracy: 0.9810 - val_loss: 0.0457\n",
      "Epoch 2/20\n",
      "\u001b[1m61595/61595\u001b[0m \u001b[32m━━━━━━━━━━━━━━━━━━━━\u001b[0m\u001b[37m\u001b[0m \u001b[1m102s\u001b[0m 2ms/step - accuracy: 0.9801 - loss: 0.0477 - val_accuracy: 0.9830 - val_loss: 0.0443\n",
      "Epoch 3/20\n",
      "\u001b[1m61595/61595\u001b[0m \u001b[32m━━━━━━━━━━━━━━━━━━━━\u001b[0m\u001b[37m\u001b[0m \u001b[1m103s\u001b[0m 2ms/step - accuracy: 0.9817 - loss: 0.0436 - val_accuracy: 0.9813 - val_loss: 0.0437\n",
      "Epoch 4/20\n",
      "\u001b[1m61595/61595\u001b[0m \u001b[32m━━━━━━━━━━━━━━━━━━━━\u001b[0m\u001b[37m\u001b[0m \u001b[1m103s\u001b[0m 2ms/step - accuracy: 0.9824 - loss: 0.0421 - val_accuracy: 0.9838 - val_loss: 0.0401\n",
      "Epoch 5/20\n",
      "\u001b[1m61595/61595\u001b[0m \u001b[32m━━━━━━━━━━━━━━━━━━━━\u001b[0m\u001b[37m\u001b[0m \u001b[1m103s\u001b[0m 2ms/step - accuracy: 0.9827 - loss: 0.0410 - val_accuracy: 0.9799 - val_loss: 0.0643\n",
      "Epoch 6/20\n",
      "\u001b[1m61595/61595\u001b[0m \u001b[32m━━━━━━━━━━━━━━━━━━━━\u001b[0m\u001b[37m\u001b[0m \u001b[1m102s\u001b[0m 2ms/step - accuracy: 0.9831 - loss: 0.0405 - val_accuracy: 0.9817 - val_loss: 0.0420\n",
      "Epoch 7/20\n",
      "\u001b[1m61595/61595\u001b[0m \u001b[32m━━━━━━━━━━━━━━━━━━━━\u001b[0m\u001b[37m\u001b[0m \u001b[1m87s\u001b[0m 1ms/step - accuracy: 0.9831 - loss: 0.0402 - val_accuracy: 0.9833 - val_loss: 0.0401\n",
      "Epoch 8/20\n",
      "\u001b[1m61595/61595\u001b[0m \u001b[32m━━━━━━━━━━━━━━━━━━━━\u001b[0m\u001b[37m\u001b[0m \u001b[1m87s\u001b[0m 1ms/step - accuracy: 0.9834 - loss: 0.0397 - val_accuracy: 0.9843 - val_loss: 0.0385\n",
      "Epoch 9/20\n",
      "\u001b[1m61595/61595\u001b[0m \u001b[32m━━━━━━━━━━━━━━━━━━━━\u001b[0m\u001b[37m\u001b[0m \u001b[1m87s\u001b[0m 1ms/step - accuracy: 0.9836 - loss: 0.0398 - val_accuracy: 0.9821 - val_loss: 0.0404\n",
      "Epoch 10/20\n",
      "\u001b[1m61595/61595\u001b[0m \u001b[32m━━━━━━━━━━━━━━━━━━━━\u001b[0m\u001b[37m\u001b[0m \u001b[1m87s\u001b[0m 1ms/step - accuracy: 0.9834 - loss: 0.0395 - val_accuracy: 0.9843 - val_loss: 0.0390\n",
      "Epoch 11/20\n",
      "\u001b[1m61595/61595\u001b[0m \u001b[32m━━━━━━━━━━━━━━━━━━━━\u001b[0m\u001b[37m\u001b[0m \u001b[1m87s\u001b[0m 1ms/step - accuracy: 0.9837 - loss: 0.0392 - val_accuracy: 0.9847 - val_loss: 0.0376\n",
      "Epoch 12/20\n",
      "\u001b[1m61595/61595\u001b[0m \u001b[32m━━━━━━━━━━━━━━━━━━━━\u001b[0m\u001b[37m\u001b[0m \u001b[1m87s\u001b[0m 1ms/step - accuracy: 0.9836 - loss: 0.0395 - val_accuracy: 0.9837 - val_loss: 0.0375\n",
      "Epoch 13/20\n",
      "\u001b[1m61595/61595\u001b[0m \u001b[32m━━━━━━━━━━━━━━━━━━━━\u001b[0m\u001b[37m\u001b[0m \u001b[1m87s\u001b[0m 1ms/step - accuracy: 0.9838 - loss: 0.0392 - val_accuracy: 0.9842 - val_loss: 0.0401\n",
      "Epoch 14/20\n",
      "\u001b[1m61595/61595\u001b[0m \u001b[32m━━━━━━━━━━━━━━━━━━━━\u001b[0m\u001b[37m\u001b[0m \u001b[1m87s\u001b[0m 1ms/step - accuracy: 0.9841 - loss: 0.0390 - val_accuracy: 0.9850 - val_loss: 0.0377\n",
      "Epoch 15/20\n",
      "\u001b[1m61595/61595\u001b[0m \u001b[32m━━━━━━━━━━━━━━━━━━━━\u001b[0m\u001b[37m\u001b[0m \u001b[1m87s\u001b[0m 1ms/step - accuracy: 0.9840 - loss: 0.0391 - val_accuracy: 0.9855 - val_loss: 0.0376\n",
      "Epoch 16/20\n",
      "\u001b[1m61595/61595\u001b[0m \u001b[32m━━━━━━━━━━━━━━━━━━━━\u001b[0m\u001b[37m\u001b[0m \u001b[1m88s\u001b[0m 1ms/step - accuracy: 0.9841 - loss: 0.0390 - val_accuracy: 0.9848 - val_loss: 0.0381\n",
      "Epoch 17/20\n",
      "\u001b[1m61595/61595\u001b[0m \u001b[32m━━━━━━━━━━━━━━━━━━━━\u001b[0m\u001b[37m\u001b[0m \u001b[1m87s\u001b[0m 1ms/step - accuracy: 0.9843 - loss: 0.0386 - val_accuracy: 0.9835 - val_loss: 0.0404\n",
      "Epoch 18/20\n",
      "\u001b[1m61595/61595\u001b[0m \u001b[32m━━━━━━━━━━━━━━━━━━━━\u001b[0m\u001b[37m\u001b[0m \u001b[1m87s\u001b[0m 1ms/step - accuracy: 0.9841 - loss: 0.0390 - val_accuracy: 0.9852 - val_loss: 0.0366\n",
      "Epoch 19/20\n",
      "\u001b[1m61595/61595\u001b[0m \u001b[32m━━━━━━━━━━━━━━━━━━━━\u001b[0m\u001b[37m\u001b[0m \u001b[1m87s\u001b[0m 1ms/step - accuracy: 0.9842 - loss: 0.0389 - val_accuracy: 0.9850 - val_loss: 0.0366\n",
      "Epoch 20/20\n",
      "\u001b[1m61595/61595\u001b[0m \u001b[32m━━━━━━━━━━━━━━━━━━━━\u001b[0m\u001b[37m\u001b[0m \u001b[1m88s\u001b[0m 1ms/step - accuracy: 0.9842 - loss: 0.0391 - val_accuracy: 0.9806 - val_loss: 0.0428\n"
     ]
    },
    {
     "data": {
      "text/plain": [
       "<keras.src.callbacks.history.History at 0x7879961936b0>"
      ]
     },
     "execution_count": 61,
     "metadata": {},
     "output_type": "execute_result"
    }
   ],
   "source": [
    "model.fit(X_train, y_train,\n",
    "          batch_size=32,\n",
    "          epochs=20,\n",
    "          validation_data=(X_val, y_val))"
   ]
  },
  {
   "cell_type": "code",
   "execution_count": 60,
   "id": "6cc1cad4-301f-4fca-8782-f024db91d2a7",
   "metadata": {},
   "outputs": [
    {
     "data": {
      "text/plain": [
       "6984"
      ]
     },
     "execution_count": 60,
     "metadata": {},
     "output_type": "execute_result"
    }
   ],
   "source": [
    "import gc\n",
    "\n",
    "gc.collect()"
   ]
  },
  {
   "cell_type": "code",
   "execution_count": 65,
   "id": "f0c1b282-460e-4583-aa29-41e780d64d85",
   "metadata": {},
   "outputs": [
    {
     "name": "stdout",
     "output_type": "stream",
     "text": [
      "\u001b[1m13256/13256\u001b[0m \u001b[32m━━━━━━━━━━━━━━━━━━━━\u001b[0m\u001b[37m\u001b[0m \u001b[1m16s\u001b[0m 1ms/step - accuracy: 0.9803 - loss: 0.0444\n"
     ]
    }
   ],
   "source": [
    "_, accuracy = model.evaluate(X_test, y_test)"
   ]
  },
  {
   "cell_type": "code",
   "execution_count": 66,
   "id": "ee967dbd-ae4d-4a7c-abd4-4f408340fa25",
   "metadata": {},
   "outputs": [
    {
     "name": "stdout",
     "output_type": "stream",
     "text": [
      "Accuracy: 98.05%\n"
     ]
    }
   ],
   "source": [
    "print(f\"Accuracy: {accuracy*100:.2f}%\")"
   ]
  },
  {
   "cell_type": "code",
   "execution_count": null,
   "id": "a72a9bfa-3216-43c4-afff-ca100108c5e0",
   "metadata": {},
   "outputs": [],
   "source": []
  }
 ],
 "metadata": {
  "kernelspec": {
   "display_name": "Python 3 (ipykernel)",
   "language": "python",
   "name": "python3"
  },
  "language_info": {
   "codemirror_mode": {
    "name": "ipython",
    "version": 3
   },
   "file_extension": ".py",
   "mimetype": "text/x-python",
   "name": "python",
   "nbconvert_exporter": "python",
   "pygments_lexer": "ipython3",
   "version": "3.11.9"
  }
 },
 "nbformat": 4,
 "nbformat_minor": 5
}
