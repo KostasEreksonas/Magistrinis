{
 "cells": [
  {
   "cell_type": "code",
   "execution_count": 1,
   "id": "fb03d2ec-c00c-439b-82ce-242a978414b0",
   "metadata": {},
   "outputs": [
    {
     "name": "stderr",
     "output_type": "stream",
     "text": [
      "2025-04-16 12:15:58.021001: E external/local_xla/xla/stream_executor/cuda/cuda_fft.cc:467] Unable to register cuFFT factory: Attempting to register factory for plugin cuFFT when one has already been registered\n",
      "WARNING: All log messages before absl::InitializeLog() is called are written to STDERR\n",
      "E0000 00:00:1744794958.039918  148846 cuda_dnn.cc:8579] Unable to register cuDNN factory: Attempting to register factory for plugin cuDNN when one has already been registered\n",
      "E0000 00:00:1744794958.045137  148846 cuda_blas.cc:1407] Unable to register cuBLAS factory: Attempting to register factory for plugin cuBLAS when one has already been registered\n",
      "W0000 00:00:1744794958.060170  148846 computation_placer.cc:177] computation placer already registered. Please check linkage and avoid linking the same target more than once.\n",
      "W0000 00:00:1744794958.060185  148846 computation_placer.cc:177] computation placer already registered. Please check linkage and avoid linking the same target more than once.\n",
      "W0000 00:00:1744794958.060186  148846 computation_placer.cc:177] computation placer already registered. Please check linkage and avoid linking the same target more than once.\n",
      "W0000 00:00:1744794958.060188  148846 computation_placer.cc:177] computation placer already registered. Please check linkage and avoid linking the same target more than once.\n",
      "2025-04-16 12:15:58.065173: I tensorflow/core/platform/cpu_feature_guard.cc:210] This TensorFlow binary is optimized to use available CPU instructions in performance-critical operations.\n",
      "To enable the following instructions: AVX2 FMA, in other operations, rebuild TensorFlow with the appropriate compiler flags.\n"
     ]
    }
   ],
   "source": [
    "import numpy as np\n",
    "import pandas as pd\n",
    "from sklearn.model_selection import train_test_split\n",
    "from sklearn.neighbors import KNeighborsClassifier\n",
    "from tensorflow import keras\n",
    "from sklearn.metrics import matthews_corrcoef, accuracy_score, root_mean_squared_error, mean_squared_error, mean_absolute_error, precision_score, confusion_matrix, multilabel_confusion_matrix, classification_report, f1_score, precision_score, recall_score\n",
    "from sklearn.ensemble import RandomForestClassifier\n",
    "import xgboost as xgb\n",
    "import lightgbm\n",
    "import time\n",
    "from sklearn.preprocessing import StandardScaler, LabelEncoder\n",
    "import seaborn as sns\n",
    "from sklearn.linear_model import LogisticRegression\n",
    "from sklearn.svm import SVC\n",
    "import gc\n",
    "from tensorflow.keras.utils import to_categorical\n",
    "import matplotlib.pyplot as plt\n",
    "import pickle"
   ]
  },
  {
   "cell_type": "code",
   "execution_count": 2,
   "id": "80315c9e-a50f-4575-adcd-645885979156",
   "metadata": {},
   "outputs": [],
   "source": [
    "data = pd.read_csv('data/CIC_IoT2023/custom/multiclass_classification_data_1000.csv')\n",
    "data = data.drop(['Unnamed: 0', 'label'], axis=1)"
   ]
  },
  {
   "cell_type": "code",
   "execution_count": 3,
   "id": "270f433b-f5f2-418d-8642-beedc85061b3",
   "metadata": {},
   "outputs": [
    {
     "data": {
      "text/html": [
       "<div>\n",
       "<style scoped>\n",
       "    .dataframe tbody tr th:only-of-type {\n",
       "        vertical-align: middle;\n",
       "    }\n",
       "\n",
       "    .dataframe tbody tr th {\n",
       "        vertical-align: top;\n",
       "    }\n",
       "\n",
       "    .dataframe thead th {\n",
       "        text-align: right;\n",
       "    }\n",
       "</style>\n",
       "<table border=\"1\" class=\"dataframe\">\n",
       "  <thead>\n",
       "    <tr style=\"text-align: right;\">\n",
       "      <th></th>\n",
       "      <th>flow_duration</th>\n",
       "      <th>Header_Length</th>\n",
       "      <th>Protocol Type</th>\n",
       "      <th>Duration</th>\n",
       "      <th>Rate</th>\n",
       "      <th>Srate</th>\n",
       "      <th>Drate</th>\n",
       "      <th>fin_flag_number</th>\n",
       "      <th>syn_flag_number</th>\n",
       "      <th>rst_flag_number</th>\n",
       "      <th>...</th>\n",
       "      <th>Std</th>\n",
       "      <th>Tot size</th>\n",
       "      <th>IAT</th>\n",
       "      <th>Number</th>\n",
       "      <th>Magnitue</th>\n",
       "      <th>Radius</th>\n",
       "      <th>Covariance</th>\n",
       "      <th>Variance</th>\n",
       "      <th>Weight</th>\n",
       "      <th>Attack Type</th>\n",
       "    </tr>\n",
       "  </thead>\n",
       "  <tbody>\n",
       "    <tr>\n",
       "      <th>0</th>\n",
       "      <td>0.0</td>\n",
       "      <td>0.0</td>\n",
       "      <td>0.99</td>\n",
       "      <td>65.27</td>\n",
       "      <td>1.232415</td>\n",
       "      <td>1.232415</td>\n",
       "      <td>0.0</td>\n",
       "      <td>0.0</td>\n",
       "      <td>0.0</td>\n",
       "      <td>0.0</td>\n",
       "      <td>...</td>\n",
       "      <td>0.617394</td>\n",
       "      <td>42.18</td>\n",
       "      <td>8.312856e+07</td>\n",
       "      <td>9.5</td>\n",
       "      <td>9.184764</td>\n",
       "      <td>0.874489</td>\n",
       "      <td>2.990124</td>\n",
       "      <td>0.13</td>\n",
       "      <td>141.55</td>\n",
       "      <td>DDoS</td>\n",
       "    </tr>\n",
       "    <tr>\n",
       "      <th>1</th>\n",
       "      <td>0.0</td>\n",
       "      <td>54.0</td>\n",
       "      <td>6.00</td>\n",
       "      <td>64.00</td>\n",
       "      <td>31.840037</td>\n",
       "      <td>31.840037</td>\n",
       "      <td>0.0</td>\n",
       "      <td>0.0</td>\n",
       "      <td>1.0</td>\n",
       "      <td>0.0</td>\n",
       "      <td>...</td>\n",
       "      <td>0.000000</td>\n",
       "      <td>54.00</td>\n",
       "      <td>8.309343e+07</td>\n",
       "      <td>9.5</td>\n",
       "      <td>10.392305</td>\n",
       "      <td>0.000000</td>\n",
       "      <td>0.000000</td>\n",
       "      <td>0.00</td>\n",
       "      <td>141.55</td>\n",
       "      <td>DDoS</td>\n",
       "    </tr>\n",
       "    <tr>\n",
       "      <th>2</th>\n",
       "      <td>0.0</td>\n",
       "      <td>0.0</td>\n",
       "      <td>0.99</td>\n",
       "      <td>63.36</td>\n",
       "      <td>2.481472</td>\n",
       "      <td>2.481472</td>\n",
       "      <td>0.0</td>\n",
       "      <td>0.0</td>\n",
       "      <td>0.0</td>\n",
       "      <td>0.0</td>\n",
       "      <td>...</td>\n",
       "      <td>0.617394</td>\n",
       "      <td>42.18</td>\n",
       "      <td>8.314964e+07</td>\n",
       "      <td>9.5</td>\n",
       "      <td>9.184764</td>\n",
       "      <td>0.874489</td>\n",
       "      <td>2.990124</td>\n",
       "      <td>0.13</td>\n",
       "      <td>141.55</td>\n",
       "      <td>DDoS</td>\n",
       "    </tr>\n",
       "    <tr>\n",
       "      <th>3</th>\n",
       "      <td>0.0</td>\n",
       "      <td>54.0</td>\n",
       "      <td>6.00</td>\n",
       "      <td>64.00</td>\n",
       "      <td>4.499163</td>\n",
       "      <td>4.499163</td>\n",
       "      <td>0.0</td>\n",
       "      <td>0.0</td>\n",
       "      <td>0.0</td>\n",
       "      <td>0.0</td>\n",
       "      <td>...</td>\n",
       "      <td>0.000000</td>\n",
       "      <td>54.00</td>\n",
       "      <td>8.333215e+07</td>\n",
       "      <td>9.5</td>\n",
       "      <td>10.392305</td>\n",
       "      <td>0.000000</td>\n",
       "      <td>0.000000</td>\n",
       "      <td>0.00</td>\n",
       "      <td>141.55</td>\n",
       "      <td>DDoS</td>\n",
       "    </tr>\n",
       "    <tr>\n",
       "      <th>4</th>\n",
       "      <td>0.0</td>\n",
       "      <td>54.0</td>\n",
       "      <td>6.00</td>\n",
       "      <td>64.00</td>\n",
       "      <td>15.849033</td>\n",
       "      <td>15.849033</td>\n",
       "      <td>0.0</td>\n",
       "      <td>0.0</td>\n",
       "      <td>0.0</td>\n",
       "      <td>0.0</td>\n",
       "      <td>...</td>\n",
       "      <td>0.000000</td>\n",
       "      <td>54.00</td>\n",
       "      <td>8.307156e+07</td>\n",
       "      <td>9.5</td>\n",
       "      <td>10.392305</td>\n",
       "      <td>0.000000</td>\n",
       "      <td>0.000000</td>\n",
       "      <td>0.00</td>\n",
       "      <td>141.55</td>\n",
       "      <td>DDoS</td>\n",
       "    </tr>\n",
       "  </tbody>\n",
       "</table>\n",
       "<p>5 rows × 47 columns</p>\n",
       "</div>"
      ],
      "text/plain": [
       "   flow_duration  Header_Length  Protocol Type  Duration       Rate  \\\n",
       "0            0.0            0.0           0.99     65.27   1.232415   \n",
       "1            0.0           54.0           6.00     64.00  31.840037   \n",
       "2            0.0            0.0           0.99     63.36   2.481472   \n",
       "3            0.0           54.0           6.00     64.00   4.499163   \n",
       "4            0.0           54.0           6.00     64.00  15.849033   \n",
       "\n",
       "       Srate  Drate  fin_flag_number  syn_flag_number  rst_flag_number  ...  \\\n",
       "0   1.232415    0.0              0.0              0.0              0.0  ...   \n",
       "1  31.840037    0.0              0.0              1.0              0.0  ...   \n",
       "2   2.481472    0.0              0.0              0.0              0.0  ...   \n",
       "3   4.499163    0.0              0.0              0.0              0.0  ...   \n",
       "4  15.849033    0.0              0.0              0.0              0.0  ...   \n",
       "\n",
       "        Std  Tot size           IAT  Number   Magnitue    Radius  Covariance  \\\n",
       "0  0.617394     42.18  8.312856e+07     9.5   9.184764  0.874489    2.990124   \n",
       "1  0.000000     54.00  8.309343e+07     9.5  10.392305  0.000000    0.000000   \n",
       "2  0.617394     42.18  8.314964e+07     9.5   9.184764  0.874489    2.990124   \n",
       "3  0.000000     54.00  8.333215e+07     9.5  10.392305  0.000000    0.000000   \n",
       "4  0.000000     54.00  8.307156e+07     9.5  10.392305  0.000000    0.000000   \n",
       "\n",
       "   Variance  Weight  Attack Type  \n",
       "0      0.13  141.55         DDoS  \n",
       "1      0.00  141.55         DDoS  \n",
       "2      0.13  141.55         DDoS  \n",
       "3      0.00  141.55         DDoS  \n",
       "4      0.00  141.55         DDoS  \n",
       "\n",
       "[5 rows x 47 columns]"
      ]
     },
     "execution_count": 3,
     "metadata": {},
     "output_type": "execute_result"
    }
   ],
   "source": [
    "data.head()"
   ]
  },
  {
   "cell_type": "code",
   "execution_count": 4,
   "id": "b603997a-45b5-44d0-ac3a-2dd362560bb2",
   "metadata": {},
   "outputs": [
    {
     "name": "stdout",
     "output_type": "stream",
     "text": [
      "<class 'pandas.core.frame.DataFrame'>\n",
      "RangeIndex: 8000 entries, 0 to 7999\n",
      "Data columns (total 47 columns):\n",
      " #   Column           Non-Null Count  Dtype  \n",
      "---  ------           --------------  -----  \n",
      " 0   flow_duration    8000 non-null   float64\n",
      " 1   Header_Length    8000 non-null   float64\n",
      " 2   Protocol Type    8000 non-null   float64\n",
      " 3   Duration         8000 non-null   float64\n",
      " 4   Rate             8000 non-null   float64\n",
      " 5   Srate            8000 non-null   float64\n",
      " 6   Drate            8000 non-null   float64\n",
      " 7   fin_flag_number  8000 non-null   float64\n",
      " 8   syn_flag_number  8000 non-null   float64\n",
      " 9   rst_flag_number  8000 non-null   float64\n",
      " 10  psh_flag_number  8000 non-null   float64\n",
      " 11  ack_flag_number  8000 non-null   float64\n",
      " 12  ece_flag_number  8000 non-null   float64\n",
      " 13  cwr_flag_number  8000 non-null   float64\n",
      " 14  ack_count        8000 non-null   float64\n",
      " 15  syn_count        8000 non-null   float64\n",
      " 16  fin_count        8000 non-null   float64\n",
      " 17  urg_count        8000 non-null   float64\n",
      " 18  rst_count        8000 non-null   float64\n",
      " 19  HTTP             8000 non-null   float64\n",
      " 20  HTTPS            8000 non-null   float64\n",
      " 21  DNS              8000 non-null   float64\n",
      " 22  Telnet           8000 non-null   float64\n",
      " 23  SMTP             8000 non-null   float64\n",
      " 24  SSH              8000 non-null   float64\n",
      " 25  IRC              8000 non-null   float64\n",
      " 26  TCP              8000 non-null   float64\n",
      " 27  UDP              8000 non-null   float64\n",
      " 28  DHCP             8000 non-null   float64\n",
      " 29  ARP              8000 non-null   float64\n",
      " 30  ICMP             8000 non-null   float64\n",
      " 31  IPv              8000 non-null   float64\n",
      " 32  LLC              8000 non-null   float64\n",
      " 33  Tot sum          8000 non-null   float64\n",
      " 34  Min              8000 non-null   float64\n",
      " 35  Max              8000 non-null   float64\n",
      " 36  AVG              8000 non-null   float64\n",
      " 37  Std              8000 non-null   float64\n",
      " 38  Tot size         8000 non-null   float64\n",
      " 39  IAT              8000 non-null   float64\n",
      " 40  Number           8000 non-null   float64\n",
      " 41  Magnitue         8000 non-null   float64\n",
      " 42  Radius           8000 non-null   float64\n",
      " 43  Covariance       8000 non-null   float64\n",
      " 44  Variance         8000 non-null   float64\n",
      " 45  Weight           8000 non-null   float64\n",
      " 46  Attack Type      8000 non-null   object \n",
      "dtypes: float64(46), object(1)\n",
      "memory usage: 2.9+ MB\n"
     ]
    }
   ],
   "source": [
    "data.info()"
   ]
  },
  {
   "cell_type": "code",
   "execution_count": 6,
   "id": "20e753c1-79dc-45dc-8b46-3b29a05dc5a6",
   "metadata": {},
   "outputs": [],
   "source": [
    "X = data.drop(['Attack Type'], axis = 1)\n",
    "y = data['Attack Type']"
   ]
  },
  {
   "cell_type": "code",
   "execution_count": 7,
   "id": "a205ab66-b0c4-41f8-86d1-3cff6a78b861",
   "metadata": {},
   "outputs": [],
   "source": [
    "le = LabelEncoder()\n",
    "\n",
    "data['Attack Number'] = le.fit_transform(y)\n",
    "y = data['Attack Number']"
   ]
  },
  {
   "cell_type": "code",
   "execution_count": 8,
   "id": "93247e52-a046-4565-a0b2-70a0df65f463",
   "metadata": {},
   "outputs": [],
   "source": [
    "scaler = StandardScaler()\n",
    "X = scaler.fit_transform(X)"
   ]
  },
  {
   "cell_type": "code",
   "execution_count": 9,
   "id": "2c403ecb-8dbb-4bbb-a2d6-f54bcdb336ab",
   "metadata": {},
   "outputs": [
    {
     "name": "stdout",
     "output_type": "stream",
     "text": [
      "0: Benign\n",
      "1: Bruteforce\n",
      "2: DDoS\n",
      "3: DoS\n",
      "4: Mirai\n",
      "5: Recon\n",
      "6: Spoofing\n",
      "7: Web\n"
     ]
    }
   ],
   "source": [
    "attack_dict = {}\n",
    "encoded_values = data['Attack Number'].unique()\n",
    "for val in sorted(encoded_values):\n",
    "    attack_dict[val] = le.inverse_transform([val])[0]\n",
    "    print(f\"{val}: {le.inverse_transform([val])[0]}\")"
   ]
  },
  {
   "cell_type": "code",
   "execution_count": 10,
   "id": "02c62c08-f74d-4081-a6ed-6f46d2c4b44c",
   "metadata": {},
   "outputs": [
    {
     "data": {
      "text/plain": [
       "((6800, 46), (6800,), (1200, 46), (1200,))"
      ]
     },
     "execution_count": 10,
     "metadata": {},
     "output_type": "execute_result"
    }
   ],
   "source": [
    "X_train, X_test, y_train, y_test = train_test_split(X, y, test_size=0.15)\n",
    "X_train = X_train.reshape(X_train.shape[0], X_train.shape[1])\n",
    "X_test = X_test.reshape(X_test.shape[0], X_test.shape[1])\n",
    "X_train.shape, y_train.shape, X_test.shape, y_test.shape"
   ]
  },
  {
   "cell_type": "code",
   "execution_count": 11,
   "id": "13abfc06-809a-44d0-a739-07fd698b70db",
   "metadata": {},
   "outputs": [
    {
     "name": "stdout",
     "output_type": "stream",
     "text": [
      "CPU times: user 185 ms, sys: 10.6 ms, total: 195 ms\n",
      "Wall time: 129 ms\n"
     ]
    }
   ],
   "source": [
    "%%time\n",
    "\n",
    "start = time.time()\n",
    "\n",
    "knn_clf = KNeighborsClassifier(n_jobs=8)\n",
    "knn_clf.fit(X_train, y_train)\n",
    "y_pred = knn_clf.predict(X_test)\n",
    "\n",
    "end = time.time()\n",
    "\n",
    "KNN_time = end - start"
   ]
  },
  {
   "cell_type": "code",
   "execution_count": 15,
   "id": "bd0bcda7-2d91-4359-85b5-a926dfc283d1",
   "metadata": {},
   "outputs": [
    {
     "name": "stdout",
     "output_type": "stream",
     "text": [
      "CPU times: user 108 ms, sys: 2.77 ms, total: 110 ms\n",
      "Wall time: 30.4 ms\n"
     ]
    }
   ],
   "source": [
    "%%time\n",
    "\n",
    "start = time.time()\n",
    "\n",
    "knn_clf.predict(X_test)\n",
    "\n",
    "end = time.time()\n",
    "\n",
    "latency = (end - start) / X_test.shape[0]"
   ]
  },
  {
   "cell_type": "code",
   "execution_count": 16,
   "id": "9fba78f3-084b-4234-b58e-815e73cd073f",
   "metadata": {},
   "outputs": [
    {
     "data": {
      "text/plain": [
       "2.5328993797302245e-05"
      ]
     },
     "execution_count": 16,
     "metadata": {},
     "output_type": "execute_result"
    }
   ],
   "source": [
    "latency"
   ]
  },
  {
   "cell_type": "code",
   "execution_count": null,
   "id": "c603a18f-83df-4762-a85b-26037bffd8c8",
   "metadata": {},
   "outputs": [],
   "source": []
  }
 ],
 "metadata": {
  "kernelspec": {
   "display_name": "Python 3 (ipykernel)",
   "language": "python",
   "name": "python3"
  },
  "language_info": {
   "codemirror_mode": {
    "name": "ipython",
    "version": 3
   },
   "file_extension": ".py",
   "mimetype": "text/x-python",
   "name": "python",
   "nbconvert_exporter": "python",
   "pygments_lexer": "ipython3",
   "version": "3.10.16"
  }
 },
 "nbformat": 4,
 "nbformat_minor": 5
}
