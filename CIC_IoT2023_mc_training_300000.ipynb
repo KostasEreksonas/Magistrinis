{
 "cells": [
  {
   "cell_type": "code",
   "execution_count": 1,
   "id": "e3c86923-4acd-4312-b1ab-aaec6dca7776",
   "metadata": {},
   "outputs": [
    {
     "name": "stderr",
     "output_type": "stream",
     "text": [
      "2025-04-09 15:17:33.671728: E external/local_xla/xla/stream_executor/cuda/cuda_fft.cc:467] Unable to register cuFFT factory: Attempting to register factory for plugin cuFFT when one has already been registered\n",
      "WARNING: All log messages before absl::InitializeLog() is called are written to STDERR\n",
      "E0000 00:00:1744201053.693421   73097 cuda_dnn.cc:8579] Unable to register cuDNN factory: Attempting to register factory for plugin cuDNN when one has already been registered\n",
      "E0000 00:00:1744201053.702620   73097 cuda_blas.cc:1407] Unable to register cuBLAS factory: Attempting to register factory for plugin cuBLAS when one has already been registered\n",
      "W0000 00:00:1744201053.719762   73097 computation_placer.cc:177] computation placer already registered. Please check linkage and avoid linking the same target more than once.\n",
      "W0000 00:00:1744201053.719778   73097 computation_placer.cc:177] computation placer already registered. Please check linkage and avoid linking the same target more than once.\n",
      "W0000 00:00:1744201053.719780   73097 computation_placer.cc:177] computation placer already registered. Please check linkage and avoid linking the same target more than once.\n",
      "W0000 00:00:1744201053.719781   73097 computation_placer.cc:177] computation placer already registered. Please check linkage and avoid linking the same target more than once.\n",
      "2025-04-09 15:17:33.724716: I tensorflow/core/platform/cpu_feature_guard.cc:210] This TensorFlow binary is optimized to use available CPU instructions in performance-critical operations.\n",
      "To enable the following instructions: AVX2 FMA, in other operations, rebuild TensorFlow with the appropriate compiler flags.\n"
     ]
    }
   ],
   "source": [
    "import numpy as np\n",
    "import pandas as pd\n",
    "from sklearn.model_selection import train_test_split\n",
    "from sklearn.neighbors import KNeighborsClassifier\n",
    "from tensorflow import keras\n",
    "from sklearn.metrics import matthews_corrcoef, accuracy_score, root_mean_squared_error, mean_squared_error, mean_absolute_error, precision_score, confusion_matrix, multilabel_confusion_matrix, classification_report, f1_score, precision_score, recall_score\n",
    "from sklearn.ensemble import RandomForestClassifier\n",
    "import xgboost as xgb\n",
    "import lightgbm\n",
    "import time\n",
    "from sklearn.preprocessing import StandardScaler, LabelEncoder\n",
    "import seaborn as sns\n",
    "from sklearn.linear_model import LogisticRegression\n",
    "from sklearn.svm import SVC\n",
    "import gc\n",
    "from tensorflow.keras.utils import to_categorical\n",
    "import matplotlib.pyplot as plt"
   ]
  },
  {
   "cell_type": "markdown",
   "id": "baddacbf-4517-46ad-83fd-90d4c1893f0e",
   "metadata": {},
   "source": [
    "# Functions"
   ]
  },
  {
   "cell_type": "code",
   "execution_count": 2,
   "id": "3f7a65c9-cf89-4a9e-9c3e-c8b77bd7ff6a",
   "metadata": {},
   "outputs": [],
   "source": [
    "def visualize_CM(matrix):\n",
    "    \"\"\"\n",
    "    Visualize Correlation Matrix\n",
    "    \"\"\"\n",
    "    sns.heatmap(matrix,annot=True)\n",
    "\n",
    "def result_plot(_dict, name, folder, model_name):\n",
    "    \"\"\"\n",
    "    Plot results for multiclass classification\n",
    "    \"\"\"\n",
    "    attacks = {}\n",
    "    higher = [\"F1\", \"Accuracy\", \"Precision\", \"Recall\", \"MCC\", \"precision\", \"recall\", \"f1-score\", \"support\", 'Benign', 'Bruteforce', 'DDoS', 'DoS', 'Mirai', 'Recon', 'Spoofing',\n",
    "       'Web']\n",
    "    fig, ax = plt.subplots(figsize=(10,10))\n",
    "    if name in higher:\n",
    "        tmp = sorted(_dict.items(), key = lambda x:x[1])\n",
    "    else:\n",
    "        tmp = sorted(_dict.items(), key = lambda x:x[1], reverse=True)\n",
    "    for x in tmp:\n",
    "        attacks[x[0]] = x[1]\n",
    "    ax.bar(attacks.keys(), attacks.values())\n",
    "    rects = ax.patches\n",
    "    results = [i for i in attacks.values()]\n",
    "    labels = [f\"{results[i]:.6f}\" for i in range(len(rects))]\n",
    "    for rect, label in zip(rects, labels):\n",
    "        height = rect.get_height()\n",
    "        ax.text(\n",
    "            rect.get_x() + rect.get_width() / 2, height, label, ha=\"center\", va=\"bottom\"\n",
    "        )\n",
    "    if name in higher:\n",
    "        name = name.capitalize()\n",
    "        ax.set_title(f'{name} (higher is better)', fontsize=16, fontweight=\"bold\")\n",
    "    else:\n",
    "        ax.set_title(f'{name} (lower is better)', fontsize=16, fontweight=\"bold\")\n",
    "    ax.set_xlabel(f'{name}')\n",
    "    ax.set_ylabel('Score')\n",
    "    ax.grid(which='Major', axis='both')\n",
    "    ax.set_axisbelow(True)\n",
    "    if (model_name == \"\"):\n",
    "        plt.savefig(f\"images/results/{folder}/300000/{name}.png\")\n",
    "    else:\n",
    "        plt.savefig(f\"images/results/{folder}/300000/{name}_{model_name}.png\")\n",
    "\n",
    "def plot_mc(y_pred, y_test, model_name, mc_results = {}):\n",
    "    \"\"\"\n",
    "    Plots Precision, Recall and F1 scores for each class in multiclass classification\n",
    "    \"\"\"\n",
    "    cr = classification_report(y_pred, y_test, output_dict=True)\n",
    "    for key, name in cr.items():\n",
    "        if key not in ['accuracy', 'macro avg', 'weighted avg'] and int(key) in attack_dict:\n",
    "            mc_results[attack_dict[int(key)]] = cr[key]\n",
    "    mc_results = pd.DataFrame(mc_results).drop(['support'], axis = 0)\n",
    "    for key in mc_results.keys():\n",
    "        result_plot(mc_results[key], key, \"multiclass_by_class\", model_name)"
   ]
  },
  {
   "cell_type": "markdown",
   "id": "bb68e39a-2eb3-409f-95d7-20d002eeeedd",
   "metadata": {},
   "source": [
    "# Load data"
   ]
  },
  {
   "cell_type": "code",
   "execution_count": 3,
   "id": "07aa510b-c29b-4b76-b390-4ecd332ca92d",
   "metadata": {},
   "outputs": [],
   "source": [
    "data = pd.read_csv('data/CIC_IoT2023/custom/multiclass_classification_data_300000.csv')"
   ]
  },
  {
   "cell_type": "code",
   "execution_count": 4,
   "id": "dec8c75b-891a-4e95-a061-bac55478460b",
   "metadata": {},
   "outputs": [],
   "source": [
    "data = data.drop(['Unnamed: 0', 'label', 'Class'], axis=1)"
   ]
  },
  {
   "cell_type": "code",
   "execution_count": 5,
   "id": "91cad634-0ca7-4907-b8e9-c63900c9919d",
   "metadata": {},
   "outputs": [
    {
     "data": {
      "text/html": [
       "<div>\n",
       "<style scoped>\n",
       "    .dataframe tbody tr th:only-of-type {\n",
       "        vertical-align: middle;\n",
       "    }\n",
       "\n",
       "    .dataframe tbody tr th {\n",
       "        vertical-align: top;\n",
       "    }\n",
       "\n",
       "    .dataframe thead th {\n",
       "        text-align: right;\n",
       "    }\n",
       "</style>\n",
       "<table border=\"1\" class=\"dataframe\">\n",
       "  <thead>\n",
       "    <tr style=\"text-align: right;\">\n",
       "      <th></th>\n",
       "      <th>flow_duration</th>\n",
       "      <th>Header_Length</th>\n",
       "      <th>Protocol Type</th>\n",
       "      <th>Duration</th>\n",
       "      <th>Rate</th>\n",
       "      <th>Srate</th>\n",
       "      <th>Drate</th>\n",
       "      <th>fin_flag_number</th>\n",
       "      <th>syn_flag_number</th>\n",
       "      <th>rst_flag_number</th>\n",
       "      <th>...</th>\n",
       "      <th>Std</th>\n",
       "      <th>Tot size</th>\n",
       "      <th>IAT</th>\n",
       "      <th>Number</th>\n",
       "      <th>Magnitue</th>\n",
       "      <th>Radius</th>\n",
       "      <th>Covariance</th>\n",
       "      <th>Variance</th>\n",
       "      <th>Weight</th>\n",
       "      <th>Attack Type</th>\n",
       "    </tr>\n",
       "  </thead>\n",
       "  <tbody>\n",
       "    <tr>\n",
       "      <th>0</th>\n",
       "      <td>0.0</td>\n",
       "      <td>0.0</td>\n",
       "      <td>0.99</td>\n",
       "      <td>65.27</td>\n",
       "      <td>1.232415</td>\n",
       "      <td>1.232415</td>\n",
       "      <td>0.0</td>\n",
       "      <td>0.0</td>\n",
       "      <td>0.0</td>\n",
       "      <td>0.0</td>\n",
       "      <td>...</td>\n",
       "      <td>0.617394</td>\n",
       "      <td>42.18</td>\n",
       "      <td>8.312856e+07</td>\n",
       "      <td>9.5</td>\n",
       "      <td>9.184764</td>\n",
       "      <td>0.874489</td>\n",
       "      <td>2.990124</td>\n",
       "      <td>0.13</td>\n",
       "      <td>141.55</td>\n",
       "      <td>DDoS</td>\n",
       "    </tr>\n",
       "    <tr>\n",
       "      <th>1</th>\n",
       "      <td>0.0</td>\n",
       "      <td>54.0</td>\n",
       "      <td>6.00</td>\n",
       "      <td>64.00</td>\n",
       "      <td>31.840037</td>\n",
       "      <td>31.840037</td>\n",
       "      <td>0.0</td>\n",
       "      <td>0.0</td>\n",
       "      <td>1.0</td>\n",
       "      <td>0.0</td>\n",
       "      <td>...</td>\n",
       "      <td>0.000000</td>\n",
       "      <td>54.00</td>\n",
       "      <td>8.309343e+07</td>\n",
       "      <td>9.5</td>\n",
       "      <td>10.392305</td>\n",
       "      <td>0.000000</td>\n",
       "      <td>0.000000</td>\n",
       "      <td>0.00</td>\n",
       "      <td>141.55</td>\n",
       "      <td>DDoS</td>\n",
       "    </tr>\n",
       "    <tr>\n",
       "      <th>2</th>\n",
       "      <td>0.0</td>\n",
       "      <td>0.0</td>\n",
       "      <td>0.99</td>\n",
       "      <td>63.36</td>\n",
       "      <td>2.481472</td>\n",
       "      <td>2.481472</td>\n",
       "      <td>0.0</td>\n",
       "      <td>0.0</td>\n",
       "      <td>0.0</td>\n",
       "      <td>0.0</td>\n",
       "      <td>...</td>\n",
       "      <td>0.617394</td>\n",
       "      <td>42.18</td>\n",
       "      <td>8.314964e+07</td>\n",
       "      <td>9.5</td>\n",
       "      <td>9.184764</td>\n",
       "      <td>0.874489</td>\n",
       "      <td>2.990124</td>\n",
       "      <td>0.13</td>\n",
       "      <td>141.55</td>\n",
       "      <td>DDoS</td>\n",
       "    </tr>\n",
       "    <tr>\n",
       "      <th>3</th>\n",
       "      <td>0.0</td>\n",
       "      <td>54.0</td>\n",
       "      <td>6.00</td>\n",
       "      <td>64.00</td>\n",
       "      <td>4.499163</td>\n",
       "      <td>4.499163</td>\n",
       "      <td>0.0</td>\n",
       "      <td>0.0</td>\n",
       "      <td>0.0</td>\n",
       "      <td>0.0</td>\n",
       "      <td>...</td>\n",
       "      <td>0.000000</td>\n",
       "      <td>54.00</td>\n",
       "      <td>8.333215e+07</td>\n",
       "      <td>9.5</td>\n",
       "      <td>10.392305</td>\n",
       "      <td>0.000000</td>\n",
       "      <td>0.000000</td>\n",
       "      <td>0.00</td>\n",
       "      <td>141.55</td>\n",
       "      <td>DDoS</td>\n",
       "    </tr>\n",
       "    <tr>\n",
       "      <th>4</th>\n",
       "      <td>0.0</td>\n",
       "      <td>54.0</td>\n",
       "      <td>6.00</td>\n",
       "      <td>64.00</td>\n",
       "      <td>15.849033</td>\n",
       "      <td>15.849033</td>\n",
       "      <td>0.0</td>\n",
       "      <td>0.0</td>\n",
       "      <td>0.0</td>\n",
       "      <td>0.0</td>\n",
       "      <td>...</td>\n",
       "      <td>0.000000</td>\n",
       "      <td>54.00</td>\n",
       "      <td>8.307156e+07</td>\n",
       "      <td>9.5</td>\n",
       "      <td>10.392305</td>\n",
       "      <td>0.000000</td>\n",
       "      <td>0.000000</td>\n",
       "      <td>0.00</td>\n",
       "      <td>141.55</td>\n",
       "      <td>DDoS</td>\n",
       "    </tr>\n",
       "  </tbody>\n",
       "</table>\n",
       "<p>5 rows × 47 columns</p>\n",
       "</div>"
      ],
      "text/plain": [
       "   flow_duration  Header_Length  Protocol Type  Duration       Rate  \\\n",
       "0            0.0            0.0           0.99     65.27   1.232415   \n",
       "1            0.0           54.0           6.00     64.00  31.840037   \n",
       "2            0.0            0.0           0.99     63.36   2.481472   \n",
       "3            0.0           54.0           6.00     64.00   4.499163   \n",
       "4            0.0           54.0           6.00     64.00  15.849033   \n",
       "\n",
       "       Srate  Drate  fin_flag_number  syn_flag_number  rst_flag_number  ...  \\\n",
       "0   1.232415    0.0              0.0              0.0              0.0  ...   \n",
       "1  31.840037    0.0              0.0              1.0              0.0  ...   \n",
       "2   2.481472    0.0              0.0              0.0              0.0  ...   \n",
       "3   4.499163    0.0              0.0              0.0              0.0  ...   \n",
       "4  15.849033    0.0              0.0              0.0              0.0  ...   \n",
       "\n",
       "        Std  Tot size           IAT  Number   Magnitue    Radius  Covariance  \\\n",
       "0  0.617394     42.18  8.312856e+07     9.5   9.184764  0.874489    2.990124   \n",
       "1  0.000000     54.00  8.309343e+07     9.5  10.392305  0.000000    0.000000   \n",
       "2  0.617394     42.18  8.314964e+07     9.5   9.184764  0.874489    2.990124   \n",
       "3  0.000000     54.00  8.333215e+07     9.5  10.392305  0.000000    0.000000   \n",
       "4  0.000000     54.00  8.307156e+07     9.5  10.392305  0.000000    0.000000   \n",
       "\n",
       "   Variance  Weight  Attack Type  \n",
       "0      0.13  141.55         DDoS  \n",
       "1      0.00  141.55         DDoS  \n",
       "2      0.13  141.55         DDoS  \n",
       "3      0.00  141.55         DDoS  \n",
       "4      0.00  141.55         DDoS  \n",
       "\n",
       "[5 rows x 47 columns]"
      ]
     },
     "execution_count": 5,
     "metadata": {},
     "output_type": "execute_result"
    }
   ],
   "source": [
    "data.head()"
   ]
  },
  {
   "cell_type": "code",
   "execution_count": 6,
   "id": "d8ec8c27-d4e9-4c89-aab5-b78cf39e713f",
   "metadata": {},
   "outputs": [
    {
     "data": {
      "text/html": [
       "<div>\n",
       "<style scoped>\n",
       "    .dataframe tbody tr th:only-of-type {\n",
       "        vertical-align: middle;\n",
       "    }\n",
       "\n",
       "    .dataframe tbody tr th {\n",
       "        vertical-align: top;\n",
       "    }\n",
       "\n",
       "    .dataframe thead th {\n",
       "        text-align: right;\n",
       "    }\n",
       "</style>\n",
       "<table border=\"1\" class=\"dataframe\">\n",
       "  <thead>\n",
       "    <tr style=\"text-align: right;\">\n",
       "      <th></th>\n",
       "      <th>flow_duration</th>\n",
       "      <th>Header_Length</th>\n",
       "      <th>Protocol Type</th>\n",
       "      <th>Duration</th>\n",
       "      <th>Rate</th>\n",
       "      <th>Srate</th>\n",
       "      <th>Drate</th>\n",
       "      <th>fin_flag_number</th>\n",
       "      <th>syn_flag_number</th>\n",
       "      <th>rst_flag_number</th>\n",
       "      <th>...</th>\n",
       "      <th>Std</th>\n",
       "      <th>Tot size</th>\n",
       "      <th>IAT</th>\n",
       "      <th>Number</th>\n",
       "      <th>Magnitue</th>\n",
       "      <th>Radius</th>\n",
       "      <th>Covariance</th>\n",
       "      <th>Variance</th>\n",
       "      <th>Weight</th>\n",
       "      <th>Attack Type</th>\n",
       "    </tr>\n",
       "  </thead>\n",
       "  <tbody>\n",
       "    <tr>\n",
       "      <th>1837888</th>\n",
       "      <td>3066.037345</td>\n",
       "      <td>10267.5</td>\n",
       "      <td>11.5</td>\n",
       "      <td>130.5</td>\n",
       "      <td>1.029689</td>\n",
       "      <td>1.029689</td>\n",
       "      <td>0.0</td>\n",
       "      <td>0.0</td>\n",
       "      <td>0.0</td>\n",
       "      <td>0.0</td>\n",
       "      <td>...</td>\n",
       "      <td>48.073719</td>\n",
       "      <td>175.9</td>\n",
       "      <td>4.020541e-02</td>\n",
       "      <td>5.5</td>\n",
       "      <td>15.420603</td>\n",
       "      <td>67.986505</td>\n",
       "      <td>3619.117272</td>\n",
       "      <td>0.9</td>\n",
       "      <td>38.5</td>\n",
       "      <td>Bruteforce</td>\n",
       "    </tr>\n",
       "    <tr>\n",
       "      <th>1837889</th>\n",
       "      <td>343.000496</td>\n",
       "      <td>106722.4</td>\n",
       "      <td>12.6</td>\n",
       "      <td>96.3</td>\n",
       "      <td>3.483237</td>\n",
       "      <td>3.483237</td>\n",
       "      <td>0.0</td>\n",
       "      <td>0.0</td>\n",
       "      <td>0.0</td>\n",
       "      <td>0.0</td>\n",
       "      <td>...</td>\n",
       "      <td>53.837593</td>\n",
       "      <td>81.8</td>\n",
       "      <td>1.666014e+08</td>\n",
       "      <td>13.5</td>\n",
       "      <td>13.133269</td>\n",
       "      <td>76.311509</td>\n",
       "      <td>2921.188688</td>\n",
       "      <td>1.0</td>\n",
       "      <td>244.6</td>\n",
       "      <td>Bruteforce</td>\n",
       "    </tr>\n",
       "    <tr>\n",
       "      <th>1837890</th>\n",
       "      <td>199.262425</td>\n",
       "      <td>16583.6</td>\n",
       "      <td>9.3</td>\n",
       "      <td>118.9</td>\n",
       "      <td>0.319272</td>\n",
       "      <td>0.319272</td>\n",
       "      <td>0.0</td>\n",
       "      <td>0.0</td>\n",
       "      <td>0.0</td>\n",
       "      <td>0.0</td>\n",
       "      <td>...</td>\n",
       "      <td>71.998962</td>\n",
       "      <td>101.7</td>\n",
       "      <td>2.843370e-02</td>\n",
       "      <td>5.5</td>\n",
       "      <td>14.011221</td>\n",
       "      <td>101.821908</td>\n",
       "      <td>7002.672673</td>\n",
       "      <td>0.9</td>\n",
       "      <td>38.5</td>\n",
       "      <td>Bruteforce</td>\n",
       "    </tr>\n",
       "    <tr>\n",
       "      <th>1837891</th>\n",
       "      <td>177.979327</td>\n",
       "      <td>29709.7</td>\n",
       "      <td>9.3</td>\n",
       "      <td>93.8</td>\n",
       "      <td>1.760932</td>\n",
       "      <td>1.760932</td>\n",
       "      <td>0.0</td>\n",
       "      <td>0.0</td>\n",
       "      <td>0.0</td>\n",
       "      <td>0.0</td>\n",
       "      <td>...</td>\n",
       "      <td>66.139131</td>\n",
       "      <td>94.8</td>\n",
       "      <td>1.666014e+08</td>\n",
       "      <td>13.5</td>\n",
       "      <td>14.883212</td>\n",
       "      <td>93.714094</td>\n",
       "      <td>4411.596919</td>\n",
       "      <td>1.0</td>\n",
       "      <td>244.6</td>\n",
       "      <td>Bruteforce</td>\n",
       "    </tr>\n",
       "    <tr>\n",
       "      <th>1837892</th>\n",
       "      <td>299.487685</td>\n",
       "      <td>38503.2</td>\n",
       "      <td>15.3</td>\n",
       "      <td>57.6</td>\n",
       "      <td>2.423920</td>\n",
       "      <td>2.423920</td>\n",
       "      <td>0.0</td>\n",
       "      <td>0.0</td>\n",
       "      <td>0.0</td>\n",
       "      <td>0.0</td>\n",
       "      <td>...</td>\n",
       "      <td>77.932213</td>\n",
       "      <td>137.4</td>\n",
       "      <td>1.224859e-02</td>\n",
       "      <td>5.5</td>\n",
       "      <td>14.286196</td>\n",
       "      <td>110.212793</td>\n",
       "      <td>9866.644535</td>\n",
       "      <td>0.9</td>\n",
       "      <td>38.5</td>\n",
       "      <td>Bruteforce</td>\n",
       "    </tr>\n",
       "  </tbody>\n",
       "</table>\n",
       "<p>5 rows × 47 columns</p>\n",
       "</div>"
      ],
      "text/plain": [
       "         flow_duration  Header_Length  Protocol Type  Duration      Rate  \\\n",
       "1837888    3066.037345        10267.5           11.5     130.5  1.029689   \n",
       "1837889     343.000496       106722.4           12.6      96.3  3.483237   \n",
       "1837890     199.262425        16583.6            9.3     118.9  0.319272   \n",
       "1837891     177.979327        29709.7            9.3      93.8  1.760932   \n",
       "1837892     299.487685        38503.2           15.3      57.6  2.423920   \n",
       "\n",
       "            Srate  Drate  fin_flag_number  syn_flag_number  rst_flag_number  \\\n",
       "1837888  1.029689    0.0              0.0              0.0              0.0   \n",
       "1837889  3.483237    0.0              0.0              0.0              0.0   \n",
       "1837890  0.319272    0.0              0.0              0.0              0.0   \n",
       "1837891  1.760932    0.0              0.0              0.0              0.0   \n",
       "1837892  2.423920    0.0              0.0              0.0              0.0   \n",
       "\n",
       "         ...        Std  Tot size           IAT  Number   Magnitue  \\\n",
       "1837888  ...  48.073719     175.9  4.020541e-02     5.5  15.420603   \n",
       "1837889  ...  53.837593      81.8  1.666014e+08    13.5  13.133269   \n",
       "1837890  ...  71.998962     101.7  2.843370e-02     5.5  14.011221   \n",
       "1837891  ...  66.139131      94.8  1.666014e+08    13.5  14.883212   \n",
       "1837892  ...  77.932213     137.4  1.224859e-02     5.5  14.286196   \n",
       "\n",
       "             Radius   Covariance  Variance  Weight  Attack Type  \n",
       "1837888   67.986505  3619.117272       0.9    38.5   Bruteforce  \n",
       "1837889   76.311509  2921.188688       1.0   244.6   Bruteforce  \n",
       "1837890  101.821908  7002.672673       0.9    38.5   Bruteforce  \n",
       "1837891   93.714094  4411.596919       1.0   244.6   Bruteforce  \n",
       "1837892  110.212793  9866.644535       0.9    38.5   Bruteforce  \n",
       "\n",
       "[5 rows x 47 columns]"
      ]
     },
     "execution_count": 6,
     "metadata": {},
     "output_type": "execute_result"
    }
   ],
   "source": [
    "data.tail()"
   ]
  },
  {
   "cell_type": "code",
   "execution_count": 7,
   "id": "6546f0ef-1c51-475c-9fa0-fceb2aa0f649",
   "metadata": {},
   "outputs": [],
   "source": [
    "X = data.drop(['Attack Type'], axis = 1)\n",
    "y = data['Attack Type']"
   ]
  },
  {
   "cell_type": "code",
   "execution_count": 8,
   "id": "b30cdc79-b862-4470-b6d0-be6824f13caa",
   "metadata": {},
   "outputs": [
    {
     "data": {
      "text/html": [
       "<div>\n",
       "<style scoped>\n",
       "    .dataframe tbody tr th:only-of-type {\n",
       "        vertical-align: middle;\n",
       "    }\n",
       "\n",
       "    .dataframe tbody tr th {\n",
       "        vertical-align: top;\n",
       "    }\n",
       "\n",
       "    .dataframe thead th {\n",
       "        text-align: right;\n",
       "    }\n",
       "</style>\n",
       "<table border=\"1\" class=\"dataframe\">\n",
       "  <thead>\n",
       "    <tr style=\"text-align: right;\">\n",
       "      <th></th>\n",
       "      <th>flow_duration</th>\n",
       "      <th>Header_Length</th>\n",
       "      <th>Protocol Type</th>\n",
       "      <th>Duration</th>\n",
       "      <th>Rate</th>\n",
       "      <th>Srate</th>\n",
       "      <th>Drate</th>\n",
       "      <th>fin_flag_number</th>\n",
       "      <th>syn_flag_number</th>\n",
       "      <th>rst_flag_number</th>\n",
       "      <th>...</th>\n",
       "      <th>AVG</th>\n",
       "      <th>Std</th>\n",
       "      <th>Tot size</th>\n",
       "      <th>IAT</th>\n",
       "      <th>Number</th>\n",
       "      <th>Magnitue</th>\n",
       "      <th>Radius</th>\n",
       "      <th>Covariance</th>\n",
       "      <th>Variance</th>\n",
       "      <th>Weight</th>\n",
       "    </tr>\n",
       "  </thead>\n",
       "  <tbody>\n",
       "    <tr>\n",
       "      <th>0</th>\n",
       "      <td>0.0</td>\n",
       "      <td>0.0</td>\n",
       "      <td>0.99</td>\n",
       "      <td>65.27</td>\n",
       "      <td>1.232415</td>\n",
       "      <td>1.232415</td>\n",
       "      <td>0.0</td>\n",
       "      <td>0.0</td>\n",
       "      <td>0.0</td>\n",
       "      <td>0.0</td>\n",
       "      <td>...</td>\n",
       "      <td>42.180879</td>\n",
       "      <td>0.617394</td>\n",
       "      <td>42.18</td>\n",
       "      <td>8.312856e+07</td>\n",
       "      <td>9.5</td>\n",
       "      <td>9.184764</td>\n",
       "      <td>0.874489</td>\n",
       "      <td>2.990124</td>\n",
       "      <td>0.13</td>\n",
       "      <td>141.55</td>\n",
       "    </tr>\n",
       "    <tr>\n",
       "      <th>1</th>\n",
       "      <td>0.0</td>\n",
       "      <td>54.0</td>\n",
       "      <td>6.00</td>\n",
       "      <td>64.00</td>\n",
       "      <td>31.840037</td>\n",
       "      <td>31.840037</td>\n",
       "      <td>0.0</td>\n",
       "      <td>0.0</td>\n",
       "      <td>1.0</td>\n",
       "      <td>0.0</td>\n",
       "      <td>...</td>\n",
       "      <td>54.000000</td>\n",
       "      <td>0.000000</td>\n",
       "      <td>54.00</td>\n",
       "      <td>8.309343e+07</td>\n",
       "      <td>9.5</td>\n",
       "      <td>10.392305</td>\n",
       "      <td>0.000000</td>\n",
       "      <td>0.000000</td>\n",
       "      <td>0.00</td>\n",
       "      <td>141.55</td>\n",
       "    </tr>\n",
       "    <tr>\n",
       "      <th>2</th>\n",
       "      <td>0.0</td>\n",
       "      <td>0.0</td>\n",
       "      <td>0.99</td>\n",
       "      <td>63.36</td>\n",
       "      <td>2.481472</td>\n",
       "      <td>2.481472</td>\n",
       "      <td>0.0</td>\n",
       "      <td>0.0</td>\n",
       "      <td>0.0</td>\n",
       "      <td>0.0</td>\n",
       "      <td>...</td>\n",
       "      <td>42.180879</td>\n",
       "      <td>0.617394</td>\n",
       "      <td>42.18</td>\n",
       "      <td>8.314964e+07</td>\n",
       "      <td>9.5</td>\n",
       "      <td>9.184764</td>\n",
       "      <td>0.874489</td>\n",
       "      <td>2.990124</td>\n",
       "      <td>0.13</td>\n",
       "      <td>141.55</td>\n",
       "    </tr>\n",
       "    <tr>\n",
       "      <th>3</th>\n",
       "      <td>0.0</td>\n",
       "      <td>54.0</td>\n",
       "      <td>6.00</td>\n",
       "      <td>64.00</td>\n",
       "      <td>4.499163</td>\n",
       "      <td>4.499163</td>\n",
       "      <td>0.0</td>\n",
       "      <td>0.0</td>\n",
       "      <td>0.0</td>\n",
       "      <td>0.0</td>\n",
       "      <td>...</td>\n",
       "      <td>54.000000</td>\n",
       "      <td>0.000000</td>\n",
       "      <td>54.00</td>\n",
       "      <td>8.333215e+07</td>\n",
       "      <td>9.5</td>\n",
       "      <td>10.392305</td>\n",
       "      <td>0.000000</td>\n",
       "      <td>0.000000</td>\n",
       "      <td>0.00</td>\n",
       "      <td>141.55</td>\n",
       "    </tr>\n",
       "    <tr>\n",
       "      <th>4</th>\n",
       "      <td>0.0</td>\n",
       "      <td>54.0</td>\n",
       "      <td>6.00</td>\n",
       "      <td>64.00</td>\n",
       "      <td>15.849033</td>\n",
       "      <td>15.849033</td>\n",
       "      <td>0.0</td>\n",
       "      <td>0.0</td>\n",
       "      <td>0.0</td>\n",
       "      <td>0.0</td>\n",
       "      <td>...</td>\n",
       "      <td>54.000000</td>\n",
       "      <td>0.000000</td>\n",
       "      <td>54.00</td>\n",
       "      <td>8.307156e+07</td>\n",
       "      <td>9.5</td>\n",
       "      <td>10.392305</td>\n",
       "      <td>0.000000</td>\n",
       "      <td>0.000000</td>\n",
       "      <td>0.00</td>\n",
       "      <td>141.55</td>\n",
       "    </tr>\n",
       "  </tbody>\n",
       "</table>\n",
       "<p>5 rows × 46 columns</p>\n",
       "</div>"
      ],
      "text/plain": [
       "   flow_duration  Header_Length  Protocol Type  Duration       Rate  \\\n",
       "0            0.0            0.0           0.99     65.27   1.232415   \n",
       "1            0.0           54.0           6.00     64.00  31.840037   \n",
       "2            0.0            0.0           0.99     63.36   2.481472   \n",
       "3            0.0           54.0           6.00     64.00   4.499163   \n",
       "4            0.0           54.0           6.00     64.00  15.849033   \n",
       "\n",
       "       Srate  Drate  fin_flag_number  syn_flag_number  rst_flag_number  ...  \\\n",
       "0   1.232415    0.0              0.0              0.0              0.0  ...   \n",
       "1  31.840037    0.0              0.0              1.0              0.0  ...   \n",
       "2   2.481472    0.0              0.0              0.0              0.0  ...   \n",
       "3   4.499163    0.0              0.0              0.0              0.0  ...   \n",
       "4  15.849033    0.0              0.0              0.0              0.0  ...   \n",
       "\n",
       "         AVG       Std  Tot size           IAT  Number   Magnitue    Radius  \\\n",
       "0  42.180879  0.617394     42.18  8.312856e+07     9.5   9.184764  0.874489   \n",
       "1  54.000000  0.000000     54.00  8.309343e+07     9.5  10.392305  0.000000   \n",
       "2  42.180879  0.617394     42.18  8.314964e+07     9.5   9.184764  0.874489   \n",
       "3  54.000000  0.000000     54.00  8.333215e+07     9.5  10.392305  0.000000   \n",
       "4  54.000000  0.000000     54.00  8.307156e+07     9.5  10.392305  0.000000   \n",
       "\n",
       "   Covariance  Variance  Weight  \n",
       "0    2.990124      0.13  141.55  \n",
       "1    0.000000      0.00  141.55  \n",
       "2    2.990124      0.13  141.55  \n",
       "3    0.000000      0.00  141.55  \n",
       "4    0.000000      0.00  141.55  \n",
       "\n",
       "[5 rows x 46 columns]"
      ]
     },
     "execution_count": 8,
     "metadata": {},
     "output_type": "execute_result"
    }
   ],
   "source": [
    "X.head()"
   ]
  },
  {
   "cell_type": "code",
   "execution_count": 9,
   "id": "6f327166-9006-4769-9a08-66b5ffa88a49",
   "metadata": {},
   "outputs": [
    {
     "data": {
      "text/plain": [
       "0                DDoS\n",
       "1                DDoS\n",
       "2                DDoS\n",
       "3                DDoS\n",
       "4                DDoS\n",
       "              ...    \n",
       "1837888    Bruteforce\n",
       "1837889    Bruteforce\n",
       "1837890    Bruteforce\n",
       "1837891    Bruteforce\n",
       "1837892    Bruteforce\n",
       "Name: Attack Type, Length: 1837893, dtype: object"
      ]
     },
     "execution_count": 9,
     "metadata": {},
     "output_type": "execute_result"
    }
   ],
   "source": [
    "y"
   ]
  },
  {
   "cell_type": "code",
   "execution_count": 10,
   "id": "987a4a9c-66ab-4f7b-ba98-e0d1ba4cc37b",
   "metadata": {},
   "outputs": [],
   "source": [
    "le = LabelEncoder()\n",
    "\n",
    "data['Attack Number'] = le.fit_transform(y)\n",
    "y = data['Attack Number']"
   ]
  },
  {
   "cell_type": "code",
   "execution_count": 11,
   "id": "b2f4df1a-8e3f-4bbe-a98a-08c5c4d35039",
   "metadata": {},
   "outputs": [],
   "source": [
    "scaler = StandardScaler()\n",
    "X = scaler.fit_transform(X)"
   ]
  },
  {
   "cell_type": "code",
   "execution_count": 12,
   "id": "c97da960-1d16-4380-9c26-36b4ecf5f620",
   "metadata": {},
   "outputs": [
    {
     "name": "stdout",
     "output_type": "stream",
     "text": [
      "0: Benign\n",
      "1: Bruteforce\n",
      "2: DDoS\n",
      "3: DoS\n",
      "4: Mirai\n",
      "5: Recon\n",
      "6: Spoofing\n",
      "7: Web\n"
     ]
    }
   ],
   "source": [
    "attack_dict = {}\n",
    "encoded_values = data['Attack Number'].unique()\n",
    "for val in sorted(encoded_values):\n",
    "    attack_dict[val] = le.inverse_transform([val])[0]\n",
    "    print(f\"{val}: {le.inverse_transform([val])[0]}\")"
   ]
  },
  {
   "cell_type": "markdown",
   "id": "a4b20f7f-98a2-48be-9ded-806b15f37379",
   "metadata": {},
   "source": [
    "# Multiclass Classification"
   ]
  },
  {
   "cell_type": "code",
   "execution_count": 13,
   "id": "2e2557a7-fc75-46e7-bbd9-9c326d2dca5a",
   "metadata": {},
   "outputs": [],
   "source": [
    "results_dict = {}"
   ]
  },
  {
   "cell_type": "code",
   "execution_count": 14,
   "id": "8588246f-0b17-491e-a438-654bcaf92021",
   "metadata": {},
   "outputs": [
    {
     "data": {
      "text/plain": [
       "((1562209, 46), (1562209,), (275684, 46), (275684,))"
      ]
     },
     "execution_count": 14,
     "metadata": {},
     "output_type": "execute_result"
    }
   ],
   "source": [
    "X_train, X_test, y_train, y_test = train_test_split(X, y, test_size=0.15)\n",
    "X_train = X_train.reshape(X_train.shape[0], X_train.shape[1])\n",
    "X_test = X_test.reshape(X_test.shape[0], X_test.shape[1])\n",
    "X_train.shape, y_train.shape, X_test.shape, y_test.shape"
   ]
  },
  {
   "cell_type": "markdown",
   "id": "05aa6d6e-7921-424d-a886-a145ce015ee5",
   "metadata": {},
   "source": [
    "# K Nearest Neighbour"
   ]
  },
  {
   "cell_type": "code",
   "execution_count": null,
   "id": "c592cea2-b563-4037-ace0-c60007e4c994",
   "metadata": {},
   "outputs": [],
   "source": [
    "%%time\n",
    "\n",
    "start = time.time()\n",
    "\n",
    "knn_clf = KNeighborsClassifier(n_jobs=8)\n",
    "knn_clf.fit(X_train, y_train)\n",
    "y_pred = knn_clf.predict(X_test)\n",
    "\n",
    "end = time.time()\n",
    "\n",
    "KNN_time = end - start"
   ]
  },
  {
   "cell_type": "code",
   "execution_count": null,
   "id": "fb27c030-7b36-42f2-81f4-50516991b0a3",
   "metadata": {},
   "outputs": [],
   "source": [
    "visualize_CM(confusion_matrix(y_test, y_pred))"
   ]
  },
  {
   "cell_type": "code",
   "execution_count": null,
   "id": "9091f4aa-919e-4553-a34b-5470e6f1673b",
   "metadata": {},
   "outputs": [],
   "source": [
    "accuracy = accuracy_score(y_true=y_test, y_pred=y_pred)\n",
    "precision = precision_score(y_true=y_test, y_pred=y_pred, average=\"weighted\")\n",
    "f1 = f1_score(y_true=y_test, y_pred=y_pred, average=\"weighted\")\n",
    "recall = recall_score(y_true=y_test, y_pred=y_pred, average=\"weighted\")\n",
    "mcc = matthews_corrcoef(y_true=y_test,y_pred=y_pred)\n",
    "mae = mean_absolute_error(y_true=y_test,y_pred=y_pred)\n",
    "mse = mean_squared_error(y_true=y_test,y_pred=y_pred)\n",
    "rmse = root_mean_squared_error(y_true=y_test,y_pred=y_pred)"
   ]
  },
  {
   "cell_type": "code",
   "execution_count": null,
   "id": "05e8d193-e6fb-438e-9b26-6752513471b4",
   "metadata": {},
   "outputs": [],
   "source": [
    "results = [accuracy, precision, f1, recall, mcc, mae, mse, rmse, KNN_time]\n",
    "results_dict[\"kNN\"] = results"
   ]
  },
  {
   "cell_type": "code",
   "execution_count": null,
   "id": "3713f3df-250f-4acb-b88c-9a6bf9286be5",
   "metadata": {},
   "outputs": [],
   "source": [
    "pd.DataFrame.from_dict(results_dict, orient=\"index\", columns=[\"Accuracy\", \"Precision\", \"F1\", \"Recall\", \"MCC\", \"MAE\", \"MSE\", \"RMSE\", \"Time\"])"
   ]
  },
  {
   "cell_type": "code",
   "execution_count": null,
   "id": "84603b22-1982-401a-ad52-92fdf5f67da8",
   "metadata": {},
   "outputs": [],
   "source": [
    "plot_mc(y_pred, y_test, \"kNN\")"
   ]
  },
  {
   "cell_type": "markdown",
   "id": "755d36cd-eaed-4dc4-b2a0-ee0ca17856ea",
   "metadata": {},
   "source": [
    "# Random Forest"
   ]
  },
  {
   "cell_type": "code",
   "execution_count": null,
   "id": "564de985-fe44-43d4-89b2-be5267bd4142",
   "metadata": {},
   "outputs": [],
   "source": [
    "%%time\n",
    "\n",
    "start = time.time()\n",
    "\n",
    "rf_clf = RandomForestClassifier(n_jobs=8)\n",
    "rf_clf.fit(X_train, y_train)\n",
    "y_pred = rf_clf.predict(X_test)\n",
    "\n",
    "end = time.time()\n",
    "\n",
    "RF_time = end - start"
   ]
  },
  {
   "cell_type": "code",
   "execution_count": null,
   "id": "4259d9f5-8138-41ee-a191-b5348b57995d",
   "metadata": {},
   "outputs": [],
   "source": [
    "visualize_CM(confusion_matrix(y_test, y_pred))"
   ]
  },
  {
   "cell_type": "code",
   "execution_count": null,
   "id": "e1eeec6a-1b48-4eab-85cd-cd26f3b1e592",
   "metadata": {},
   "outputs": [],
   "source": [
    "accuracy = accuracy_score(y_true=y_test, y_pred=y_pred)\n",
    "precision = precision_score(y_true=y_test, y_pred=y_pred, average=\"weighted\")\n",
    "f1 = f1_score(y_true=y_test, y_pred=y_pred, average=\"weighted\")\n",
    "recall = recall_score(y_true=y_test, y_pred=y_pred, average=\"weighted\")\n",
    "mcc = matthews_corrcoef(y_true=y_test,y_pred=y_pred)\n",
    "mae = mean_absolute_error(y_true=y_test,y_pred=y_pred)\n",
    "mse = mean_squared_error(y_true=y_test,y_pred=y_pred)\n",
    "rmse = root_mean_squared_error(y_true=y_test,y_pred=y_pred)"
   ]
  },
  {
   "cell_type": "code",
   "execution_count": null,
   "id": "0da8dee3-7f70-460c-b745-a907a0526e73",
   "metadata": {},
   "outputs": [],
   "source": [
    "results = [accuracy, precision, f1, recall, mcc, mae, mse, rmse, RF_time]\n",
    "results_dict[\"RF\"] = results"
   ]
  },
  {
   "cell_type": "code",
   "execution_count": null,
   "id": "1f318235-4425-4e28-b380-36cd323eab89",
   "metadata": {},
   "outputs": [],
   "source": [
    "pd.DataFrame.from_dict(results_dict, orient=\"index\", columns=[\"Accuracy\", \"Precision\", \"F1\", \"Recall\", \"MCC\", \"MAE\", \"MSE\", \"RMSE\", \"Time\"])"
   ]
  },
  {
   "cell_type": "code",
   "execution_count": null,
   "id": "b1c3b5d3-d943-4f27-8c2d-e419f5dba28c",
   "metadata": {},
   "outputs": [],
   "source": [
    "plot_mc(y_pred, y_test, \"RF\")"
   ]
  },
  {
   "cell_type": "markdown",
   "id": "913ea60d-8dba-4b9d-ac1c-30ce21d6982f",
   "metadata": {},
   "source": [
    "# XGBoost"
   ]
  },
  {
   "cell_type": "code",
   "execution_count": null,
   "id": "bd29c598-45be-4466-b7ce-d108f4c38ea0",
   "metadata": {},
   "outputs": [],
   "source": [
    "%%time\n",
    "\n",
    "start = time.time()\n",
    "\n",
    "xgb_clf = xgb.XGBClassifier()\n",
    "xgb_clf.fit(X_train, y_train)\n",
    "y_pred = xgb_clf.predict(X_test)\n",
    "\n",
    "end = time.time()\n",
    "\n",
    "XGB_time = end - start"
   ]
  },
  {
   "cell_type": "code",
   "execution_count": null,
   "id": "95a11fdc-62ce-4b4d-95d6-7ece0fb3ed8e",
   "metadata": {},
   "outputs": [],
   "source": [
    "visualize_CM(confusion_matrix(y_test, y_pred))"
   ]
  },
  {
   "cell_type": "code",
   "execution_count": null,
   "id": "0ade5b83-35a0-442f-b8db-7a70d82a10b7",
   "metadata": {},
   "outputs": [],
   "source": [
    "accuracy = accuracy_score(y_true=y_test, y_pred=y_pred)\n",
    "precision = precision_score(y_true=y_test, y_pred=y_pred, average=\"weighted\")\n",
    "f1 = f1_score(y_true=y_test, y_pred=y_pred, average=\"weighted\")\n",
    "recall = recall_score(y_true=y_test, y_pred=y_pred, average=\"weighted\")\n",
    "mcc = matthews_corrcoef(y_true=y_test,y_pred=y_pred)\n",
    "mae = mean_absolute_error(y_true=y_test,y_pred=y_pred)\n",
    "mse = mean_squared_error(y_true=y_test,y_pred=y_pred) \n",
    "rmse = root_mean_squared_error(y_true=y_test,y_pred=y_pred)"
   ]
  },
  {
   "cell_type": "code",
   "execution_count": null,
   "id": "8369d53e-8949-4006-bf41-b4b15576c639",
   "metadata": {},
   "outputs": [],
   "source": [
    "results = [accuracy, precision, f1, recall, mcc, mae, mse, rmse, XGB_time]\n",
    "results_dict[\"XGBoost\"] = results"
   ]
  },
  {
   "cell_type": "code",
   "execution_count": null,
   "id": "4e59b2cd-9253-47f1-ba77-56ed49614c5b",
   "metadata": {},
   "outputs": [],
   "source": [
    "pd.DataFrame.from_dict(results_dict, orient=\"index\", columns=[\"Accuracy\", \"Precision\", \"F1\", \"Recall\", \"MCC\", \"MAE\", \"MSE\", \"RMSE\", \"Time\"])"
   ]
  },
  {
   "cell_type": "code",
   "execution_count": null,
   "id": "f9021356-51e9-4912-8626-edcea166bf7e",
   "metadata": {},
   "outputs": [],
   "source": [
    "plot_mc(y_pred, y_test, \"XGBoost\")"
   ]
  },
  {
   "cell_type": "markdown",
   "id": "097b3a44-8130-4e33-a521-f26a1a56a326",
   "metadata": {},
   "source": [
    "# LightGBM"
   ]
  },
  {
   "cell_type": "code",
   "execution_count": null,
   "id": "7d48a7b0-602d-448d-9eed-37a015f8e7b7",
   "metadata": {},
   "outputs": [],
   "source": [
    "%%time\n",
    "\n",
    "start = time.time()\n",
    "\n",
    "lgbm_clf = lightgbm.LGBMClassifier()\n",
    "lgbm_clf.fit(X_train, y_train)\n",
    "y_pred = lgbm_clf.predict(X_test)\n",
    "\n",
    "end = time.time()\n",
    "\n",
    "LightGBM_Time = end - start"
   ]
  },
  {
   "cell_type": "code",
   "execution_count": null,
   "id": "1ce3d51e-488c-4f12-beea-9b75318e042d",
   "metadata": {},
   "outputs": [],
   "source": [
    "visualize_CM(confusion_matrix(y_test, y_pred))"
   ]
  },
  {
   "cell_type": "code",
   "execution_count": null,
   "id": "6f5a2793-9ddc-4e30-98f7-9dac5196ed0a",
   "metadata": {},
   "outputs": [],
   "source": [
    "accuracy = accuracy_score(y_true=y_test, y_pred=y_pred)\n",
    "precision = precision_score(y_true=y_test, y_pred=y_pred, average=\"weighted\")\n",
    "f1 = f1_score(y_true=y_test, y_pred=y_pred, average=\"weighted\")\n",
    "recall = recall_score(y_true=y_test, y_pred=y_pred, average=\"weighted\")\n",
    "mcc = matthews_corrcoef(y_true=y_test,y_pred=y_pred)\n",
    "mae = mean_absolute_error(y_true=y_test,y_pred=y_pred)\n",
    "mse = mean_squared_error(y_true=y_test,y_pred=y_pred) \n",
    "rmse = root_mean_squared_error(y_true=y_test,y_pred=y_pred)"
   ]
  },
  {
   "cell_type": "code",
   "execution_count": null,
   "id": "eb635bb6-88b8-4030-baca-bedc50c564eb",
   "metadata": {},
   "outputs": [],
   "source": [
    "results = [accuracy, precision, f1, recall, mcc, mae, mse, rmse, LightGBM_Time]\n",
    "results_dict[\"LightGBM\"] = results"
   ]
  },
  {
   "cell_type": "code",
   "execution_count": null,
   "id": "ffc829dc-0bf3-4ad0-a816-9f2861a909f8",
   "metadata": {},
   "outputs": [],
   "source": [
    "pd.DataFrame.from_dict(results_dict, orient=\"index\", columns=[\"Accuracy\", \"Precision\", \"F1\", \"Recall\", \"MCC\", \"MAE\", \"MSE\", \"RMSE\", \"Time\"])"
   ]
  },
  {
   "cell_type": "code",
   "execution_count": null,
   "id": "e6b4a5dc-67ca-4b6b-ac09-276587db7f9b",
   "metadata": {},
   "outputs": [],
   "source": [
    "plot_mc(y_pred, y_test, \"LightGBM\")"
   ]
  },
  {
   "cell_type": "markdown",
   "id": "2340ec3a-6c96-4650-81d4-c4019883fe3d",
   "metadata": {},
   "source": [
    "# Feed Forward Neural Network"
   ]
  },
  {
   "cell_type": "code",
   "execution_count": null,
   "id": "f7fc6887-217d-4081-ae08-e3c1c72534e0",
   "metadata": {},
   "outputs": [],
   "source": [
    "X_train, X_test, y_train, y_test = train_test_split(X, y, test_size=0.15)\n",
    "X_train, X_val, y_train, y_val = train_test_split(X_train, y_train, test_size=0.18)\n",
    "X_train.shape, y_train.shape, X_val.shape, y_val.shape, X_test.shape, y_test.shape"
   ]
  },
  {
   "cell_type": "code",
   "execution_count": null,
   "id": "64ce321d-a2a2-4a3f-bca9-4afd5590b6bb",
   "metadata": {},
   "outputs": [],
   "source": [
    "def create_model(X_train, y_train):\n",
    "    model = keras.Sequential()\n",
    "    model.add(keras.layers.Dense(X_train.shape[1], activation='relu', input_shape=(X_train.shape[1],)))\n",
    "    model.add(keras.layers.Dense(1024, activation='relu'))\n",
    "    model.add(keras.layers.Dense(512, activation='relu'))\n",
    "    model.add(keras.layers.Dense(len(np.unique(y_train)), activation='softmax'))\n",
    "    model.compile(optimizer='adam', loss='sparse_categorical_crossentropy', metrics=['accuracy'])\n",
    "    return model\n",
    "model = create_model(X_train, y_train)"
   ]
  },
  {
   "cell_type": "code",
   "execution_count": null,
   "id": "c6d0a685-755c-448c-a9f2-11d05d107e2b",
   "metadata": {},
   "outputs": [],
   "source": [
    "model.summary()"
   ]
  },
  {
   "cell_type": "code",
   "execution_count": null,
   "id": "048819c7-3fee-483b-822c-e49b64600293",
   "metadata": {},
   "outputs": [],
   "source": [
    "%%time\n",
    "\n",
    "start = time.time()\n",
    "\n",
    "model.fit(X_train, y_train,\n",
    "          batch_size=16,\n",
    "          epochs=20,\n",
    "          validation_data=(X_val, y_val))\n",
    "gc.collect();\n",
    "\n",
    "y_pred = model.predict(X_test)\n",
    "\n",
    "end = time.time()\n",
    "\n",
    "FFNN_Time = end - start"
   ]
  },
  {
   "cell_type": "code",
   "execution_count": null,
   "id": "06cb7ebe-b2cb-43d0-a541-fad372c5cc41",
   "metadata": {},
   "outputs": [],
   "source": [
    "y_pred = np.argmax(y_pred, axis=1)"
   ]
  },
  {
   "cell_type": "code",
   "execution_count": null,
   "id": "593eb9fd-c4c1-44a2-965a-10e7a1ba2750",
   "metadata": {},
   "outputs": [],
   "source": [
    "_, accuracy = model.evaluate(X_test, y_test)\n",
    "precision = precision_score(y_true=y_test, y_pred=y_pred, average=\"weighted\")\n",
    "f1 = f1_score(y_true=y_test, y_pred=y_pred, average=\"weighted\")\n",
    "recall = recall_score(y_true=y_test, y_pred=y_pred, average=\"weighted\")\n",
    "mcc = matthews_corrcoef(y_true=y_test,y_pred=y_pred)\n",
    "mae = mean_absolute_error(y_true=y_test,y_pred=y_pred)\n",
    "mse = mean_squared_error(y_true=y_test,y_pred=y_pred) \n",
    "rmse = root_mean_squared_error(y_true=y_test,y_pred=y_pred)"
   ]
  },
  {
   "cell_type": "code",
   "execution_count": null,
   "id": "a011fde5-0280-4b83-9ca5-9da7a86519dd",
   "metadata": {},
   "outputs": [],
   "source": [
    "results = [accuracy, precision, f1, recall, mcc, mae, mse, rmse, FFNN_Time]\n",
    "results_dict[\"FF-NN\"] = results"
   ]
  },
  {
   "cell_type": "code",
   "execution_count": null,
   "id": "9ef69152-608b-491d-9e8c-e198abe9cecb",
   "metadata": {},
   "outputs": [],
   "source": [
    "pd.DataFrame.from_dict(results_dict, orient=\"index\", columns=[\"Accuracy\", \"Precision\", \"F1\", \"Recall\", \"MCC\", \"MAE\", \"MSE\", \"RMSE\", \"Time\"])"
   ]
  },
  {
   "cell_type": "code",
   "execution_count": null,
   "id": "10622d2f-faf5-4065-b641-610a62ae2bfb",
   "metadata": {},
   "outputs": [],
   "source": [
    "plot_mc(y_pred, y_test, \"FF-NN\")"
   ]
  },
  {
   "cell_type": "markdown",
   "id": "5b9faf3e-6103-48d9-8f36-a6abe0a5f875",
   "metadata": {},
   "source": [
    "# LSTM"
   ]
  },
  {
   "cell_type": "code",
   "execution_count": null,
   "id": "2a8c0d22-12bc-4a57-a4c7-eab96190a1d3",
   "metadata": {},
   "outputs": [],
   "source": [
    "# Prepare sequential data\n",
    "def create_sequences(features, labels, seq_length):\n",
    "    sequences, seq_labels = [], []\n",
    "    for i in range(len(features) - seq_length):\n",
    "        sequences.append(features[i:i + seq_length])\n",
    "        seq_labels.append(labels[i + seq_length - 1])  # Use the last label in the sequence\n",
    "    return np.array(sequences), np.array(seq_labels)"
   ]
  },
  {
   "cell_type": "code",
   "execution_count": null,
   "id": "82724043-9ec5-46e6-8346-d23bd5f8990a",
   "metadata": {},
   "outputs": [],
   "source": [
    "num_components = len(np.unique(y))"
   ]
  },
  {
   "cell_type": "code",
   "execution_count": null,
   "id": "dada09fb-c7ba-47b1-8d3b-234147a2dbdf",
   "metadata": {},
   "outputs": [],
   "source": [
    "# Create sequences\n",
    "seq_length = 20\n",
    "X1, y1 = create_sequences(X, y, seq_length)\n",
    "y1 = to_categorical(y1, num_classes=num_components)  # Convert labels to one-hot encoding"
   ]
  },
  {
   "cell_type": "code",
   "execution_count": null,
   "id": "3f2527dc-2536-485a-9eed-79cf58e78854",
   "metadata": {},
   "outputs": [],
   "source": [
    "# Split data\n",
    "X_train, X_temp, y_train, y_temp = train_test_split(X1, y1, test_size=0.3, random_state=42)\n",
    "X_val, X_test, y_val, y_test = train_test_split(X_temp, y_temp, test_size=0.5, random_state=42)"
   ]
  },
  {
   "cell_type": "code",
   "execution_count": null,
   "id": "77da2542-0a2b-4e83-8ec3-143bbd1efb89",
   "metadata": {},
   "outputs": [],
   "source": [
    "def create_model_LSTM(input_shape, num_classes):\n",
    "    model = keras.Sequential([\n",
    "        keras.layers.LSTM(64, input_shape=input_shape, return_sequences=True),\n",
    "        keras.layers.Dropout(0.3),\n",
    "        keras.layers.LSTM(32),\n",
    "        keras.layers.Dropout(0.3),\n",
    "        keras.layers.Dense(64, activation='relu'),\n",
    "        keras.layers.Dense(num_classes, activation='softmax')  # Use softmax for multi-class classification\n",
    "    ])\n",
    "    model.compile(optimizer='adam', loss='categorical_crossentropy', metrics=['accuracy'])\n",
    "    return model"
   ]
  },
  {
   "cell_type": "code",
   "execution_count": null,
   "id": "da786b90-2a38-42ff-883c-6c3a9e5f558c",
   "metadata": {},
   "outputs": [],
   "source": [
    "# Build model\n",
    "model = create_model_LSTM(input_shape=(seq_length, X1.shape[2]), num_classes=num_components)"
   ]
  },
  {
   "cell_type": "code",
   "execution_count": null,
   "id": "4a372786-4b22-4f6f-a7a5-41e500c8db09",
   "metadata": {},
   "outputs": [],
   "source": [
    "model.summary()"
   ]
  },
  {
   "cell_type": "code",
   "execution_count": null,
   "id": "a37ff570-df00-4056-a259-8127b08cb803",
   "metadata": {},
   "outputs": [],
   "source": [
    "%%time\n",
    "\n",
    "start = time.time()\n",
    "\n",
    "history = model.fit(\n",
    "    X_train, y_train,\n",
    "    epochs=10,\n",
    "    batch_size=32,\n",
    "    validation_data=(X_val, y_val)\n",
    ")\n",
    "\n",
    "# Evaluate model\n",
    "y_pred = model.predict(X_test)\n",
    "\n",
    "end = time.time()\n",
    "\n",
    "LSTM_Time = end - start"
   ]
  },
  {
   "cell_type": "code",
   "execution_count": null,
   "id": "85ba72f2-c86a-4f2d-b420-5be108aa7e12",
   "metadata": {},
   "outputs": [],
   "source": [
    "_, accuracy = model.evaluate(X_test, y_test)"
   ]
  },
  {
   "cell_type": "code",
   "execution_count": null,
   "id": "d025a10e-7a48-4916-ab43-9c583da04468",
   "metadata": {},
   "outputs": [],
   "source": [
    "y_test = np.argmax(y_test, axis=1)\n",
    "y_pred = np.argmax(y_pred, axis=1)"
   ]
  },
  {
   "cell_type": "code",
   "execution_count": null,
   "id": "136c5361-7749-4a5e-869e-81a88683e445",
   "metadata": {},
   "outputs": [],
   "source": [
    "precision = precision_score(y_true=y_test, y_pred=y_pred, average=\"weighted\")\n",
    "f1 = f1_score(y_true=y_test, y_pred=y_pred, average=\"weighted\")\n",
    "recall = recall_score(y_true=y_test, y_pred=y_pred, average=\"weighted\")\n",
    "mcc = matthews_corrcoef(y_true=y_test,y_pred=y_pred)\n",
    "mae = mean_absolute_error(y_true=y_test,y_pred=y_pred)\n",
    "mse = mean_squared_error(y_true=y_test,y_pred=y_pred) \n",
    "rmse = root_mean_squared_error(y_true=y_test,y_pred=y_pred)"
   ]
  },
  {
   "cell_type": "code",
   "execution_count": null,
   "id": "943e07af-c7ce-4961-b8d0-90ce88b2a14e",
   "metadata": {},
   "outputs": [],
   "source": [
    "results = [accuracy, precision, f1, recall, mcc, mae, mse, rmse, LSTM_Time]\n",
    "results_dict[\"LSTM\"] = results"
   ]
  },
  {
   "cell_type": "code",
   "execution_count": null,
   "id": "f567bd7c-a796-45e4-b331-cd6999beb742",
   "metadata": {},
   "outputs": [],
   "source": [
    "pd.DataFrame.from_dict(results_dict, orient=\"index\", columns=[\"Accuracy\", \"Precision\", \"F1\", \"Recall\", \"MCC\", \"MAE\", \"MSE\", \"RMSE\", \"Time\"])"
   ]
  },
  {
   "cell_type": "code",
   "execution_count": null,
   "id": "693b7312-2f0a-4c04-ba29-1d55bd6d21a9",
   "metadata": {},
   "outputs": [],
   "source": [
    "plot_mc(y_pred, y_test, \"LSTM\")"
   ]
  },
  {
   "cell_type": "markdown",
   "id": "488d9c7b-992f-4b9a-8cb2-1c61bd1cca71",
   "metadata": {},
   "source": [
    "# Plot data"
   ]
  },
  {
   "cell_type": "code",
   "execution_count": null,
   "id": "0c96855e-a6ca-48ff-b6ba-0e668eb44455",
   "metadata": {},
   "outputs": [],
   "source": [
    "results_df = pd.DataFrame.from_dict(results_dict, orient=\"index\", columns=[\"Accuracy\", \"Precision\", \"F1\", \"Recall\", \"MCC\", \"MAE\", \"MSE\", \"RMSE\", \"Time\"])\n",
    "for x in results_df:\n",
    "    _dict = {}\n",
    "    name = results_df[x].name\n",
    "    for keys, values in zip(range(len(results_df[x].keys())), results_df[x]):\n",
    "        _dict[results_df[x].keys()[keys]] = values\n",
    "    result_plot(_dict, name, \"multiclass\", \"\")"
   ]
  },
  {
   "cell_type": "code",
   "execution_count": null,
   "id": "e3f65fc3-309a-4393-ae43-4c2667bd9795",
   "metadata": {},
   "outputs": [],
   "source": []
  }
 ],
 "metadata": {
  "kernelspec": {
   "display_name": "Python 3 (ipykernel)",
   "language": "python",
   "name": "python3"
  },
  "language_info": {
   "codemirror_mode": {
    "name": "ipython",
    "version": 3
   },
   "file_extension": ".py",
   "mimetype": "text/x-python",
   "name": "python",
   "nbconvert_exporter": "python",
   "pygments_lexer": "ipython3",
   "version": "3.10.16"
  }
 },
 "nbformat": 4,
 "nbformat_minor": 5
}
