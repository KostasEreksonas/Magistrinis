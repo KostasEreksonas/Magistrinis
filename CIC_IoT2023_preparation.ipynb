{
 "cells": [
  {
   "cell_type": "markdown",
   "id": "bc54807f-a686-4401-84fc-ba333a713d14",
   "metadata": {},
   "source": [
    "# Imports"
   ]
  },
  {
   "cell_type": "code",
   "execution_count": null,
   "id": "722633a6-4460-48a2-9b14-974a0742c62d",
   "metadata": {},
   "outputs": [],
   "source": [
    "import pandas as pd\n",
    "import glob\n",
    "import os\n",
    "import matplotlib.pyplot as plt\n",
    "import seaborn as sns\n",
    "import numpy as np"
   ]
  },
  {
   "cell_type": "markdown",
   "id": "43f089e0-23e7-46d5-b39a-2544c4080911",
   "metadata": {},
   "source": [
    "# Load data"
   ]
  },
  {
   "cell_type": "code",
   "execution_count": null,
   "id": "765bb55f-de31-4b42-87bb-c25aae988030",
   "metadata": {},
   "outputs": [],
   "source": [
    "path = 'data/CIC_IoT2023/'\n",
    "\n",
    "all_files = glob.glob(os.path.join(path , \"*.csv\"))\n",
    "\n",
    "li = []\n",
    "\n",
    "for filename in all_files:\n",
    "    df = pd.read_csv(filename, index_col=None, header=0)\n",
    "    li.append(df)\n",
    "\n",
    "frame = pd.concat(li, axis=0, ignore_index=True)"
   ]
  },
  {
   "cell_type": "code",
   "execution_count": null,
   "id": "36443e51-5d46-47e7-83d0-04d8b947cb07",
   "metadata": {},
   "outputs": [],
   "source": [
    "all_files"
   ]
  },
  {
   "cell_type": "code",
   "execution_count": null,
   "id": "5393faa0-ac80-4921-8ae0-6cd80c794313",
   "metadata": {},
   "outputs": [],
   "source": [
    "frame.head()"
   ]
  },
  {
   "cell_type": "code",
   "execution_count": null,
   "id": "b58fcdca-9bb4-42ee-932f-366f118ee02a",
   "metadata": {},
   "outputs": [],
   "source": [
    "frame.info()"
   ]
  },
  {
   "cell_type": "code",
   "execution_count": null,
   "id": "7d965d67-afa9-47a3-947b-90af83335b78",
   "metadata": {},
   "outputs": [],
   "source": [
    "frame['label'].unique()"
   ]
  },
  {
   "cell_type": "code",
   "execution_count": null,
   "id": "103ccf3c-6dec-4b9e-a804-75a9db75e0dc",
   "metadata": {},
   "outputs": [],
   "source": [
    "frame['label'].value_counts()"
   ]
  },
  {
   "cell_type": "code",
   "execution_count": null,
   "id": "da9e9d1a-2054-427f-8b26-afd8d83b1f2e",
   "metadata": {},
   "outputs": [],
   "source": [
    "attack_map = {\n",
    "    'BenignTraffic': 'Benign',\n",
    "    'DDoS-ICMP_Flood': 'DDoS',\n",
    "    'DDoS-UDP_Flood': 'DDoS',\n",
    "    'DDoS-TCP_Flood': 'DDoS',\n",
    "    'DDoS-PSHACK_Flood': 'DDoS',\n",
    "    'DDoS-SYN_Flood': 'DDoS',\n",
    "    'DDoS-RSTFINFlood': 'DDoS',\n",
    "    'DDoS-SynonymousIP_Flood': 'DDoS',\n",
    "    'DDoS-ICMP_Fragmentation': 'DDoS',\n",
    "    'DDoS-UDP_Fragmentation': 'DDoS',\n",
    "    'DDoS-ACK_Fragmentation': 'DDoS',\n",
    "    'DDoS-HTTP_Flood': 'DDoS',\n",
    "    'DDoS-SlowLoris': 'DDoS',\n",
    "    'DoS-UDP_Flood': 'DoS',\n",
    "    'DoS-TCP_Flood': 'DoS',\n",
    "    'DoS-SYN_Flood': 'DoS',\n",
    "    'DoS-HTTP_Flood': 'DoS',\n",
    "    'DictionaryBruteForce': 'Bruteforce',\n",
    "    'MITM-ArpSpoofing': 'Spoofing',\n",
    "    'DNS_Spoofing': 'Spoofing',\n",
    "    'Recon-HostDiscovery': 'Recon',\n",
    "    'Recon-OSScan': 'Recon',\n",
    "    'Recon-PortScan': 'Recon',\n",
    "    'Recon-PingSweep': 'Recon',\n",
    "    'VulnerabilityScan': 'Recon',\n",
    "    'BrowserHijacking': 'Web',\n",
    "    'CommandInjection': 'Web',\n",
    "    'SqlInjection': 'Web',\n",
    "    'XSS': 'Web',\n",
    "    'Backdoor_Malware': 'Web',\n",
    "    'Uploading_Attack': 'Web',\n",
    "    'Mirai-greeth_flood': 'Mirai',\n",
    "    'Mirai-udpplain': 'Mirai',\n",
    "    'Mirai-greip_flood': 'Mirai'\n",
    "}"
   ]
  },
  {
   "cell_type": "code",
   "execution_count": null,
   "id": "53ad3d84-be9e-4056-8db2-81b057a5ed78",
   "metadata": {},
   "outputs": [],
   "source": [
    "frame['Attack Type'] = frame['label'].map(attack_map)"
   ]
  },
  {
   "cell_type": "code",
   "execution_count": null,
   "id": "88747ad9-5321-462b-911b-7c30df29ea21",
   "metadata": {},
   "outputs": [],
   "source": [
    "frame['Attack Type'].unique()"
   ]
  },
  {
   "cell_type": "code",
   "execution_count": null,
   "id": "1cd21748-6443-4f62-94a9-809385601cf8",
   "metadata": {},
   "outputs": [],
   "source": [
    "frame['Class'] = np.where(frame['Attack Type'] == 'Benign', 'Benign', 'Attack')"
   ]
  },
  {
   "cell_type": "code",
   "execution_count": null,
   "id": "65aea4b6-737b-4e82-812f-e1e8799abdf2",
   "metadata": {},
   "outputs": [],
   "source": [
    "frame['Class'].unique()"
   ]
  },
  {
   "cell_type": "code",
   "execution_count": null,
   "id": "f805976e-4874-43ff-a8d4-33846a83f519",
   "metadata": {},
   "outputs": [],
   "source": [
    "def hist_plot(label, count, name, rotation):\n",
    "    fig, ax = plt.subplots(figsize=(10,10))\n",
    "    ax.bar(label, count)\n",
    "    rects = ax.patches\n",
    "    labels = [f\"{count[i]}\" for i in range(len(rects))]\n",
    "    for rect, label in zip(rects, labels):\n",
    "        height = rect.get_height()\n",
    "        ax.text(\n",
    "            rect.get_x() + rect.get_width() / 2, height + 5, label, ha=\"center\", va=\"bottom\"\n",
    "        )\n",
    "    ax.set_title(f'{name} distribution', fontsize=16, fontweight=\"bold\")\n",
    "    ax.set_xlabel(f'{name}')\n",
    "    ax.set_ylabel('Distribution')\n",
    "    ax.grid(which='Major', axis='both')\n",
    "    ax.set_axisbelow(True)\n",
    "    ax.tick_params(axis='x', labelrotation=rotation)\n",
    "    plt.savefig(f\"images/plots/{name}.png\")"
   ]
  },
  {
   "cell_type": "code",
   "execution_count": null,
   "id": "ab66a334-d280-4ac9-b657-654cf5f4e090",
   "metadata": {},
   "outputs": [],
   "source": [
    "label = frame['Class'].value_counts().index.tolist()\n",
    "count = frame['Class'].value_counts()"
   ]
  },
  {
   "cell_type": "code",
   "execution_count": null,
   "id": "922ed7ed-f7de-4454-82b5-7b9dff4b1c95",
   "metadata": {},
   "outputs": [],
   "source": [
    "hist_plot(label, count, \"Traffic type distribution\", 0)"
   ]
  },
  {
   "cell_type": "code",
   "execution_count": null,
   "id": "e870447b-534c-4a2e-af2f-c232b39c006c",
   "metadata": {},
   "outputs": [],
   "source": [
    "label = frame['Attack Type'].value_counts().index.tolist()\n",
    "count = frame['Attack Type'].value_counts()"
   ]
  },
  {
   "cell_type": "code",
   "execution_count": null,
   "id": "2786452c-837d-4d4c-ad6d-1479ecc99f18",
   "metadata": {},
   "outputs": [],
   "source": [
    "hist_plot(label, count, \"Attack Distribution\", 0)"
   ]
  },
  {
   "cell_type": "code",
   "execution_count": null,
   "id": "c88fe9ed-7525-48f5-96b6-7043a1a60ec8",
   "metadata": {},
   "outputs": [],
   "source": [
    "label = frame['label'][frame['Attack Type'] == 'DDoS'].unique().tolist()\n",
    "count = frame['label'][frame['Attack Type'] == 'DDoS'].value_counts()"
   ]
  },
  {
   "cell_type": "code",
   "execution_count": null,
   "id": "0af9931a-50a9-470c-a8ae-06dddb38de76",
   "metadata": {},
   "outputs": [],
   "source": [
    "hist_plot(label, count, \"DDoS Attack Distribution\", 90)"
   ]
  },
  {
   "cell_type": "code",
   "execution_count": null,
   "id": "44344404-5d5e-47ba-a01e-e326db716f50",
   "metadata": {},
   "outputs": [],
   "source": [
    "label = frame['label'][frame['Attack Type'] == 'DoS'].unique().tolist()\n",
    "count = frame['label'][frame['Attack Type'] == 'DoS'].value_counts()"
   ]
  },
  {
   "cell_type": "code",
   "execution_count": null,
   "id": "cc3537cb-2c27-4cec-bc22-cc51f17332c4",
   "metadata": {},
   "outputs": [],
   "source": [
    "hist_plot(label, count, \"DoS Attack Distribution\", 0)"
   ]
  },
  {
   "cell_type": "code",
   "execution_count": null,
   "id": "02f90972-b828-4c14-a281-b1c728b5ef67",
   "metadata": {},
   "outputs": [],
   "source": [
    "label = frame['label'][frame['Attack Type'] == 'Mirai'].unique().tolist()\n",
    "count = frame['label'][frame['Attack Type'] == 'Mirai'].value_counts()"
   ]
  },
  {
   "cell_type": "code",
   "execution_count": null,
   "id": "ec127e17-bac0-42af-b81d-d186002e032f",
   "metadata": {},
   "outputs": [],
   "source": [
    "hist_plot(label, count, \"Mirai Attack Distribution\", 0)"
   ]
  },
  {
   "cell_type": "code",
   "execution_count": null,
   "id": "0f3b6374-8088-4127-b4b9-d9a0b17236e1",
   "metadata": {},
   "outputs": [],
   "source": [
    "label = frame['label'][frame['Attack Type'] == 'Spoofing'].unique().tolist()\n",
    "count = frame['label'][frame['Attack Type'] == 'Spoofing'].value_counts()"
   ]
  },
  {
   "cell_type": "code",
   "execution_count": null,
   "id": "a8eec146-c029-4696-8460-3e830eed5301",
   "metadata": {},
   "outputs": [],
   "source": [
    "hist_plot(label, count, \"Spoofing Attack Distribution\", 0)"
   ]
  },
  {
   "cell_type": "code",
   "execution_count": null,
   "id": "2dd8b135-096b-4b9f-bd00-ca89d1db8922",
   "metadata": {},
   "outputs": [],
   "source": [
    "label = frame['label'][frame['Attack Type'] == 'Recon'].unique().tolist()\n",
    "count = frame['label'][frame['Attack Type'] == 'Recon'].value_counts()"
   ]
  },
  {
   "cell_type": "code",
   "execution_count": null,
   "id": "0534d015-5668-4e2e-a10f-d08bb4064737",
   "metadata": {},
   "outputs": [],
   "source": [
    "hist_plot(label, count, \"Recon Attack Distribution\", 0)"
   ]
  },
  {
   "cell_type": "code",
   "execution_count": null,
   "id": "f09eec40-1ab6-47df-9252-aaf3757b1901",
   "metadata": {},
   "outputs": [],
   "source": [
    "label = frame['label'][frame['Attack Type'] == 'Web'].unique().tolist()\n",
    "count = frame['label'][frame['Attack Type'] == 'Web'].value_counts()"
   ]
  },
  {
   "cell_type": "code",
   "execution_count": null,
   "id": "4c5fe7d0-23dd-4468-ab0f-522135c2eef8",
   "metadata": {},
   "outputs": [],
   "source": [
    "hist_plot(label, count, \"Web Attack Distribution\", 90)"
   ]
  },
  {
   "cell_type": "code",
   "execution_count": null,
   "id": "1efe81a9-4c9a-4ba0-8358-49a597bd41a9",
   "metadata": {},
   "outputs": [],
   "source": [
    "label = frame['label'][frame['Attack Type'] == 'Bruteforce'].unique().tolist()\n",
    "count = frame['label'][frame['Attack Type'] == 'Bruteforce'].value_counts()"
   ]
  },
  {
   "cell_type": "code",
   "execution_count": null,
   "id": "c080df97-7ab4-47c6-9e29-bea4ec4159bd",
   "metadata": {},
   "outputs": [],
   "source": [
    "hist_plot(label, count, \"Brute Force Attack Distribution\", 0)"
   ]
  },
  {
   "cell_type": "code",
   "execution_count": null,
   "id": "ae5ddb4f-23fc-4581-a5e3-3c7972f68094",
   "metadata": {},
   "outputs": [],
   "source": [
    "frame.shape"
   ]
  },
  {
   "cell_type": "code",
   "execution_count": null,
   "id": "69f66fe6-77b0-4b5a-a45f-546433915cf6",
   "metadata": {},
   "outputs": [],
   "source": [
    "frame.columns"
   ]
  },
  {
   "cell_type": "markdown",
   "id": "f56ed695-6809-4277-bdc2-a36a4ec42c1f",
   "metadata": {},
   "source": [
    "# Binary Classification Data"
   ]
  },
  {
   "cell_type": "code",
   "execution_count": null,
   "id": "56a33306-f0a5-47cd-99f2-d5c0bfe7efe8",
   "metadata": {},
   "outputs": [],
   "source": [
    "def create_bc_data():\n",
    "    normal = frame.loc[frame['Attack Type'] == 'Benign']\n",
    "    intrusion = frame.loc[frame['Attack Type'] != 'Benign']\n",
    "    normal_data = normal.sample(n = 300000)\n",
    "    intrusion_data = intrusion.sample(n = 300000)\n",
    "    bc_data = pd.concat([intrusion_data, normal_data])\n",
    "    print(bc_data['Class'].value_counts())\n",
    "    bc_data.to_csv('data/CIC_IoT2023/binary_classification_data.csv')"
   ]
  },
  {
   "cell_type": "markdown",
   "id": "4cc9a1d4-1d27-4aa1-b1ba-70efcf6889fa",
   "metadata": {},
   "source": [
    "# Multiclass Classification Data"
   ]
  },
  {
   "cell_type": "code",
   "execution_count": null,
   "id": "623ec7e5-ef63-4608-87d5-c4972c315dbb",
   "metadata": {},
   "outputs": [],
   "source": [
    "def create_mc_data(sample_size):\n",
    "    dfs = []\n",
    "    attacks = frame['Attack Type'].value_counts().index.tolist()\n",
    "    for name in attacks:\n",
    "        mc_data = frame[frame['Attack Type'] == name]\n",
    "        if len(mc_data) > sample_size:\n",
    "            mc_data = mc_data.sample(n = sample_size, random_state = 0)\n",
    "        dfs.append(mc_data)\n",
    "    mc_data = pd.concat(dfs, ignore_index = True)\n",
    "    mc_data.to_csv('data/CIC_IoT2023/multiclass_classification_data.csv')\n",
    "    mc_data['Attack Type'].value_counts()"
   ]
  },
  {
   "cell_type": "code",
   "execution_count": null,
   "id": "57feccec-cf17-464e-b3bc-908fc7b6bb01",
   "metadata": {},
   "outputs": [],
   "source": [
    "create_mc_data(10000)"
   ]
  },
  {
   "cell_type": "code",
   "execution_count": null,
   "id": "bb6f25bd-2137-47d2-a50a-9bca40351c47",
   "metadata": {},
   "outputs": [],
   "source": []
  }
 ],
 "metadata": {
  "kernelspec": {
   "display_name": "Python 3 (ipykernel)",
   "language": "python",
   "name": "python3"
  },
  "language_info": {
   "codemirror_mode": {
    "name": "ipython",
    "version": 3
   },
   "file_extension": ".py",
   "mimetype": "text/x-python",
   "name": "python",
   "nbconvert_exporter": "python",
   "pygments_lexer": "ipython3",
   "version": "3.10.16"
  }
 },
 "nbformat": 4,
 "nbformat_minor": 5
}
