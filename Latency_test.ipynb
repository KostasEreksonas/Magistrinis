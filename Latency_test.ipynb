{
 "cells": [
  {
   "cell_type": "code",
   "execution_count": 16,
   "id": "cb8ed9a4-6398-40be-b506-8238551061bd",
   "metadata": {},
   "outputs": [],
   "source": [
    "import pandas as pd\n",
    "import numpy as np\n",
    "from sklearn.model_selection import TimeSeriesSplit"
   ]
  },
  {
   "cell_type": "markdown",
   "id": "4829a1dd-50e0-4f90-a605-2ef232bdeeeb",
   "metadata": {},
   "source": [
    "# Load data"
   ]
  },
  {
   "cell_type": "code",
   "execution_count": 2,
   "id": "1d30eeb8-e865-4dd3-9d34-bfa8788dd087",
   "metadata": {},
   "outputs": [
    {
     "name": "stderr",
     "output_type": "stream",
     "text": [
      "/tmp/ipykernel_119968/243132493.py:4: DtypeWarning: Columns (0,1,3,6,84) have mixed types. Specify dtype option on import or set low_memory=False.\n",
      "  thursday_morning = pd.read_csv('data/CIC_IDS_2017/TrafficLabelling/Thursday-WorkingHours-Morning-WebAttacks.pcap_ISCX.csv', sep=\",\", encoding='cp1252')\n"
     ]
    }
   ],
   "source": [
    "monday = pd.read_csv('data/CIC_IDS_2017/TrafficLabelling/Monday-WorkingHours.pcap_ISCX.csv', sep=\",\", encoding='utf-8')\n",
    "tuesday = pd.read_csv('data/CIC_IDS_2017/TrafficLabelling/Tuesday-WorkingHours.pcap_ISCX.csv', sep=\",\", encoding='utf-8')\n",
    "wednesday = pd.read_csv('data/CIC_IDS_2017/TrafficLabelling/Wednesday-workingHours.pcap_ISCX.csv', sep=\",\", encoding='utf-8')\n",
    "thursday_morning = pd.read_csv('data/CIC_IDS_2017/TrafficLabelling/Thursday-WorkingHours-Morning-WebAttacks.pcap_ISCX.csv', sep=\",\", encoding='cp1252')\n",
    "thursday_afternoon = pd.read_csv('data/CIC_IDS_2017/TrafficLabelling/Thursday-WorkingHours-Afternoon-Infilteration.pcap_ISCX.csv', sep=\",\", encoding='utf-8')\n",
    "friday_ddos = pd.read_csv('data/CIC_IDS_2017/TrafficLabelling/Friday-WorkingHours-Afternoon-DDos.pcap_ISCX.csv', sep=\",\", encoding='utf-8')\n",
    "friday_pcap = pd.read_csv('data/CIC_IDS_2017/TrafficLabelling/Friday-WorkingHours-Afternoon-PortScan.pcap_ISCX.csv', sep=\",\", encoding='utf-8')\n",
    "friday_morning = pd.read_csv('data/CIC_IDS_2017/TrafficLabelling/Friday-WorkingHours-Morning.pcap_ISCX.csv', sep=\",\", encoding='utf-8')\n",
    "monday.name = 'Monday'\n",
    "tuesday.name = 'Tuesday'\n",
    "wednesday.name = 'Wednesday'\n",
    "thursday_morning.name = 'Thursday_Morning'\n",
    "thursday_afternoon.name = 'Thursday_Afternoon'\n",
    "friday_ddos.name = 'Friday_DDoS'\n",
    "friday_pcap.name = 'Friday_Pcap'\n",
    "friday_morning.name = 'Friday_Morning'\n",
    "\n",
    "dataframes = [monday, tuesday, wednesday, thursday_morning, thursday_afternoon, friday_ddos, friday_morning, friday_pcap]\n",
    "data = pd.concat(dataframes)\n",
    "\n",
    "for df in dataframes: del df"
   ]
  },
  {
   "cell_type": "code",
   "execution_count": 3,
   "id": "8e2c0fd4-afb6-4d75-9c98-c1562c75c8f1",
   "metadata": {},
   "outputs": [
    {
     "data": {
      "text/plain": [
       "Index(['Flow ID', ' Source IP', ' Source Port', ' Destination IP',\n",
       "       ' Destination Port', ' Protocol', ' Timestamp', ' Flow Duration',\n",
       "       ' Total Fwd Packets', ' Total Backward Packets',\n",
       "       'Total Length of Fwd Packets', ' Total Length of Bwd Packets',\n",
       "       ' Fwd Packet Length Max', ' Fwd Packet Length Min',\n",
       "       ' Fwd Packet Length Mean', ' Fwd Packet Length Std',\n",
       "       'Bwd Packet Length Max', ' Bwd Packet Length Min',\n",
       "       ' Bwd Packet Length Mean', ' Bwd Packet Length Std', 'Flow Bytes/s',\n",
       "       ' Flow Packets/s', ' Flow IAT Mean', ' Flow IAT Std', ' Flow IAT Max',\n",
       "       ' Flow IAT Min', 'Fwd IAT Total', ' Fwd IAT Mean', ' Fwd IAT Std',\n",
       "       ' Fwd IAT Max', ' Fwd IAT Min', 'Bwd IAT Total', ' Bwd IAT Mean',\n",
       "       ' Bwd IAT Std', ' Bwd IAT Max', ' Bwd IAT Min', 'Fwd PSH Flags',\n",
       "       ' Bwd PSH Flags', ' Fwd URG Flags', ' Bwd URG Flags',\n",
       "       ' Fwd Header Length', ' Bwd Header Length', 'Fwd Packets/s',\n",
       "       ' Bwd Packets/s', ' Min Packet Length', ' Max Packet Length',\n",
       "       ' Packet Length Mean', ' Packet Length Std', ' Packet Length Variance',\n",
       "       'FIN Flag Count', ' SYN Flag Count', ' RST Flag Count',\n",
       "       ' PSH Flag Count', ' ACK Flag Count', ' URG Flag Count',\n",
       "       ' CWE Flag Count', ' ECE Flag Count', ' Down/Up Ratio',\n",
       "       ' Average Packet Size', ' Avg Fwd Segment Size',\n",
       "       ' Avg Bwd Segment Size', ' Fwd Header Length.1', 'Fwd Avg Bytes/Bulk',\n",
       "       ' Fwd Avg Packets/Bulk', ' Fwd Avg Bulk Rate', ' Bwd Avg Bytes/Bulk',\n",
       "       ' Bwd Avg Packets/Bulk', 'Bwd Avg Bulk Rate', 'Subflow Fwd Packets',\n",
       "       ' Subflow Fwd Bytes', ' Subflow Bwd Packets', ' Subflow Bwd Bytes',\n",
       "       'Init_Win_bytes_forward', ' Init_Win_bytes_backward',\n",
       "       ' act_data_pkt_fwd', ' min_seg_size_forward', 'Active Mean',\n",
       "       ' Active Std', ' Active Max', ' Active Min', 'Idle Mean', ' Idle Std',\n",
       "       ' Idle Max', ' Idle Min', ' Label'],\n",
       "      dtype='object')"
      ]
     },
     "execution_count": 3,
     "metadata": {},
     "output_type": "execute_result"
    }
   ],
   "source": [
    "data.columns"
   ]
  },
  {
   "cell_type": "code",
   "execution_count": 9,
   "id": "2582d2ac-d9dd-42f6-93e0-0e5fb40298f4",
   "metadata": {},
   "outputs": [],
   "source": [
    "data['Class'] = np.where(data[' Label'] == 'BENIGN', 'Benign', 'Attack')"
   ]
  },
  {
   "cell_type": "code",
   "execution_count": 10,
   "id": "9ac57558-da85-443b-85ef-3a92d71fc381",
   "metadata": {},
   "outputs": [
    {
     "data": {
      "text/plain": [
       "array(['Benign', 'Attack'], dtype=object)"
      ]
     },
     "execution_count": 10,
     "metadata": {},
     "output_type": "execute_result"
    }
   ],
   "source": [
    "data['Class'].unique()"
   ]
  },
  {
   "cell_type": "code",
   "execution_count": 13,
   "id": "e15da1d5-6080-46bd-ac9c-4ba44648040b",
   "metadata": {},
   "outputs": [],
   "source": [
    "attack_starts = data[data['Class'] == 'Attack'].groupby(' Label')[' Timestamp'].min()"
   ]
  },
  {
   "cell_type": "code",
   "execution_count": 14,
   "id": "16a40560-ed85-4f09-a1fb-56357f5058b9",
   "metadata": {},
   "outputs": [
    {
     "data": {
      "text/plain": [
       " Label\n",
       "Bot                           7/7/2017 10:04\n",
       "DDoS                           7/7/2017 3:56\n",
       "DoS GoldenEye                 5/7/2017 11:10\n",
       "DoS Hulk                      5/7/2017 10:43\n",
       "DoS Slowhttptest              5/7/2017 10:15\n",
       "DoS slowloris                 5/7/2017 10:00\n",
       "FTP-Patator                   4/7/2017 10:00\n",
       "Heartbleed                     5/7/2017 3:12\n",
       "Infiltration                   6/7/2017 2:19\n",
       "PortScan                       7/7/2017 1:05\n",
       "SSH-Patator                    4/7/2017 2:09\n",
       "Web Attack – Brute Force      6/7/2017 10:00\n",
       "Web Attack – Sql Injection    6/7/2017 10:40\n",
       "Web Attack – XSS              6/7/2017 10:15\n",
       "Name:  Timestamp, dtype: object"
      ]
     },
     "execution_count": 14,
     "metadata": {},
     "output_type": "execute_result"
    }
   ],
   "source": [
    "attack_starts"
   ]
  },
  {
   "cell_type": "code",
   "execution_count": 17,
   "id": "5694c72f-6cd1-4de2-ad89-48b7881168dd",
   "metadata": {},
   "outputs": [],
   "source": [
    "# Time-based cross-validation\n",
    "tscv = TimeSeriesSplit(n_splits=5)\n",
    "for train_idx, test_idx in tscv.split(data):\n",
    "    train, test = data.iloc[train_idx], data.iloc[test_idx]"
   ]
  },
  {
   "cell_type": "code",
   "execution_count": 19,
   "id": "38620822-d33b-424a-8838-705e1f66ab5f",
   "metadata": {},
   "outputs": [
    {
     "name": "stdout",
     "output_type": "stream",
     "text": [
      "<class 'pandas.core.frame.DataFrame'>\n",
      "Index: 2599455 entries, 0 to 183354\n",
      "Data columns (total 86 columns):\n",
      " #   Column                        Dtype  \n",
      "---  ------                        -----  \n",
      " 0   Flow ID                       object \n",
      " 1    Source IP                    object \n",
      " 2    Source Port                  float64\n",
      " 3    Destination IP               object \n",
      " 4    Destination Port             float64\n",
      " 5    Protocol                     float64\n",
      " 6    Timestamp                    object \n",
      " 7    Flow Duration                float64\n",
      " 8    Total Fwd Packets            float64\n",
      " 9    Total Backward Packets       float64\n",
      " 10  Total Length of Fwd Packets   float64\n",
      " 11   Total Length of Bwd Packets  float64\n",
      " 12   Fwd Packet Length Max        float64\n",
      " 13   Fwd Packet Length Min        float64\n",
      " 14   Fwd Packet Length Mean       float64\n",
      " 15   Fwd Packet Length Std        float64\n",
      " 16  Bwd Packet Length Max         float64\n",
      " 17   Bwd Packet Length Min        float64\n",
      " 18   Bwd Packet Length Mean       float64\n",
      " 19   Bwd Packet Length Std        float64\n",
      " 20  Flow Bytes/s                  float64\n",
      " 21   Flow Packets/s               float64\n",
      " 22   Flow IAT Mean                float64\n",
      " 23   Flow IAT Std                 float64\n",
      " 24   Flow IAT Max                 float64\n",
      " 25   Flow IAT Min                 float64\n",
      " 26  Fwd IAT Total                 float64\n",
      " 27   Fwd IAT Mean                 float64\n",
      " 28   Fwd IAT Std                  float64\n",
      " 29   Fwd IAT Max                  float64\n",
      " 30   Fwd IAT Min                  float64\n",
      " 31  Bwd IAT Total                 float64\n",
      " 32   Bwd IAT Mean                 float64\n",
      " 33   Bwd IAT Std                  float64\n",
      " 34   Bwd IAT Max                  float64\n",
      " 35   Bwd IAT Min                  float64\n",
      " 36  Fwd PSH Flags                 float64\n",
      " 37   Bwd PSH Flags                float64\n",
      " 38   Fwd URG Flags                float64\n",
      " 39   Bwd URG Flags                float64\n",
      " 40   Fwd Header Length            float64\n",
      " 41   Bwd Header Length            float64\n",
      " 42  Fwd Packets/s                 float64\n",
      " 43   Bwd Packets/s                float64\n",
      " 44   Min Packet Length            float64\n",
      " 45   Max Packet Length            float64\n",
      " 46   Packet Length Mean           float64\n",
      " 47   Packet Length Std            float64\n",
      " 48   Packet Length Variance       float64\n",
      " 49  FIN Flag Count                float64\n",
      " 50   SYN Flag Count               float64\n",
      " 51   RST Flag Count               float64\n",
      " 52   PSH Flag Count               float64\n",
      " 53   ACK Flag Count               float64\n",
      " 54   URG Flag Count               float64\n",
      " 55   CWE Flag Count               float64\n",
      " 56   ECE Flag Count               float64\n",
      " 57   Down/Up Ratio                float64\n",
      " 58   Average Packet Size          float64\n",
      " 59   Avg Fwd Segment Size         float64\n",
      " 60   Avg Bwd Segment Size         float64\n",
      " 61   Fwd Header Length.1          float64\n",
      " 62  Fwd Avg Bytes/Bulk            float64\n",
      " 63   Fwd Avg Packets/Bulk         float64\n",
      " 64   Fwd Avg Bulk Rate            float64\n",
      " 65   Bwd Avg Bytes/Bulk           float64\n",
      " 66   Bwd Avg Packets/Bulk         float64\n",
      " 67  Bwd Avg Bulk Rate             float64\n",
      " 68  Subflow Fwd Packets           float64\n",
      " 69   Subflow Fwd Bytes            float64\n",
      " 70   Subflow Bwd Packets          float64\n",
      " 71   Subflow Bwd Bytes            float64\n",
      " 72  Init_Win_bytes_forward        float64\n",
      " 73   Init_Win_bytes_backward      float64\n",
      " 74   act_data_pkt_fwd             float64\n",
      " 75   min_seg_size_forward         float64\n",
      " 76  Active Mean                   float64\n",
      " 77   Active Std                   float64\n",
      " 78   Active Max                   float64\n",
      " 79   Active Min                   float64\n",
      " 80  Idle Mean                     float64\n",
      " 81   Idle Std                     float64\n",
      " 82   Idle Max                     float64\n",
      " 83   Idle Min                     float64\n",
      " 84   Label                        object \n",
      " 85  Class                         object \n",
      "dtypes: float64(80), object(6)\n",
      "memory usage: 1.7+ GB\n"
     ]
    }
   ],
   "source": [
    "train.info()"
   ]
  },
  {
   "cell_type": "code",
   "execution_count": 20,
   "id": "5a67ba1b-03ba-483e-af4b-cb21d7dfea99",
   "metadata": {},
   "outputs": [
    {
     "name": "stdout",
     "output_type": "stream",
     "text": [
      "<class 'pandas.core.frame.DataFrame'>\n",
      "Index: 519890 entries, 183355 to 286466\n",
      "Data columns (total 86 columns):\n",
      " #   Column                        Non-Null Count   Dtype  \n",
      "---  ------                        --------------   -----  \n",
      " 0   Flow ID                       519890 non-null  object \n",
      " 1    Source IP                    519890 non-null  object \n",
      " 2    Source Port                  519890 non-null  float64\n",
      " 3    Destination IP               519890 non-null  object \n",
      " 4    Destination Port             519890 non-null  float64\n",
      " 5    Protocol                     519890 non-null  float64\n",
      " 6    Timestamp                    519890 non-null  object \n",
      " 7    Flow Duration                519890 non-null  float64\n",
      " 8    Total Fwd Packets            519890 non-null  float64\n",
      " 9    Total Backward Packets       519890 non-null  float64\n",
      " 10  Total Length of Fwd Packets   519890 non-null  float64\n",
      " 11   Total Length of Bwd Packets  519890 non-null  float64\n",
      " 12   Fwd Packet Length Max        519890 non-null  float64\n",
      " 13   Fwd Packet Length Min        519890 non-null  float64\n",
      " 14   Fwd Packet Length Mean       519890 non-null  float64\n",
      " 15   Fwd Packet Length Std        519890 non-null  float64\n",
      " 16  Bwd Packet Length Max         519890 non-null  float64\n",
      " 17   Bwd Packet Length Min        519890 non-null  float64\n",
      " 18   Bwd Packet Length Mean       519890 non-null  float64\n",
      " 19   Bwd Packet Length Std        519890 non-null  float64\n",
      " 20  Flow Bytes/s                  519846 non-null  float64\n",
      " 21   Flow Packets/s               519890 non-null  float64\n",
      " 22   Flow IAT Mean                519890 non-null  float64\n",
      " 23   Flow IAT Std                 519890 non-null  float64\n",
      " 24   Flow IAT Max                 519890 non-null  float64\n",
      " 25   Flow IAT Min                 519890 non-null  float64\n",
      " 26  Fwd IAT Total                 519890 non-null  float64\n",
      " 27   Fwd IAT Mean                 519890 non-null  float64\n",
      " 28   Fwd IAT Std                  519890 non-null  float64\n",
      " 29   Fwd IAT Max                  519890 non-null  float64\n",
      " 30   Fwd IAT Min                  519890 non-null  float64\n",
      " 31  Bwd IAT Total                 519890 non-null  float64\n",
      " 32   Bwd IAT Mean                 519890 non-null  float64\n",
      " 33   Bwd IAT Std                  519890 non-null  float64\n",
      " 34   Bwd IAT Max                  519890 non-null  float64\n",
      " 35   Bwd IAT Min                  519890 non-null  float64\n",
      " 36  Fwd PSH Flags                 519890 non-null  float64\n",
      " 37   Bwd PSH Flags                519890 non-null  float64\n",
      " 38   Fwd URG Flags                519890 non-null  float64\n",
      " 39   Bwd URG Flags                519890 non-null  float64\n",
      " 40   Fwd Header Length            519890 non-null  float64\n",
      " 41   Bwd Header Length            519890 non-null  float64\n",
      " 42  Fwd Packets/s                 519890 non-null  float64\n",
      " 43   Bwd Packets/s                519890 non-null  float64\n",
      " 44   Min Packet Length            519890 non-null  float64\n",
      " 45   Max Packet Length            519890 non-null  float64\n",
      " 46   Packet Length Mean           519890 non-null  float64\n",
      " 47   Packet Length Std            519890 non-null  float64\n",
      " 48   Packet Length Variance       519890 non-null  float64\n",
      " 49  FIN Flag Count                519890 non-null  float64\n",
      " 50   SYN Flag Count               519890 non-null  float64\n",
      " 51   RST Flag Count               519890 non-null  float64\n",
      " 52   PSH Flag Count               519890 non-null  float64\n",
      " 53   ACK Flag Count               519890 non-null  float64\n",
      " 54   URG Flag Count               519890 non-null  float64\n",
      " 55   CWE Flag Count               519890 non-null  float64\n",
      " 56   ECE Flag Count               519890 non-null  float64\n",
      " 57   Down/Up Ratio                519890 non-null  float64\n",
      " 58   Average Packet Size          519890 non-null  float64\n",
      " 59   Avg Fwd Segment Size         519890 non-null  float64\n",
      " 60   Avg Bwd Segment Size         519890 non-null  float64\n",
      " 61   Fwd Header Length.1          519890 non-null  float64\n",
      " 62  Fwd Avg Bytes/Bulk            519890 non-null  float64\n",
      " 63   Fwd Avg Packets/Bulk         519890 non-null  float64\n",
      " 64   Fwd Avg Bulk Rate            519890 non-null  float64\n",
      " 65   Bwd Avg Bytes/Bulk           519890 non-null  float64\n",
      " 66   Bwd Avg Packets/Bulk         519890 non-null  float64\n",
      " 67  Bwd Avg Bulk Rate             519890 non-null  float64\n",
      " 68  Subflow Fwd Packets           519890 non-null  float64\n",
      " 69   Subflow Fwd Bytes            519890 non-null  float64\n",
      " 70   Subflow Bwd Packets          519890 non-null  float64\n",
      " 71   Subflow Bwd Bytes            519890 non-null  float64\n",
      " 72  Init_Win_bytes_forward        519890 non-null  float64\n",
      " 73   Init_Win_bytes_backward      519890 non-null  float64\n",
      " 74   act_data_pkt_fwd             519890 non-null  float64\n",
      " 75   min_seg_size_forward         519890 non-null  float64\n",
      " 76  Active Mean                   519890 non-null  float64\n",
      " 77   Active Std                   519890 non-null  float64\n",
      " 78   Active Max                   519890 non-null  float64\n",
      " 79   Active Min                   519890 non-null  float64\n",
      " 80  Idle Mean                     519890 non-null  float64\n",
      " 81   Idle Std                     519890 non-null  float64\n",
      " 82   Idle Max                     519890 non-null  float64\n",
      " 83   Idle Min                     519890 non-null  float64\n",
      " 84   Label                        519890 non-null  object \n",
      " 85  Class                         519890 non-null  object \n",
      "dtypes: float64(80), object(6)\n",
      "memory usage: 345.1+ MB\n"
     ]
    }
   ],
   "source": [
    "test.info()"
   ]
  },
  {
   "cell_type": "code",
   "execution_count": 21,
   "id": "0eccedc2-0481-4cba-b044-ace21fcce974",
   "metadata": {},
   "outputs": [],
   "source": [
    "def calculate_ttd(predictions, attack_intervals):\n",
    "    detection_times = {}\n",
    "    for attack_type, (start, end) in attack_intervals.items():\n",
    "        first_detection = predictions[(predictions['timestamp'] >= start) & \n",
    "                                    (predictions['timestamp'] <= end) &\n",
    "                                    (predictions['prediction'] == attack_type)]\n",
    "        if not first_detection.empty:\n",
    "            detection_times[attack_type] = (first_detection['timestamp'].iloc[0] - start).total_seconds()\n",
    "    return detection_times"
   ]
  },
  {
   "cell_type": "code",
   "execution_count": 23,
   "id": "d760f83f-6e72-44a2-a8be-be2b7953d49f",
   "metadata": {},
   "outputs": [
    {
     "ename": "ValueError",
     "evalue": "could not convert string to float: '192.168.10.5-8.254.250.126-49188-80-6'",
     "output_type": "error",
     "traceback": [
      "\u001b[0;31m---------------------------------------------------------------------------\u001b[0m",
      "\u001b[0;31mValueError\u001b[0m                                Traceback (most recent call last)",
      "\u001b[0;32m/tmp/ipykernel_119968/708496896.py\u001b[0m in \u001b[0;36m?\u001b[0;34m()\u001b[0m\n\u001b[1;32m      5\u001b[0m \u001b[0mX_train\u001b[0m \u001b[0;34m=\u001b[0m \u001b[0mtrain\u001b[0m\u001b[0;34m.\u001b[0m\u001b[0mdrop\u001b[0m\u001b[0;34m(\u001b[0m\u001b[0;34m[\u001b[0m\u001b[0;34m' Timestamp'\u001b[0m\u001b[0;34m,\u001b[0m \u001b[0;34m' Label'\u001b[0m\u001b[0;34m]\u001b[0m\u001b[0;34m,\u001b[0m \u001b[0maxis\u001b[0m\u001b[0;34m=\u001b[0m\u001b[0;36m1\u001b[0m\u001b[0;34m)\u001b[0m\u001b[0;34m\u001b[0m\u001b[0;34m\u001b[0m\u001b[0m\n\u001b[1;32m      6\u001b[0m \u001b[0;34m\u001b[0m\u001b[0m\n\u001b[1;32m      7\u001b[0m \u001b[0;31m# Training latency\u001b[0m\u001b[0;34m\u001b[0m\u001b[0;34m\u001b[0m\u001b[0m\n\u001b[1;32m      8\u001b[0m \u001b[0mstart_train\u001b[0m \u001b[0;34m=\u001b[0m \u001b[0mtime\u001b[0m\u001b[0;34m.\u001b[0m\u001b[0mtime\u001b[0m\u001b[0;34m(\u001b[0m\u001b[0;34m)\u001b[0m\u001b[0;34m\u001b[0m\u001b[0;34m\u001b[0m\u001b[0m\n\u001b[0;32m----> 9\u001b[0;31m \u001b[0mmodel\u001b[0m\u001b[0;34m.\u001b[0m\u001b[0mfit\u001b[0m\u001b[0;34m(\u001b[0m\u001b[0mX_train\u001b[0m\u001b[0;34m)\u001b[0m\u001b[0;34m\u001b[0m\u001b[0;34m\u001b[0m\u001b[0m\n\u001b[0m\u001b[1;32m     10\u001b[0m \u001b[0mtraining_latency\u001b[0m \u001b[0;34m=\u001b[0m \u001b[0mtime\u001b[0m\u001b[0;34m.\u001b[0m\u001b[0mtime\u001b[0m\u001b[0;34m(\u001b[0m\u001b[0;34m)\u001b[0m \u001b[0;34m-\u001b[0m \u001b[0mstart_train\u001b[0m\u001b[0;34m\u001b[0m\u001b[0;34m\u001b[0m\u001b[0m\n\u001b[1;32m     11\u001b[0m \u001b[0;34m\u001b[0m\u001b[0m\n\u001b[1;32m     12\u001b[0m \u001b[0;31m# Inference latency\u001b[0m\u001b[0;34m\u001b[0m\u001b[0;34m\u001b[0m\u001b[0m\n",
      "\u001b[0;32m~/Documents/git/Magistrinis/lib/python3.10/site-packages/sklearn/base.py\u001b[0m in \u001b[0;36m?\u001b[0;34m(estimator, *args, **kwargs)\u001b[0m\n\u001b[1;32m   1385\u001b[0m                 skip_parameter_validation=(\n\u001b[1;32m   1386\u001b[0m                     \u001b[0mprefer_skip_nested_validation\u001b[0m \u001b[0;32mor\u001b[0m \u001b[0mglobal_skip_validation\u001b[0m\u001b[0;34m\u001b[0m\u001b[0;34m\u001b[0m\u001b[0m\n\u001b[1;32m   1387\u001b[0m                 )\n\u001b[1;32m   1388\u001b[0m             ):\n\u001b[0;32m-> 1389\u001b[0;31m                 \u001b[0;32mreturn\u001b[0m \u001b[0mfit_method\u001b[0m\u001b[0;34m(\u001b[0m\u001b[0mestimator\u001b[0m\u001b[0;34m,\u001b[0m \u001b[0;34m*\u001b[0m\u001b[0margs\u001b[0m\u001b[0;34m,\u001b[0m \u001b[0;34m**\u001b[0m\u001b[0mkwargs\u001b[0m\u001b[0;34m)\u001b[0m\u001b[0;34m\u001b[0m\u001b[0;34m\u001b[0m\u001b[0m\n\u001b[0m",
      "\u001b[0;32m~/Documents/git/Magistrinis/lib/python3.10/site-packages/sklearn/ensemble/_iforest.py\u001b[0m in \u001b[0;36m?\u001b[0;34m(self, X, y, sample_weight)\u001b[0m\n\u001b[1;32m    313\u001b[0m         \u001b[0;34m-\u001b[0m\u001b[0;34m-\u001b[0m\u001b[0;34m-\u001b[0m\u001b[0;34m-\u001b[0m\u001b[0;34m-\u001b[0m\u001b[0;34m-\u001b[0m\u001b[0;34m-\u001b[0m\u001b[0;34m\u001b[0m\u001b[0;34m\u001b[0m\u001b[0m\n\u001b[1;32m    314\u001b[0m         \u001b[0mself\u001b[0m \u001b[0;34m:\u001b[0m \u001b[0mobject\u001b[0m\u001b[0;34m\u001b[0m\u001b[0;34m\u001b[0m\u001b[0m\n\u001b[1;32m    315\u001b[0m             \u001b[0mFitted\u001b[0m \u001b[0mestimator\u001b[0m\u001b[0;34m.\u001b[0m\u001b[0;34m\u001b[0m\u001b[0;34m\u001b[0m\u001b[0m\n\u001b[1;32m    316\u001b[0m         \"\"\"\n\u001b[0;32m--> 317\u001b[0;31m         X = validate_data(\n\u001b[0m\u001b[1;32m    318\u001b[0m             \u001b[0mself\u001b[0m\u001b[0;34m,\u001b[0m \u001b[0mX\u001b[0m\u001b[0;34m,\u001b[0m \u001b[0maccept_sparse\u001b[0m\u001b[0;34m=\u001b[0m\u001b[0;34m[\u001b[0m\u001b[0;34m\"csc\"\u001b[0m\u001b[0;34m]\u001b[0m\u001b[0;34m,\u001b[0m \u001b[0mdtype\u001b[0m\u001b[0;34m=\u001b[0m\u001b[0mtree_dtype\u001b[0m\u001b[0;34m,\u001b[0m \u001b[0mensure_all_finite\u001b[0m\u001b[0;34m=\u001b[0m\u001b[0;32mFalse\u001b[0m\u001b[0;34m\u001b[0m\u001b[0;34m\u001b[0m\u001b[0m\n\u001b[1;32m    319\u001b[0m         )\n\u001b[1;32m    320\u001b[0m         \u001b[0;32mif\u001b[0m \u001b[0missparse\u001b[0m\u001b[0;34m(\u001b[0m\u001b[0mX\u001b[0m\u001b[0;34m)\u001b[0m\u001b[0;34m:\u001b[0m\u001b[0;34m\u001b[0m\u001b[0;34m\u001b[0m\u001b[0m\n",
      "\u001b[0;32m~/Documents/git/Magistrinis/lib/python3.10/site-packages/sklearn/utils/validation.py\u001b[0m in \u001b[0;36m?\u001b[0;34m(_estimator, X, y, reset, validate_separately, skip_check_array, **check_params)\u001b[0m\n\u001b[1;32m   2940\u001b[0m             \u001b[0mout\u001b[0m \u001b[0;34m=\u001b[0m \u001b[0my\u001b[0m\u001b[0;34m\u001b[0m\u001b[0;34m\u001b[0m\u001b[0m\n\u001b[1;32m   2941\u001b[0m         \u001b[0;32melse\u001b[0m\u001b[0;34m:\u001b[0m\u001b[0;34m\u001b[0m\u001b[0;34m\u001b[0m\u001b[0m\n\u001b[1;32m   2942\u001b[0m             \u001b[0mout\u001b[0m \u001b[0;34m=\u001b[0m \u001b[0mX\u001b[0m\u001b[0;34m,\u001b[0m \u001b[0my\u001b[0m\u001b[0;34m\u001b[0m\u001b[0;34m\u001b[0m\u001b[0m\n\u001b[1;32m   2943\u001b[0m     \u001b[0;32melif\u001b[0m \u001b[0;32mnot\u001b[0m \u001b[0mno_val_X\u001b[0m \u001b[0;32mand\u001b[0m \u001b[0mno_val_y\u001b[0m\u001b[0;34m:\u001b[0m\u001b[0;34m\u001b[0m\u001b[0;34m\u001b[0m\u001b[0m\n\u001b[0;32m-> 2944\u001b[0;31m         \u001b[0mout\u001b[0m \u001b[0;34m=\u001b[0m \u001b[0mcheck_array\u001b[0m\u001b[0;34m(\u001b[0m\u001b[0mX\u001b[0m\u001b[0;34m,\u001b[0m \u001b[0minput_name\u001b[0m\u001b[0;34m=\u001b[0m\u001b[0;34m\"X\"\u001b[0m\u001b[0;34m,\u001b[0m \u001b[0;34m**\u001b[0m\u001b[0mcheck_params\u001b[0m\u001b[0;34m)\u001b[0m\u001b[0;34m\u001b[0m\u001b[0;34m\u001b[0m\u001b[0m\n\u001b[0m\u001b[1;32m   2945\u001b[0m     \u001b[0;32melif\u001b[0m \u001b[0mno_val_X\u001b[0m \u001b[0;32mand\u001b[0m \u001b[0;32mnot\u001b[0m \u001b[0mno_val_y\u001b[0m\u001b[0;34m:\u001b[0m\u001b[0;34m\u001b[0m\u001b[0;34m\u001b[0m\u001b[0m\n\u001b[1;32m   2946\u001b[0m         \u001b[0mout\u001b[0m \u001b[0;34m=\u001b[0m \u001b[0m_check_y\u001b[0m\u001b[0;34m(\u001b[0m\u001b[0my\u001b[0m\u001b[0;34m,\u001b[0m \u001b[0;34m**\u001b[0m\u001b[0mcheck_params\u001b[0m\u001b[0;34m)\u001b[0m\u001b[0;34m\u001b[0m\u001b[0;34m\u001b[0m\u001b[0m\n\u001b[1;32m   2947\u001b[0m     \u001b[0;32melse\u001b[0m\u001b[0;34m:\u001b[0m\u001b[0;34m\u001b[0m\u001b[0;34m\u001b[0m\u001b[0m\n",
      "\u001b[0;32m~/Documents/git/Magistrinis/lib/python3.10/site-packages/sklearn/utils/validation.py\u001b[0m in \u001b[0;36m?\u001b[0;34m(array, accept_sparse, accept_large_sparse, dtype, order, copy, force_writeable, force_all_finite, ensure_all_finite, ensure_non_negative, ensure_2d, allow_nd, ensure_min_samples, ensure_min_features, estimator, input_name)\u001b[0m\n\u001b[1;32m   1052\u001b[0m                         )\n\u001b[1;32m   1053\u001b[0m                     \u001b[0marray\u001b[0m \u001b[0;34m=\u001b[0m \u001b[0mxp\u001b[0m\u001b[0;34m.\u001b[0m\u001b[0mastype\u001b[0m\u001b[0;34m(\u001b[0m\u001b[0marray\u001b[0m\u001b[0;34m,\u001b[0m \u001b[0mdtype\u001b[0m\u001b[0;34m,\u001b[0m \u001b[0mcopy\u001b[0m\u001b[0;34m=\u001b[0m\u001b[0;32mFalse\u001b[0m\u001b[0;34m)\u001b[0m\u001b[0;34m\u001b[0m\u001b[0;34m\u001b[0m\u001b[0m\n\u001b[1;32m   1054\u001b[0m                 \u001b[0;32melse\u001b[0m\u001b[0;34m:\u001b[0m\u001b[0;34m\u001b[0m\u001b[0;34m\u001b[0m\u001b[0m\n\u001b[1;32m   1055\u001b[0m                     \u001b[0marray\u001b[0m \u001b[0;34m=\u001b[0m \u001b[0m_asarray_with_order\u001b[0m\u001b[0;34m(\u001b[0m\u001b[0marray\u001b[0m\u001b[0;34m,\u001b[0m \u001b[0morder\u001b[0m\u001b[0;34m=\u001b[0m\u001b[0morder\u001b[0m\u001b[0;34m,\u001b[0m \u001b[0mdtype\u001b[0m\u001b[0;34m=\u001b[0m\u001b[0mdtype\u001b[0m\u001b[0;34m,\u001b[0m \u001b[0mxp\u001b[0m\u001b[0;34m=\u001b[0m\u001b[0mxp\u001b[0m\u001b[0;34m)\u001b[0m\u001b[0;34m\u001b[0m\u001b[0;34m\u001b[0m\u001b[0m\n\u001b[0;32m-> 1056\u001b[0;31m             \u001b[0;32mexcept\u001b[0m \u001b[0mComplexWarning\u001b[0m \u001b[0;32mas\u001b[0m \u001b[0mcomplex_warning\u001b[0m\u001b[0;34m:\u001b[0m\u001b[0;34m\u001b[0m\u001b[0;34m\u001b[0m\u001b[0m\n\u001b[0m\u001b[1;32m   1057\u001b[0m                 raise ValueError(\n\u001b[1;32m   1058\u001b[0m                     \u001b[0;34m\"Complex data not supported\\n{}\\n\"\u001b[0m\u001b[0;34m.\u001b[0m\u001b[0mformat\u001b[0m\u001b[0;34m(\u001b[0m\u001b[0marray\u001b[0m\u001b[0;34m)\u001b[0m\u001b[0;34m\u001b[0m\u001b[0;34m\u001b[0m\u001b[0m\n\u001b[1;32m   1059\u001b[0m                 ) from complex_warning\n",
      "\u001b[0;32m~/Documents/git/Magistrinis/lib/python3.10/site-packages/sklearn/utils/_array_api.py\u001b[0m in \u001b[0;36m?\u001b[0;34m(array, dtype, order, copy, xp, device)\u001b[0m\n\u001b[1;32m    835\u001b[0m         \u001b[0;31m# Use NumPy API to support order\u001b[0m\u001b[0;34m\u001b[0m\u001b[0;34m\u001b[0m\u001b[0m\n\u001b[1;32m    836\u001b[0m         \u001b[0;32mif\u001b[0m \u001b[0mcopy\u001b[0m \u001b[0;32mis\u001b[0m \u001b[0;32mTrue\u001b[0m\u001b[0;34m:\u001b[0m\u001b[0;34m\u001b[0m\u001b[0;34m\u001b[0m\u001b[0m\n\u001b[1;32m    837\u001b[0m             \u001b[0marray\u001b[0m \u001b[0;34m=\u001b[0m \u001b[0mnumpy\u001b[0m\u001b[0;34m.\u001b[0m\u001b[0marray\u001b[0m\u001b[0;34m(\u001b[0m\u001b[0marray\u001b[0m\u001b[0;34m,\u001b[0m \u001b[0morder\u001b[0m\u001b[0;34m=\u001b[0m\u001b[0morder\u001b[0m\u001b[0;34m,\u001b[0m \u001b[0mdtype\u001b[0m\u001b[0;34m=\u001b[0m\u001b[0mdtype\u001b[0m\u001b[0;34m)\u001b[0m\u001b[0;34m\u001b[0m\u001b[0;34m\u001b[0m\u001b[0m\n\u001b[1;32m    838\u001b[0m         \u001b[0;32melse\u001b[0m\u001b[0;34m:\u001b[0m\u001b[0;34m\u001b[0m\u001b[0;34m\u001b[0m\u001b[0m\n\u001b[0;32m--> 839\u001b[0;31m             \u001b[0marray\u001b[0m \u001b[0;34m=\u001b[0m \u001b[0mnumpy\u001b[0m\u001b[0;34m.\u001b[0m\u001b[0masarray\u001b[0m\u001b[0;34m(\u001b[0m\u001b[0marray\u001b[0m\u001b[0;34m,\u001b[0m \u001b[0morder\u001b[0m\u001b[0;34m=\u001b[0m\u001b[0morder\u001b[0m\u001b[0;34m,\u001b[0m \u001b[0mdtype\u001b[0m\u001b[0;34m=\u001b[0m\u001b[0mdtype\u001b[0m\u001b[0;34m)\u001b[0m\u001b[0;34m\u001b[0m\u001b[0;34m\u001b[0m\u001b[0m\n\u001b[0m\u001b[1;32m    840\u001b[0m \u001b[0;34m\u001b[0m\u001b[0m\n\u001b[1;32m    841\u001b[0m         \u001b[0;31m# At this point array is a NumPy ndarray. We convert it to an array\u001b[0m\u001b[0;34m\u001b[0m\u001b[0;34m\u001b[0m\u001b[0m\n\u001b[1;32m    842\u001b[0m         \u001b[0;31m# container that is consistent with the input's namespace.\u001b[0m\u001b[0;34m\u001b[0m\u001b[0;34m\u001b[0m\u001b[0m\n",
      "\u001b[0;32m~/Documents/git/Magistrinis/lib/python3.10/site-packages/pandas/core/generic.py\u001b[0m in \u001b[0;36m?\u001b[0;34m(self, dtype, copy)\u001b[0m\n\u001b[1;32m   2149\u001b[0m     def __array__(\n\u001b[1;32m   2150\u001b[0m         \u001b[0mself\u001b[0m\u001b[0;34m,\u001b[0m \u001b[0mdtype\u001b[0m\u001b[0;34m:\u001b[0m \u001b[0mnpt\u001b[0m\u001b[0;34m.\u001b[0m\u001b[0mDTypeLike\u001b[0m \u001b[0;34m|\u001b[0m \u001b[0;32mNone\u001b[0m \u001b[0;34m=\u001b[0m \u001b[0;32mNone\u001b[0m\u001b[0;34m,\u001b[0m \u001b[0mcopy\u001b[0m\u001b[0;34m:\u001b[0m \u001b[0mbool_t\u001b[0m \u001b[0;34m|\u001b[0m \u001b[0;32mNone\u001b[0m \u001b[0;34m=\u001b[0m \u001b[0;32mNone\u001b[0m\u001b[0;34m\u001b[0m\u001b[0;34m\u001b[0m\u001b[0m\n\u001b[1;32m   2151\u001b[0m     ) -> np.ndarray:\n\u001b[1;32m   2152\u001b[0m         \u001b[0mvalues\u001b[0m \u001b[0;34m=\u001b[0m \u001b[0mself\u001b[0m\u001b[0;34m.\u001b[0m\u001b[0m_values\u001b[0m\u001b[0;34m\u001b[0m\u001b[0;34m\u001b[0m\u001b[0m\n\u001b[0;32m-> 2153\u001b[0;31m         \u001b[0marr\u001b[0m \u001b[0;34m=\u001b[0m \u001b[0mnp\u001b[0m\u001b[0;34m.\u001b[0m\u001b[0masarray\u001b[0m\u001b[0;34m(\u001b[0m\u001b[0mvalues\u001b[0m\u001b[0;34m,\u001b[0m \u001b[0mdtype\u001b[0m\u001b[0;34m=\u001b[0m\u001b[0mdtype\u001b[0m\u001b[0;34m)\u001b[0m\u001b[0;34m\u001b[0m\u001b[0;34m\u001b[0m\u001b[0m\n\u001b[0m\u001b[1;32m   2154\u001b[0m         if (\n\u001b[1;32m   2155\u001b[0m             \u001b[0mastype_is_view\u001b[0m\u001b[0;34m(\u001b[0m\u001b[0mvalues\u001b[0m\u001b[0;34m.\u001b[0m\u001b[0mdtype\u001b[0m\u001b[0;34m,\u001b[0m \u001b[0marr\u001b[0m\u001b[0;34m.\u001b[0m\u001b[0mdtype\u001b[0m\u001b[0;34m)\u001b[0m\u001b[0;34m\u001b[0m\u001b[0;34m\u001b[0m\u001b[0m\n\u001b[1;32m   2156\u001b[0m             \u001b[0;32mand\u001b[0m \u001b[0musing_copy_on_write\u001b[0m\u001b[0;34m(\u001b[0m\u001b[0;34m)\u001b[0m\u001b[0;34m\u001b[0m\u001b[0;34m\u001b[0m\u001b[0m\n",
      "\u001b[0;31mValueError\u001b[0m: could not convert string to float: '192.168.10.5-8.254.250.126-49188-80-6'"
     ]
    }
   ],
   "source": [
    "from sklearn.ensemble import IsolationForest\n",
    "import time\n",
    "\n",
    "model = IsolationForest(contamination=0.01)\n",
    "X_train = train.drop([' Timestamp', ' Label'], axis=1)\n",
    "\n",
    "# Training latency\n",
    "start_train = time.time()\n",
    "model.fit(X_train)\n",
    "training_latency = time.time() - start_train\n",
    "\n",
    "# Inference latency\n",
    "test_batch = test.sample(1000)\n",
    "start_infer = time.time()\n",
    "preds = model.predict(test_batch.drop([' Timestamp', ' Label'], axis=1))\n",
    "inference_latency = (time.time() - start_infer)/1000  # per-instance"
   ]
  },
  {
   "cell_type": "code",
   "execution_count": null,
   "id": "fd9d5b1b-93aa-4d89-bc9b-ac3267392c23",
   "metadata": {},
   "outputs": [],
   "source": []
  }
 ],
 "metadata": {
  "kernelspec": {
   "display_name": "Python 3 (ipykernel)",
   "language": "python",
   "name": "python3"
  },
  "language_info": {
   "codemirror_mode": {
    "name": "ipython",
    "version": 3
   },
   "file_extension": ".py",
   "mimetype": "text/x-python",
   "name": "python",
   "nbconvert_exporter": "python",
   "pygments_lexer": "ipython3",
   "version": "3.10.16"
  }
 },
 "nbformat": 4,
 "nbformat_minor": 5
}
